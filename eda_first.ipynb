{
  "cells": [
    {
      "cell_type": "markdown",
      "metadata": {
        "id": "view-in-github",
        "colab_type": "text"
      },
      "source": [
        "<a href=\"https://colab.research.google.com/github/syedhumarahim/cloudhostednb/blob/main/eda_first.ipynb\" target=\"_parent\"><img src=\"https://colab.research.google.com/assets/colab-badge.svg\" alt=\"Open In Colab\"/></a>"
      ]
    },
    {
      "cell_type": "code",
      "execution_count": null,
      "metadata": {
        "id": "I4ps1lJpaY1Y"
      },
      "outputs": [],
      "source": [
        "import pandas as pd"
      ]
    },
    {
      "cell_type": "code",
      "execution_count": null,
      "metadata": {
        "id": "xSbz2oMOaY1Z"
      },
      "outputs": [],
      "source": [
        "df = pd.read_csv(\"data/heart_attack_prediction_dataset.csv\")"
      ]
    },
    {
      "cell_type": "code",
      "execution_count": null,
      "metadata": {
        "id": "moS1Dk7daY1Z",
        "outputId": "7a8ffdb1-fe08-4828-b75b-f32d04d27a5d"
      },
      "outputs": [
        {
          "data": {
            "text/plain": [
              "Index(['Patient ID', 'Age', 'Sex', 'Cholesterol', 'Blood Pressure',\n",
              "       'Heart Rate', 'Diabetes', 'Family History', 'Smoking', 'Obesity',\n",
              "       'Alcohol Consumption', 'Exercise Hours Per Week', 'Diet',\n",
              "       'Previous Heart Problems', 'Medication Use', 'Stress Level',\n",
              "       'Sedentary Hours Per Day', 'Income', 'BMI', 'Triglycerides',\n",
              "       'Physical Activity Days Per Week', 'Sleep Hours Per Day', 'Country',\n",
              "       'Continent', 'Hemisphere', 'Heart Attack Risk'],\n",
              "      dtype='object')"
            ]
          },
          "execution_count": 3,
          "metadata": {},
          "output_type": "execute_result"
        }
      ],
      "source": [
        "df.columns"
      ]
    },
    {
      "cell_type": "code",
      "execution_count": null,
      "metadata": {
        "id": "G5rK-ygHaY1a",
        "outputId": "be70b974-7829-4161-b34d-c7af143ea356"
      },
      "outputs": [
        {
          "data": {
            "text/html": [
              "<div>\n",
              "<style scoped>\n",
              "    .dataframe tbody tr th:only-of-type {\n",
              "        vertical-align: middle;\n",
              "    }\n",
              "\n",
              "    .dataframe tbody tr th {\n",
              "        vertical-align: top;\n",
              "    }\n",
              "\n",
              "    .dataframe thead th {\n",
              "        text-align: right;\n",
              "    }\n",
              "</style>\n",
              "<table border=\"1\" class=\"dataframe\">\n",
              "  <thead>\n",
              "    <tr style=\"text-align: right;\">\n",
              "      <th></th>\n",
              "      <th>Patient ID</th>\n",
              "      <th>Age</th>\n",
              "      <th>Sex</th>\n",
              "      <th>Cholesterol</th>\n",
              "      <th>Blood Pressure</th>\n",
              "      <th>Heart Rate</th>\n",
              "      <th>Diabetes</th>\n",
              "      <th>Family History</th>\n",
              "      <th>Smoking</th>\n",
              "      <th>Obesity</th>\n",
              "      <th>...</th>\n",
              "      <th>Sedentary Hours Per Day</th>\n",
              "      <th>Income</th>\n",
              "      <th>BMI</th>\n",
              "      <th>Triglycerides</th>\n",
              "      <th>Physical Activity Days Per Week</th>\n",
              "      <th>Sleep Hours Per Day</th>\n",
              "      <th>Country</th>\n",
              "      <th>Continent</th>\n",
              "      <th>Hemisphere</th>\n",
              "      <th>Heart Attack Risk</th>\n",
              "    </tr>\n",
              "  </thead>\n",
              "  <tbody>\n",
              "    <tr>\n",
              "      <th>0</th>\n",
              "      <td>BMW7812</td>\n",
              "      <td>67</td>\n",
              "      <td>Male</td>\n",
              "      <td>208</td>\n",
              "      <td>158/88</td>\n",
              "      <td>72</td>\n",
              "      <td>0</td>\n",
              "      <td>0</td>\n",
              "      <td>1</td>\n",
              "      <td>0</td>\n",
              "      <td>...</td>\n",
              "      <td>6.615001</td>\n",
              "      <td>261404</td>\n",
              "      <td>31.251233</td>\n",
              "      <td>286</td>\n",
              "      <td>0</td>\n",
              "      <td>6</td>\n",
              "      <td>Argentina</td>\n",
              "      <td>South America</td>\n",
              "      <td>Southern Hemisphere</td>\n",
              "      <td>0</td>\n",
              "    </tr>\n",
              "    <tr>\n",
              "      <th>1</th>\n",
              "      <td>CZE1114</td>\n",
              "      <td>21</td>\n",
              "      <td>Male</td>\n",
              "      <td>389</td>\n",
              "      <td>165/93</td>\n",
              "      <td>98</td>\n",
              "      <td>1</td>\n",
              "      <td>1</td>\n",
              "      <td>1</td>\n",
              "      <td>1</td>\n",
              "      <td>...</td>\n",
              "      <td>4.963459</td>\n",
              "      <td>285768</td>\n",
              "      <td>27.194973</td>\n",
              "      <td>235</td>\n",
              "      <td>1</td>\n",
              "      <td>7</td>\n",
              "      <td>Canada</td>\n",
              "      <td>North America</td>\n",
              "      <td>Northern Hemisphere</td>\n",
              "      <td>0</td>\n",
              "    </tr>\n",
              "    <tr>\n",
              "      <th>2</th>\n",
              "      <td>BNI9906</td>\n",
              "      <td>21</td>\n",
              "      <td>Female</td>\n",
              "      <td>324</td>\n",
              "      <td>174/99</td>\n",
              "      <td>72</td>\n",
              "      <td>1</td>\n",
              "      <td>0</td>\n",
              "      <td>0</td>\n",
              "      <td>0</td>\n",
              "      <td>...</td>\n",
              "      <td>9.463426</td>\n",
              "      <td>235282</td>\n",
              "      <td>28.176571</td>\n",
              "      <td>587</td>\n",
              "      <td>4</td>\n",
              "      <td>4</td>\n",
              "      <td>France</td>\n",
              "      <td>Europe</td>\n",
              "      <td>Northern Hemisphere</td>\n",
              "      <td>0</td>\n",
              "    </tr>\n",
              "    <tr>\n",
              "      <th>3</th>\n",
              "      <td>JLN3497</td>\n",
              "      <td>84</td>\n",
              "      <td>Male</td>\n",
              "      <td>383</td>\n",
              "      <td>163/100</td>\n",
              "      <td>73</td>\n",
              "      <td>1</td>\n",
              "      <td>1</td>\n",
              "      <td>1</td>\n",
              "      <td>0</td>\n",
              "      <td>...</td>\n",
              "      <td>7.648981</td>\n",
              "      <td>125640</td>\n",
              "      <td>36.464704</td>\n",
              "      <td>378</td>\n",
              "      <td>3</td>\n",
              "      <td>4</td>\n",
              "      <td>Canada</td>\n",
              "      <td>North America</td>\n",
              "      <td>Northern Hemisphere</td>\n",
              "      <td>0</td>\n",
              "    </tr>\n",
              "    <tr>\n",
              "      <th>4</th>\n",
              "      <td>GFO8847</td>\n",
              "      <td>66</td>\n",
              "      <td>Male</td>\n",
              "      <td>318</td>\n",
              "      <td>91/88</td>\n",
              "      <td>93</td>\n",
              "      <td>1</td>\n",
              "      <td>1</td>\n",
              "      <td>1</td>\n",
              "      <td>1</td>\n",
              "      <td>...</td>\n",
              "      <td>1.514821</td>\n",
              "      <td>160555</td>\n",
              "      <td>21.809144</td>\n",
              "      <td>231</td>\n",
              "      <td>1</td>\n",
              "      <td>5</td>\n",
              "      <td>Thailand</td>\n",
              "      <td>Asia</td>\n",
              "      <td>Northern Hemisphere</td>\n",
              "      <td>0</td>\n",
              "    </tr>\n",
              "  </tbody>\n",
              "</table>\n",
              "<p>5 rows × 26 columns</p>\n",
              "</div>"
            ],
            "text/plain": [
              "  Patient ID  Age     Sex  Cholesterol Blood Pressure  Heart Rate  Diabetes  \\\n",
              "0    BMW7812   67    Male          208         158/88          72         0   \n",
              "1    CZE1114   21    Male          389         165/93          98         1   \n",
              "2    BNI9906   21  Female          324         174/99          72         1   \n",
              "3    JLN3497   84    Male          383        163/100          73         1   \n",
              "4    GFO8847   66    Male          318          91/88          93         1   \n",
              "\n",
              "   Family History  Smoking  Obesity  ...  Sedentary Hours Per Day  Income  \\\n",
              "0               0        1        0  ...                 6.615001  261404   \n",
              "1               1        1        1  ...                 4.963459  285768   \n",
              "2               0        0        0  ...                 9.463426  235282   \n",
              "3               1        1        0  ...                 7.648981  125640   \n",
              "4               1        1        1  ...                 1.514821  160555   \n",
              "\n",
              "         BMI  Triglycerides  Physical Activity Days Per Week  \\\n",
              "0  31.251233            286                                0   \n",
              "1  27.194973            235                                1   \n",
              "2  28.176571            587                                4   \n",
              "3  36.464704            378                                3   \n",
              "4  21.809144            231                                1   \n",
              "\n",
              "   Sleep Hours Per Day    Country      Continent           Hemisphere  \\\n",
              "0                    6  Argentina  South America  Southern Hemisphere   \n",
              "1                    7     Canada  North America  Northern Hemisphere   \n",
              "2                    4     France         Europe  Northern Hemisphere   \n",
              "3                    4     Canada  North America  Northern Hemisphere   \n",
              "4                    5   Thailand           Asia  Northern Hemisphere   \n",
              "\n",
              "   Heart Attack Risk  \n",
              "0                  0  \n",
              "1                  0  \n",
              "2                  0  \n",
              "3                  0  \n",
              "4                  0  \n",
              "\n",
              "[5 rows x 26 columns]"
            ]
          },
          "execution_count": 4,
          "metadata": {},
          "output_type": "execute_result"
        }
      ],
      "source": [
        "df.head()"
      ]
    },
    {
      "cell_type": "code",
      "execution_count": null,
      "metadata": {
        "id": "Nfq8fJB4aY1b",
        "outputId": "87056c40-cdc7-4a55-8dbc-d4a5bc1e1606"
      },
      "outputs": [
        {
          "data": {
            "application/vnd.plotly.v1+json": {
              "config": {
                "plotlyServerURL": "https://plot.ly"
              },
              "data": [
                {
                  "alignmentgroup": "True",
                  "hovertemplate": "Hemisphere=%{x}<br>Number of People=%{y}<br>Heart Attack Risk (0 = No, 1 = Yes)=%{marker.color}<extra></extra>",
                  "legendgroup": "",
                  "marker": {
                    "color": [
                      0,
                      1,
                      0,
                      1
                    ],
                    "coloraxis": "coloraxis",
                    "pattern": {
                      "shape": ""
                    }
                  },
                  "name": "",
                  "offsetgroup": "",
                  "orientation": "v",
                  "showlegend": false,
                  "textposition": "auto",
                  "type": "bar",
                  "x": [
                    "Northern Hemisphere",
                    "Northern Hemisphere",
                    "Southern Hemisphere",
                    "Southern Hemisphere"
                  ],
                  "xaxis": "x",
                  "y": [
                    3607,
                    2053,
                    2017,
                    1086
                  ],
                  "yaxis": "y"
                }
              ],
              "layout": {
                "barmode": "stack",
                "coloraxis": {
                  "colorbar": {
                    "title": {
                      "text": "Heart Attack Risk (0 = No, 1 = Yes)"
                    }
                  },
                  "colorscale": [
                    [
                      0,
                      "#0d0887"
                    ],
                    [
                      0.1111111111111111,
                      "#46039f"
                    ],
                    [
                      0.2222222222222222,
                      "#7201a8"
                    ],
                    [
                      0.3333333333333333,
                      "#9c179e"
                    ],
                    [
                      0.4444444444444444,
                      "#bd3786"
                    ],
                    [
                      0.5555555555555556,
                      "#d8576b"
                    ],
                    [
                      0.6666666666666666,
                      "#ed7953"
                    ],
                    [
                      0.7777777777777778,
                      "#fb9f3a"
                    ],
                    [
                      0.8888888888888888,
                      "#fdca26"
                    ],
                    [
                      1,
                      "#f0f921"
                    ]
                  ]
                },
                "legend": {
                  "tracegroupgap": 0
                },
                "template": {
                  "data": {
                    "bar": [
                      {
                        "error_x": {
                          "color": "#2a3f5f"
                        },
                        "error_y": {
                          "color": "#2a3f5f"
                        },
                        "marker": {
                          "line": {
                            "color": "#E5ECF6",
                            "width": 0.5
                          },
                          "pattern": {
                            "fillmode": "overlay",
                            "size": 10,
                            "solidity": 0.2
                          }
                        },
                        "type": "bar"
                      }
                    ],
                    "barpolar": [
                      {
                        "marker": {
                          "line": {
                            "color": "#E5ECF6",
                            "width": 0.5
                          },
                          "pattern": {
                            "fillmode": "overlay",
                            "size": 10,
                            "solidity": 0.2
                          }
                        },
                        "type": "barpolar"
                      }
                    ],
                    "carpet": [
                      {
                        "aaxis": {
                          "endlinecolor": "#2a3f5f",
                          "gridcolor": "white",
                          "linecolor": "white",
                          "minorgridcolor": "white",
                          "startlinecolor": "#2a3f5f"
                        },
                        "baxis": {
                          "endlinecolor": "#2a3f5f",
                          "gridcolor": "white",
                          "linecolor": "white",
                          "minorgridcolor": "white",
                          "startlinecolor": "#2a3f5f"
                        },
                        "type": "carpet"
                      }
                    ],
                    "choropleth": [
                      {
                        "colorbar": {
                          "outlinewidth": 0,
                          "ticks": ""
                        },
                        "type": "choropleth"
                      }
                    ],
                    "contour": [
                      {
                        "colorbar": {
                          "outlinewidth": 0,
                          "ticks": ""
                        },
                        "colorscale": [
                          [
                            0,
                            "#0d0887"
                          ],
                          [
                            0.1111111111111111,
                            "#46039f"
                          ],
                          [
                            0.2222222222222222,
                            "#7201a8"
                          ],
                          [
                            0.3333333333333333,
                            "#9c179e"
                          ],
                          [
                            0.4444444444444444,
                            "#bd3786"
                          ],
                          [
                            0.5555555555555556,
                            "#d8576b"
                          ],
                          [
                            0.6666666666666666,
                            "#ed7953"
                          ],
                          [
                            0.7777777777777778,
                            "#fb9f3a"
                          ],
                          [
                            0.8888888888888888,
                            "#fdca26"
                          ],
                          [
                            1,
                            "#f0f921"
                          ]
                        ],
                        "type": "contour"
                      }
                    ],
                    "contourcarpet": [
                      {
                        "colorbar": {
                          "outlinewidth": 0,
                          "ticks": ""
                        },
                        "type": "contourcarpet"
                      }
                    ],
                    "heatmap": [
                      {
                        "colorbar": {
                          "outlinewidth": 0,
                          "ticks": ""
                        },
                        "colorscale": [
                          [
                            0,
                            "#0d0887"
                          ],
                          [
                            0.1111111111111111,
                            "#46039f"
                          ],
                          [
                            0.2222222222222222,
                            "#7201a8"
                          ],
                          [
                            0.3333333333333333,
                            "#9c179e"
                          ],
                          [
                            0.4444444444444444,
                            "#bd3786"
                          ],
                          [
                            0.5555555555555556,
                            "#d8576b"
                          ],
                          [
                            0.6666666666666666,
                            "#ed7953"
                          ],
                          [
                            0.7777777777777778,
                            "#fb9f3a"
                          ],
                          [
                            0.8888888888888888,
                            "#fdca26"
                          ],
                          [
                            1,
                            "#f0f921"
                          ]
                        ],
                        "type": "heatmap"
                      }
                    ],
                    "heatmapgl": [
                      {
                        "colorbar": {
                          "outlinewidth": 0,
                          "ticks": ""
                        },
                        "colorscale": [
                          [
                            0,
                            "#0d0887"
                          ],
                          [
                            0.1111111111111111,
                            "#46039f"
                          ],
                          [
                            0.2222222222222222,
                            "#7201a8"
                          ],
                          [
                            0.3333333333333333,
                            "#9c179e"
                          ],
                          [
                            0.4444444444444444,
                            "#bd3786"
                          ],
                          [
                            0.5555555555555556,
                            "#d8576b"
                          ],
                          [
                            0.6666666666666666,
                            "#ed7953"
                          ],
                          [
                            0.7777777777777778,
                            "#fb9f3a"
                          ],
                          [
                            0.8888888888888888,
                            "#fdca26"
                          ],
                          [
                            1,
                            "#f0f921"
                          ]
                        ],
                        "type": "heatmapgl"
                      }
                    ],
                    "histogram": [
                      {
                        "marker": {
                          "pattern": {
                            "fillmode": "overlay",
                            "size": 10,
                            "solidity": 0.2
                          }
                        },
                        "type": "histogram"
                      }
                    ],
                    "histogram2d": [
                      {
                        "colorbar": {
                          "outlinewidth": 0,
                          "ticks": ""
                        },
                        "colorscale": [
                          [
                            0,
                            "#0d0887"
                          ],
                          [
                            0.1111111111111111,
                            "#46039f"
                          ],
                          [
                            0.2222222222222222,
                            "#7201a8"
                          ],
                          [
                            0.3333333333333333,
                            "#9c179e"
                          ],
                          [
                            0.4444444444444444,
                            "#bd3786"
                          ],
                          [
                            0.5555555555555556,
                            "#d8576b"
                          ],
                          [
                            0.6666666666666666,
                            "#ed7953"
                          ],
                          [
                            0.7777777777777778,
                            "#fb9f3a"
                          ],
                          [
                            0.8888888888888888,
                            "#fdca26"
                          ],
                          [
                            1,
                            "#f0f921"
                          ]
                        ],
                        "type": "histogram2d"
                      }
                    ],
                    "histogram2dcontour": [
                      {
                        "colorbar": {
                          "outlinewidth": 0,
                          "ticks": ""
                        },
                        "colorscale": [
                          [
                            0,
                            "#0d0887"
                          ],
                          [
                            0.1111111111111111,
                            "#46039f"
                          ],
                          [
                            0.2222222222222222,
                            "#7201a8"
                          ],
                          [
                            0.3333333333333333,
                            "#9c179e"
                          ],
                          [
                            0.4444444444444444,
                            "#bd3786"
                          ],
                          [
                            0.5555555555555556,
                            "#d8576b"
                          ],
                          [
                            0.6666666666666666,
                            "#ed7953"
                          ],
                          [
                            0.7777777777777778,
                            "#fb9f3a"
                          ],
                          [
                            0.8888888888888888,
                            "#fdca26"
                          ],
                          [
                            1,
                            "#f0f921"
                          ]
                        ],
                        "type": "histogram2dcontour"
                      }
                    ],
                    "mesh3d": [
                      {
                        "colorbar": {
                          "outlinewidth": 0,
                          "ticks": ""
                        },
                        "type": "mesh3d"
                      }
                    ],
                    "parcoords": [
                      {
                        "line": {
                          "colorbar": {
                            "outlinewidth": 0,
                            "ticks": ""
                          }
                        },
                        "type": "parcoords"
                      }
                    ],
                    "pie": [
                      {
                        "automargin": true,
                        "type": "pie"
                      }
                    ],
                    "scatter": [
                      {
                        "fillpattern": {
                          "fillmode": "overlay",
                          "size": 10,
                          "solidity": 0.2
                        },
                        "type": "scatter"
                      }
                    ],
                    "scatter3d": [
                      {
                        "line": {
                          "colorbar": {
                            "outlinewidth": 0,
                            "ticks": ""
                          }
                        },
                        "marker": {
                          "colorbar": {
                            "outlinewidth": 0,
                            "ticks": ""
                          }
                        },
                        "type": "scatter3d"
                      }
                    ],
                    "scattercarpet": [
                      {
                        "marker": {
                          "colorbar": {
                            "outlinewidth": 0,
                            "ticks": ""
                          }
                        },
                        "type": "scattercarpet"
                      }
                    ],
                    "scattergeo": [
                      {
                        "marker": {
                          "colorbar": {
                            "outlinewidth": 0,
                            "ticks": ""
                          }
                        },
                        "type": "scattergeo"
                      }
                    ],
                    "scattergl": [
                      {
                        "marker": {
                          "colorbar": {
                            "outlinewidth": 0,
                            "ticks": ""
                          }
                        },
                        "type": "scattergl"
                      }
                    ],
                    "scattermapbox": [
                      {
                        "marker": {
                          "colorbar": {
                            "outlinewidth": 0,
                            "ticks": ""
                          }
                        },
                        "type": "scattermapbox"
                      }
                    ],
                    "scatterpolar": [
                      {
                        "marker": {
                          "colorbar": {
                            "outlinewidth": 0,
                            "ticks": ""
                          }
                        },
                        "type": "scatterpolar"
                      }
                    ],
                    "scatterpolargl": [
                      {
                        "marker": {
                          "colorbar": {
                            "outlinewidth": 0,
                            "ticks": ""
                          }
                        },
                        "type": "scatterpolargl"
                      }
                    ],
                    "scatterternary": [
                      {
                        "marker": {
                          "colorbar": {
                            "outlinewidth": 0,
                            "ticks": ""
                          }
                        },
                        "type": "scatterternary"
                      }
                    ],
                    "surface": [
                      {
                        "colorbar": {
                          "outlinewidth": 0,
                          "ticks": ""
                        },
                        "colorscale": [
                          [
                            0,
                            "#0d0887"
                          ],
                          [
                            0.1111111111111111,
                            "#46039f"
                          ],
                          [
                            0.2222222222222222,
                            "#7201a8"
                          ],
                          [
                            0.3333333333333333,
                            "#9c179e"
                          ],
                          [
                            0.4444444444444444,
                            "#bd3786"
                          ],
                          [
                            0.5555555555555556,
                            "#d8576b"
                          ],
                          [
                            0.6666666666666666,
                            "#ed7953"
                          ],
                          [
                            0.7777777777777778,
                            "#fb9f3a"
                          ],
                          [
                            0.8888888888888888,
                            "#fdca26"
                          ],
                          [
                            1,
                            "#f0f921"
                          ]
                        ],
                        "type": "surface"
                      }
                    ],
                    "table": [
                      {
                        "cells": {
                          "fill": {
                            "color": "#EBF0F8"
                          },
                          "line": {
                            "color": "white"
                          }
                        },
                        "header": {
                          "fill": {
                            "color": "#C8D4E3"
                          },
                          "line": {
                            "color": "white"
                          }
                        },
                        "type": "table"
                      }
                    ]
                  },
                  "layout": {
                    "annotationdefaults": {
                      "arrowcolor": "#2a3f5f",
                      "arrowhead": 0,
                      "arrowwidth": 1
                    },
                    "autotypenumbers": "strict",
                    "coloraxis": {
                      "colorbar": {
                        "outlinewidth": 0,
                        "ticks": ""
                      }
                    },
                    "colorscale": {
                      "diverging": [
                        [
                          0,
                          "#8e0152"
                        ],
                        [
                          0.1,
                          "#c51b7d"
                        ],
                        [
                          0.2,
                          "#de77ae"
                        ],
                        [
                          0.3,
                          "#f1b6da"
                        ],
                        [
                          0.4,
                          "#fde0ef"
                        ],
                        [
                          0.5,
                          "#f7f7f7"
                        ],
                        [
                          0.6,
                          "#e6f5d0"
                        ],
                        [
                          0.7,
                          "#b8e186"
                        ],
                        [
                          0.8,
                          "#7fbc41"
                        ],
                        [
                          0.9,
                          "#4d9221"
                        ],
                        [
                          1,
                          "#276419"
                        ]
                      ],
                      "sequential": [
                        [
                          0,
                          "#0d0887"
                        ],
                        [
                          0.1111111111111111,
                          "#46039f"
                        ],
                        [
                          0.2222222222222222,
                          "#7201a8"
                        ],
                        [
                          0.3333333333333333,
                          "#9c179e"
                        ],
                        [
                          0.4444444444444444,
                          "#bd3786"
                        ],
                        [
                          0.5555555555555556,
                          "#d8576b"
                        ],
                        [
                          0.6666666666666666,
                          "#ed7953"
                        ],
                        [
                          0.7777777777777778,
                          "#fb9f3a"
                        ],
                        [
                          0.8888888888888888,
                          "#fdca26"
                        ],
                        [
                          1,
                          "#f0f921"
                        ]
                      ],
                      "sequentialminus": [
                        [
                          0,
                          "#0d0887"
                        ],
                        [
                          0.1111111111111111,
                          "#46039f"
                        ],
                        [
                          0.2222222222222222,
                          "#7201a8"
                        ],
                        [
                          0.3333333333333333,
                          "#9c179e"
                        ],
                        [
                          0.4444444444444444,
                          "#bd3786"
                        ],
                        [
                          0.5555555555555556,
                          "#d8576b"
                        ],
                        [
                          0.6666666666666666,
                          "#ed7953"
                        ],
                        [
                          0.7777777777777778,
                          "#fb9f3a"
                        ],
                        [
                          0.8888888888888888,
                          "#fdca26"
                        ],
                        [
                          1,
                          "#f0f921"
                        ]
                      ]
                    },
                    "colorway": [
                      "#636efa",
                      "#EF553B",
                      "#00cc96",
                      "#ab63fa",
                      "#FFA15A",
                      "#19d3f3",
                      "#FF6692",
                      "#B6E880",
                      "#FF97FF",
                      "#FECB52"
                    ],
                    "font": {
                      "color": "#2a3f5f"
                    },
                    "geo": {
                      "bgcolor": "white",
                      "lakecolor": "white",
                      "landcolor": "#E5ECF6",
                      "showlakes": true,
                      "showland": true,
                      "subunitcolor": "white"
                    },
                    "hoverlabel": {
                      "align": "left"
                    },
                    "hovermode": "closest",
                    "mapbox": {
                      "style": "light"
                    },
                    "paper_bgcolor": "white",
                    "plot_bgcolor": "#E5ECF6",
                    "polar": {
                      "angularaxis": {
                        "gridcolor": "white",
                        "linecolor": "white",
                        "ticks": ""
                      },
                      "bgcolor": "#E5ECF6",
                      "radialaxis": {
                        "gridcolor": "white",
                        "linecolor": "white",
                        "ticks": ""
                      }
                    },
                    "scene": {
                      "xaxis": {
                        "backgroundcolor": "#E5ECF6",
                        "gridcolor": "white",
                        "gridwidth": 2,
                        "linecolor": "white",
                        "showbackground": true,
                        "ticks": "",
                        "zerolinecolor": "white"
                      },
                      "yaxis": {
                        "backgroundcolor": "#E5ECF6",
                        "gridcolor": "white",
                        "gridwidth": 2,
                        "linecolor": "white",
                        "showbackground": true,
                        "ticks": "",
                        "zerolinecolor": "white"
                      },
                      "zaxis": {
                        "backgroundcolor": "#E5ECF6",
                        "gridcolor": "white",
                        "gridwidth": 2,
                        "linecolor": "white",
                        "showbackground": true,
                        "ticks": "",
                        "zerolinecolor": "white"
                      }
                    },
                    "shapedefaults": {
                      "line": {
                        "color": "#2a3f5f"
                      }
                    },
                    "ternary": {
                      "aaxis": {
                        "gridcolor": "white",
                        "linecolor": "white",
                        "ticks": ""
                      },
                      "baxis": {
                        "gridcolor": "white",
                        "linecolor": "white",
                        "ticks": ""
                      },
                      "bgcolor": "#E5ECF6",
                      "caxis": {
                        "gridcolor": "white",
                        "linecolor": "white",
                        "ticks": ""
                      }
                    },
                    "title": {
                      "x": 0.05
                    },
                    "xaxis": {
                      "automargin": true,
                      "gridcolor": "white",
                      "linecolor": "white",
                      "ticks": "",
                      "title": {
                        "standoff": 15
                      },
                      "zerolinecolor": "white",
                      "zerolinewidth": 2
                    },
                    "yaxis": {
                      "automargin": true,
                      "gridcolor": "white",
                      "linecolor": "white",
                      "ticks": "",
                      "title": {
                        "standoff": 15
                      },
                      "zerolinecolor": "white",
                      "zerolinewidth": 2
                    }
                  }
                },
                "title": {
                  "text": "Heart Attack Risk by Hemisphere"
                },
                "xaxis": {
                  "anchor": "y",
                  "domain": [
                    0,
                    1
                  ],
                  "title": {
                    "text": "Hemisphere"
                  }
                },
                "yaxis": {
                  "anchor": "x",
                  "domain": [
                    0,
                    1
                  ],
                  "title": {
                    "text": "Number of People"
                  }
                }
              }
            }
          },
          "metadata": {},
          "output_type": "display_data"
        },
        {
          "data": {
            "application/vnd.plotly.v1+json": {
              "config": {
                "plotlyServerURL": "https://plot.ly"
              },
              "data": [
                {
                  "alignmentgroup": "True",
                  "hovertemplate": "Continent=%{x}<br>Number of People=%{y}<br>Heart Attack Risk (0 = No, 1 = Yes)=%{marker.color}<extra></extra>",
                  "legendgroup": "",
                  "marker": {
                    "color": [
                      0,
                      1,
                      0,
                      1,
                      0,
                      1,
                      0,
                      1,
                      0,
                      1,
                      0,
                      1
                    ],
                    "coloraxis": "coloraxis",
                    "pattern": {
                      "shape": ""
                    }
                  },
                  "name": "",
                  "offsetgroup": "",
                  "orientation": "v",
                  "showlegend": false,
                  "textposition": "auto",
                  "type": "bar",
                  "x": [
                    "Africa",
                    "Africa",
                    "Asia",
                    "Asia",
                    "Australia",
                    "Australia",
                    "Europe",
                    "Europe",
                    "North America",
                    "North America",
                    "South America",
                    "South America"
                  ],
                  "xaxis": "x",
                  "y": [
                    551,
                    322,
                    1643,
                    900,
                    565,
                    319,
                    1466,
                    775,
                    536,
                    324,
                    863,
                    499
                  ],
                  "yaxis": "y"
                }
              ],
              "layout": {
                "barmode": "stack",
                "coloraxis": {
                  "colorbar": {
                    "title": {
                      "text": "Heart Attack Risk (0 = No, 1 = Yes)"
                    }
                  },
                  "colorscale": [
                    [
                      0,
                      "#0d0887"
                    ],
                    [
                      0.1111111111111111,
                      "#46039f"
                    ],
                    [
                      0.2222222222222222,
                      "#7201a8"
                    ],
                    [
                      0.3333333333333333,
                      "#9c179e"
                    ],
                    [
                      0.4444444444444444,
                      "#bd3786"
                    ],
                    [
                      0.5555555555555556,
                      "#d8576b"
                    ],
                    [
                      0.6666666666666666,
                      "#ed7953"
                    ],
                    [
                      0.7777777777777778,
                      "#fb9f3a"
                    ],
                    [
                      0.8888888888888888,
                      "#fdca26"
                    ],
                    [
                      1,
                      "#f0f921"
                    ]
                  ]
                },
                "legend": {
                  "tracegroupgap": 0
                },
                "template": {
                  "data": {
                    "bar": [
                      {
                        "error_x": {
                          "color": "#2a3f5f"
                        },
                        "error_y": {
                          "color": "#2a3f5f"
                        },
                        "marker": {
                          "line": {
                            "color": "#E5ECF6",
                            "width": 0.5
                          },
                          "pattern": {
                            "fillmode": "overlay",
                            "size": 10,
                            "solidity": 0.2
                          }
                        },
                        "type": "bar"
                      }
                    ],
                    "barpolar": [
                      {
                        "marker": {
                          "line": {
                            "color": "#E5ECF6",
                            "width": 0.5
                          },
                          "pattern": {
                            "fillmode": "overlay",
                            "size": 10,
                            "solidity": 0.2
                          }
                        },
                        "type": "barpolar"
                      }
                    ],
                    "carpet": [
                      {
                        "aaxis": {
                          "endlinecolor": "#2a3f5f",
                          "gridcolor": "white",
                          "linecolor": "white",
                          "minorgridcolor": "white",
                          "startlinecolor": "#2a3f5f"
                        },
                        "baxis": {
                          "endlinecolor": "#2a3f5f",
                          "gridcolor": "white",
                          "linecolor": "white",
                          "minorgridcolor": "white",
                          "startlinecolor": "#2a3f5f"
                        },
                        "type": "carpet"
                      }
                    ],
                    "choropleth": [
                      {
                        "colorbar": {
                          "outlinewidth": 0,
                          "ticks": ""
                        },
                        "type": "choropleth"
                      }
                    ],
                    "contour": [
                      {
                        "colorbar": {
                          "outlinewidth": 0,
                          "ticks": ""
                        },
                        "colorscale": [
                          [
                            0,
                            "#0d0887"
                          ],
                          [
                            0.1111111111111111,
                            "#46039f"
                          ],
                          [
                            0.2222222222222222,
                            "#7201a8"
                          ],
                          [
                            0.3333333333333333,
                            "#9c179e"
                          ],
                          [
                            0.4444444444444444,
                            "#bd3786"
                          ],
                          [
                            0.5555555555555556,
                            "#d8576b"
                          ],
                          [
                            0.6666666666666666,
                            "#ed7953"
                          ],
                          [
                            0.7777777777777778,
                            "#fb9f3a"
                          ],
                          [
                            0.8888888888888888,
                            "#fdca26"
                          ],
                          [
                            1,
                            "#f0f921"
                          ]
                        ],
                        "type": "contour"
                      }
                    ],
                    "contourcarpet": [
                      {
                        "colorbar": {
                          "outlinewidth": 0,
                          "ticks": ""
                        },
                        "type": "contourcarpet"
                      }
                    ],
                    "heatmap": [
                      {
                        "colorbar": {
                          "outlinewidth": 0,
                          "ticks": ""
                        },
                        "colorscale": [
                          [
                            0,
                            "#0d0887"
                          ],
                          [
                            0.1111111111111111,
                            "#46039f"
                          ],
                          [
                            0.2222222222222222,
                            "#7201a8"
                          ],
                          [
                            0.3333333333333333,
                            "#9c179e"
                          ],
                          [
                            0.4444444444444444,
                            "#bd3786"
                          ],
                          [
                            0.5555555555555556,
                            "#d8576b"
                          ],
                          [
                            0.6666666666666666,
                            "#ed7953"
                          ],
                          [
                            0.7777777777777778,
                            "#fb9f3a"
                          ],
                          [
                            0.8888888888888888,
                            "#fdca26"
                          ],
                          [
                            1,
                            "#f0f921"
                          ]
                        ],
                        "type": "heatmap"
                      }
                    ],
                    "heatmapgl": [
                      {
                        "colorbar": {
                          "outlinewidth": 0,
                          "ticks": ""
                        },
                        "colorscale": [
                          [
                            0,
                            "#0d0887"
                          ],
                          [
                            0.1111111111111111,
                            "#46039f"
                          ],
                          [
                            0.2222222222222222,
                            "#7201a8"
                          ],
                          [
                            0.3333333333333333,
                            "#9c179e"
                          ],
                          [
                            0.4444444444444444,
                            "#bd3786"
                          ],
                          [
                            0.5555555555555556,
                            "#d8576b"
                          ],
                          [
                            0.6666666666666666,
                            "#ed7953"
                          ],
                          [
                            0.7777777777777778,
                            "#fb9f3a"
                          ],
                          [
                            0.8888888888888888,
                            "#fdca26"
                          ],
                          [
                            1,
                            "#f0f921"
                          ]
                        ],
                        "type": "heatmapgl"
                      }
                    ],
                    "histogram": [
                      {
                        "marker": {
                          "pattern": {
                            "fillmode": "overlay",
                            "size": 10,
                            "solidity": 0.2
                          }
                        },
                        "type": "histogram"
                      }
                    ],
                    "histogram2d": [
                      {
                        "colorbar": {
                          "outlinewidth": 0,
                          "ticks": ""
                        },
                        "colorscale": [
                          [
                            0,
                            "#0d0887"
                          ],
                          [
                            0.1111111111111111,
                            "#46039f"
                          ],
                          [
                            0.2222222222222222,
                            "#7201a8"
                          ],
                          [
                            0.3333333333333333,
                            "#9c179e"
                          ],
                          [
                            0.4444444444444444,
                            "#bd3786"
                          ],
                          [
                            0.5555555555555556,
                            "#d8576b"
                          ],
                          [
                            0.6666666666666666,
                            "#ed7953"
                          ],
                          [
                            0.7777777777777778,
                            "#fb9f3a"
                          ],
                          [
                            0.8888888888888888,
                            "#fdca26"
                          ],
                          [
                            1,
                            "#f0f921"
                          ]
                        ],
                        "type": "histogram2d"
                      }
                    ],
                    "histogram2dcontour": [
                      {
                        "colorbar": {
                          "outlinewidth": 0,
                          "ticks": ""
                        },
                        "colorscale": [
                          [
                            0,
                            "#0d0887"
                          ],
                          [
                            0.1111111111111111,
                            "#46039f"
                          ],
                          [
                            0.2222222222222222,
                            "#7201a8"
                          ],
                          [
                            0.3333333333333333,
                            "#9c179e"
                          ],
                          [
                            0.4444444444444444,
                            "#bd3786"
                          ],
                          [
                            0.5555555555555556,
                            "#d8576b"
                          ],
                          [
                            0.6666666666666666,
                            "#ed7953"
                          ],
                          [
                            0.7777777777777778,
                            "#fb9f3a"
                          ],
                          [
                            0.8888888888888888,
                            "#fdca26"
                          ],
                          [
                            1,
                            "#f0f921"
                          ]
                        ],
                        "type": "histogram2dcontour"
                      }
                    ],
                    "mesh3d": [
                      {
                        "colorbar": {
                          "outlinewidth": 0,
                          "ticks": ""
                        },
                        "type": "mesh3d"
                      }
                    ],
                    "parcoords": [
                      {
                        "line": {
                          "colorbar": {
                            "outlinewidth": 0,
                            "ticks": ""
                          }
                        },
                        "type": "parcoords"
                      }
                    ],
                    "pie": [
                      {
                        "automargin": true,
                        "type": "pie"
                      }
                    ],
                    "scatter": [
                      {
                        "fillpattern": {
                          "fillmode": "overlay",
                          "size": 10,
                          "solidity": 0.2
                        },
                        "type": "scatter"
                      }
                    ],
                    "scatter3d": [
                      {
                        "line": {
                          "colorbar": {
                            "outlinewidth": 0,
                            "ticks": ""
                          }
                        },
                        "marker": {
                          "colorbar": {
                            "outlinewidth": 0,
                            "ticks": ""
                          }
                        },
                        "type": "scatter3d"
                      }
                    ],
                    "scattercarpet": [
                      {
                        "marker": {
                          "colorbar": {
                            "outlinewidth": 0,
                            "ticks": ""
                          }
                        },
                        "type": "scattercarpet"
                      }
                    ],
                    "scattergeo": [
                      {
                        "marker": {
                          "colorbar": {
                            "outlinewidth": 0,
                            "ticks": ""
                          }
                        },
                        "type": "scattergeo"
                      }
                    ],
                    "scattergl": [
                      {
                        "marker": {
                          "colorbar": {
                            "outlinewidth": 0,
                            "ticks": ""
                          }
                        },
                        "type": "scattergl"
                      }
                    ],
                    "scattermapbox": [
                      {
                        "marker": {
                          "colorbar": {
                            "outlinewidth": 0,
                            "ticks": ""
                          }
                        },
                        "type": "scattermapbox"
                      }
                    ],
                    "scatterpolar": [
                      {
                        "marker": {
                          "colorbar": {
                            "outlinewidth": 0,
                            "ticks": ""
                          }
                        },
                        "type": "scatterpolar"
                      }
                    ],
                    "scatterpolargl": [
                      {
                        "marker": {
                          "colorbar": {
                            "outlinewidth": 0,
                            "ticks": ""
                          }
                        },
                        "type": "scatterpolargl"
                      }
                    ],
                    "scatterternary": [
                      {
                        "marker": {
                          "colorbar": {
                            "outlinewidth": 0,
                            "ticks": ""
                          }
                        },
                        "type": "scatterternary"
                      }
                    ],
                    "surface": [
                      {
                        "colorbar": {
                          "outlinewidth": 0,
                          "ticks": ""
                        },
                        "colorscale": [
                          [
                            0,
                            "#0d0887"
                          ],
                          [
                            0.1111111111111111,
                            "#46039f"
                          ],
                          [
                            0.2222222222222222,
                            "#7201a8"
                          ],
                          [
                            0.3333333333333333,
                            "#9c179e"
                          ],
                          [
                            0.4444444444444444,
                            "#bd3786"
                          ],
                          [
                            0.5555555555555556,
                            "#d8576b"
                          ],
                          [
                            0.6666666666666666,
                            "#ed7953"
                          ],
                          [
                            0.7777777777777778,
                            "#fb9f3a"
                          ],
                          [
                            0.8888888888888888,
                            "#fdca26"
                          ],
                          [
                            1,
                            "#f0f921"
                          ]
                        ],
                        "type": "surface"
                      }
                    ],
                    "table": [
                      {
                        "cells": {
                          "fill": {
                            "color": "#EBF0F8"
                          },
                          "line": {
                            "color": "white"
                          }
                        },
                        "header": {
                          "fill": {
                            "color": "#C8D4E3"
                          },
                          "line": {
                            "color": "white"
                          }
                        },
                        "type": "table"
                      }
                    ]
                  },
                  "layout": {
                    "annotationdefaults": {
                      "arrowcolor": "#2a3f5f",
                      "arrowhead": 0,
                      "arrowwidth": 1
                    },
                    "autotypenumbers": "strict",
                    "coloraxis": {
                      "colorbar": {
                        "outlinewidth": 0,
                        "ticks": ""
                      }
                    },
                    "colorscale": {
                      "diverging": [
                        [
                          0,
                          "#8e0152"
                        ],
                        [
                          0.1,
                          "#c51b7d"
                        ],
                        [
                          0.2,
                          "#de77ae"
                        ],
                        [
                          0.3,
                          "#f1b6da"
                        ],
                        [
                          0.4,
                          "#fde0ef"
                        ],
                        [
                          0.5,
                          "#f7f7f7"
                        ],
                        [
                          0.6,
                          "#e6f5d0"
                        ],
                        [
                          0.7,
                          "#b8e186"
                        ],
                        [
                          0.8,
                          "#7fbc41"
                        ],
                        [
                          0.9,
                          "#4d9221"
                        ],
                        [
                          1,
                          "#276419"
                        ]
                      ],
                      "sequential": [
                        [
                          0,
                          "#0d0887"
                        ],
                        [
                          0.1111111111111111,
                          "#46039f"
                        ],
                        [
                          0.2222222222222222,
                          "#7201a8"
                        ],
                        [
                          0.3333333333333333,
                          "#9c179e"
                        ],
                        [
                          0.4444444444444444,
                          "#bd3786"
                        ],
                        [
                          0.5555555555555556,
                          "#d8576b"
                        ],
                        [
                          0.6666666666666666,
                          "#ed7953"
                        ],
                        [
                          0.7777777777777778,
                          "#fb9f3a"
                        ],
                        [
                          0.8888888888888888,
                          "#fdca26"
                        ],
                        [
                          1,
                          "#f0f921"
                        ]
                      ],
                      "sequentialminus": [
                        [
                          0,
                          "#0d0887"
                        ],
                        [
                          0.1111111111111111,
                          "#46039f"
                        ],
                        [
                          0.2222222222222222,
                          "#7201a8"
                        ],
                        [
                          0.3333333333333333,
                          "#9c179e"
                        ],
                        [
                          0.4444444444444444,
                          "#bd3786"
                        ],
                        [
                          0.5555555555555556,
                          "#d8576b"
                        ],
                        [
                          0.6666666666666666,
                          "#ed7953"
                        ],
                        [
                          0.7777777777777778,
                          "#fb9f3a"
                        ],
                        [
                          0.8888888888888888,
                          "#fdca26"
                        ],
                        [
                          1,
                          "#f0f921"
                        ]
                      ]
                    },
                    "colorway": [
                      "#636efa",
                      "#EF553B",
                      "#00cc96",
                      "#ab63fa",
                      "#FFA15A",
                      "#19d3f3",
                      "#FF6692",
                      "#B6E880",
                      "#FF97FF",
                      "#FECB52"
                    ],
                    "font": {
                      "color": "#2a3f5f"
                    },
                    "geo": {
                      "bgcolor": "white",
                      "lakecolor": "white",
                      "landcolor": "#E5ECF6",
                      "showlakes": true,
                      "showland": true,
                      "subunitcolor": "white"
                    },
                    "hoverlabel": {
                      "align": "left"
                    },
                    "hovermode": "closest",
                    "mapbox": {
                      "style": "light"
                    },
                    "paper_bgcolor": "white",
                    "plot_bgcolor": "#E5ECF6",
                    "polar": {
                      "angularaxis": {
                        "gridcolor": "white",
                        "linecolor": "white",
                        "ticks": ""
                      },
                      "bgcolor": "#E5ECF6",
                      "radialaxis": {
                        "gridcolor": "white",
                        "linecolor": "white",
                        "ticks": ""
                      }
                    },
                    "scene": {
                      "xaxis": {
                        "backgroundcolor": "#E5ECF6",
                        "gridcolor": "white",
                        "gridwidth": 2,
                        "linecolor": "white",
                        "showbackground": true,
                        "ticks": "",
                        "zerolinecolor": "white"
                      },
                      "yaxis": {
                        "backgroundcolor": "#E5ECF6",
                        "gridcolor": "white",
                        "gridwidth": 2,
                        "linecolor": "white",
                        "showbackground": true,
                        "ticks": "",
                        "zerolinecolor": "white"
                      },
                      "zaxis": {
                        "backgroundcolor": "#E5ECF6",
                        "gridcolor": "white",
                        "gridwidth": 2,
                        "linecolor": "white",
                        "showbackground": true,
                        "ticks": "",
                        "zerolinecolor": "white"
                      }
                    },
                    "shapedefaults": {
                      "line": {
                        "color": "#2a3f5f"
                      }
                    },
                    "ternary": {
                      "aaxis": {
                        "gridcolor": "white",
                        "linecolor": "white",
                        "ticks": ""
                      },
                      "baxis": {
                        "gridcolor": "white",
                        "linecolor": "white",
                        "ticks": ""
                      },
                      "bgcolor": "#E5ECF6",
                      "caxis": {
                        "gridcolor": "white",
                        "linecolor": "white",
                        "ticks": ""
                      }
                    },
                    "title": {
                      "x": 0.05
                    },
                    "xaxis": {
                      "automargin": true,
                      "gridcolor": "white",
                      "linecolor": "white",
                      "ticks": "",
                      "title": {
                        "standoff": 15
                      },
                      "zerolinecolor": "white",
                      "zerolinewidth": 2
                    },
                    "yaxis": {
                      "automargin": true,
                      "gridcolor": "white",
                      "linecolor": "white",
                      "ticks": "",
                      "title": {
                        "standoff": 15
                      },
                      "zerolinecolor": "white",
                      "zerolinewidth": 2
                    }
                  }
                },
                "title": {
                  "text": "Heart Attack Risk by Continent"
                },
                "xaxis": {
                  "anchor": "y",
                  "domain": [
                    0,
                    1
                  ],
                  "title": {
                    "text": "Continent"
                  }
                },
                "yaxis": {
                  "anchor": "x",
                  "domain": [
                    0,
                    1
                  ],
                  "title": {
                    "text": "Number of People"
                  }
                }
              }
            }
          },
          "metadata": {},
          "output_type": "display_data"
        },
        {
          "data": {
            "application/vnd.plotly.v1+json": {
              "config": {
                "plotlyServerURL": "https://plot.ly"
              },
              "data": [
                {
                  "alignmentgroup": "True",
                  "hovertemplate": "Country=%{x}<br>Number of People=%{y}<br>Heart Attack Risk (0 = No, 1 = Yes)=%{marker.color}<extra></extra>",
                  "legendgroup": "",
                  "marker": {
                    "color": [
                      0,
                      1,
                      0,
                      1,
                      0,
                      1,
                      0,
                      1,
                      0,
                      1,
                      0,
                      1,
                      0,
                      1,
                      0,
                      1,
                      0,
                      1,
                      0,
                      1,
                      0,
                      1,
                      0,
                      1,
                      0,
                      1,
                      0,
                      1,
                      0,
                      1,
                      0,
                      1,
                      0,
                      1,
                      0,
                      1,
                      0,
                      1,
                      0,
                      1
                    ],
                    "coloraxis": "coloraxis",
                    "pattern": {
                      "shape": ""
                    }
                  },
                  "name": "",
                  "offsetgroup": "",
                  "orientation": "v",
                  "showlegend": false,
                  "textposition": "auto",
                  "type": "bar",
                  "x": [
                    "Argentina",
                    "Argentina",
                    "Australia",
                    "Australia",
                    "Brazil",
                    "Brazil",
                    "Canada",
                    "Canada",
                    "China",
                    "China",
                    "Colombia",
                    "Colombia",
                    "France",
                    "France",
                    "Germany",
                    "Germany",
                    "India",
                    "India",
                    "Italy",
                    "Italy",
                    "Japan",
                    "Japan",
                    "New Zealand",
                    "New Zealand",
                    "Nigeria",
                    "Nigeria",
                    "South Africa",
                    "South Africa",
                    "South Korea",
                    "South Korea",
                    "Spain",
                    "Spain",
                    "Thailand",
                    "Thailand",
                    "United Kingdom",
                    "United Kingdom",
                    "United States",
                    "United States",
                    "Vietnam",
                    "Vietnam"
                  ],
                  "xaxis": "x",
                  "y": [
                    297,
                    174,
                    281,
                    168,
                    299,
                    163,
                    282,
                    158,
                    281,
                    155,
                    267,
                    162,
                    289,
                    157,
                    305,
                    172,
                    283,
                    129,
                    295,
                    136,
                    289,
                    144,
                    284,
                    151,
                    270,
                    178,
                    281,
                    144,
                    246,
                    163,
                    280,
                    150,
                    267,
                    161,
                    297,
                    160,
                    254,
                    166,
                    277,
                    148
                  ],
                  "yaxis": "y"
                }
              ],
              "layout": {
                "barmode": "stack",
                "coloraxis": {
                  "colorbar": {
                    "title": {
                      "text": "Heart Attack Risk (0 = No, 1 = Yes)"
                    }
                  },
                  "colorscale": [
                    [
                      0,
                      "#0d0887"
                    ],
                    [
                      0.1111111111111111,
                      "#46039f"
                    ],
                    [
                      0.2222222222222222,
                      "#7201a8"
                    ],
                    [
                      0.3333333333333333,
                      "#9c179e"
                    ],
                    [
                      0.4444444444444444,
                      "#bd3786"
                    ],
                    [
                      0.5555555555555556,
                      "#d8576b"
                    ],
                    [
                      0.6666666666666666,
                      "#ed7953"
                    ],
                    [
                      0.7777777777777778,
                      "#fb9f3a"
                    ],
                    [
                      0.8888888888888888,
                      "#fdca26"
                    ],
                    [
                      1,
                      "#f0f921"
                    ]
                  ]
                },
                "legend": {
                  "tracegroupgap": 0
                },
                "template": {
                  "data": {
                    "bar": [
                      {
                        "error_x": {
                          "color": "#2a3f5f"
                        },
                        "error_y": {
                          "color": "#2a3f5f"
                        },
                        "marker": {
                          "line": {
                            "color": "#E5ECF6",
                            "width": 0.5
                          },
                          "pattern": {
                            "fillmode": "overlay",
                            "size": 10,
                            "solidity": 0.2
                          }
                        },
                        "type": "bar"
                      }
                    ],
                    "barpolar": [
                      {
                        "marker": {
                          "line": {
                            "color": "#E5ECF6",
                            "width": 0.5
                          },
                          "pattern": {
                            "fillmode": "overlay",
                            "size": 10,
                            "solidity": 0.2
                          }
                        },
                        "type": "barpolar"
                      }
                    ],
                    "carpet": [
                      {
                        "aaxis": {
                          "endlinecolor": "#2a3f5f",
                          "gridcolor": "white",
                          "linecolor": "white",
                          "minorgridcolor": "white",
                          "startlinecolor": "#2a3f5f"
                        },
                        "baxis": {
                          "endlinecolor": "#2a3f5f",
                          "gridcolor": "white",
                          "linecolor": "white",
                          "minorgridcolor": "white",
                          "startlinecolor": "#2a3f5f"
                        },
                        "type": "carpet"
                      }
                    ],
                    "choropleth": [
                      {
                        "colorbar": {
                          "outlinewidth": 0,
                          "ticks": ""
                        },
                        "type": "choropleth"
                      }
                    ],
                    "contour": [
                      {
                        "colorbar": {
                          "outlinewidth": 0,
                          "ticks": ""
                        },
                        "colorscale": [
                          [
                            0,
                            "#0d0887"
                          ],
                          [
                            0.1111111111111111,
                            "#46039f"
                          ],
                          [
                            0.2222222222222222,
                            "#7201a8"
                          ],
                          [
                            0.3333333333333333,
                            "#9c179e"
                          ],
                          [
                            0.4444444444444444,
                            "#bd3786"
                          ],
                          [
                            0.5555555555555556,
                            "#d8576b"
                          ],
                          [
                            0.6666666666666666,
                            "#ed7953"
                          ],
                          [
                            0.7777777777777778,
                            "#fb9f3a"
                          ],
                          [
                            0.8888888888888888,
                            "#fdca26"
                          ],
                          [
                            1,
                            "#f0f921"
                          ]
                        ],
                        "type": "contour"
                      }
                    ],
                    "contourcarpet": [
                      {
                        "colorbar": {
                          "outlinewidth": 0,
                          "ticks": ""
                        },
                        "type": "contourcarpet"
                      }
                    ],
                    "heatmap": [
                      {
                        "colorbar": {
                          "outlinewidth": 0,
                          "ticks": ""
                        },
                        "colorscale": [
                          [
                            0,
                            "#0d0887"
                          ],
                          [
                            0.1111111111111111,
                            "#46039f"
                          ],
                          [
                            0.2222222222222222,
                            "#7201a8"
                          ],
                          [
                            0.3333333333333333,
                            "#9c179e"
                          ],
                          [
                            0.4444444444444444,
                            "#bd3786"
                          ],
                          [
                            0.5555555555555556,
                            "#d8576b"
                          ],
                          [
                            0.6666666666666666,
                            "#ed7953"
                          ],
                          [
                            0.7777777777777778,
                            "#fb9f3a"
                          ],
                          [
                            0.8888888888888888,
                            "#fdca26"
                          ],
                          [
                            1,
                            "#f0f921"
                          ]
                        ],
                        "type": "heatmap"
                      }
                    ],
                    "heatmapgl": [
                      {
                        "colorbar": {
                          "outlinewidth": 0,
                          "ticks": ""
                        },
                        "colorscale": [
                          [
                            0,
                            "#0d0887"
                          ],
                          [
                            0.1111111111111111,
                            "#46039f"
                          ],
                          [
                            0.2222222222222222,
                            "#7201a8"
                          ],
                          [
                            0.3333333333333333,
                            "#9c179e"
                          ],
                          [
                            0.4444444444444444,
                            "#bd3786"
                          ],
                          [
                            0.5555555555555556,
                            "#d8576b"
                          ],
                          [
                            0.6666666666666666,
                            "#ed7953"
                          ],
                          [
                            0.7777777777777778,
                            "#fb9f3a"
                          ],
                          [
                            0.8888888888888888,
                            "#fdca26"
                          ],
                          [
                            1,
                            "#f0f921"
                          ]
                        ],
                        "type": "heatmapgl"
                      }
                    ],
                    "histogram": [
                      {
                        "marker": {
                          "pattern": {
                            "fillmode": "overlay",
                            "size": 10,
                            "solidity": 0.2
                          }
                        },
                        "type": "histogram"
                      }
                    ],
                    "histogram2d": [
                      {
                        "colorbar": {
                          "outlinewidth": 0,
                          "ticks": ""
                        },
                        "colorscale": [
                          [
                            0,
                            "#0d0887"
                          ],
                          [
                            0.1111111111111111,
                            "#46039f"
                          ],
                          [
                            0.2222222222222222,
                            "#7201a8"
                          ],
                          [
                            0.3333333333333333,
                            "#9c179e"
                          ],
                          [
                            0.4444444444444444,
                            "#bd3786"
                          ],
                          [
                            0.5555555555555556,
                            "#d8576b"
                          ],
                          [
                            0.6666666666666666,
                            "#ed7953"
                          ],
                          [
                            0.7777777777777778,
                            "#fb9f3a"
                          ],
                          [
                            0.8888888888888888,
                            "#fdca26"
                          ],
                          [
                            1,
                            "#f0f921"
                          ]
                        ],
                        "type": "histogram2d"
                      }
                    ],
                    "histogram2dcontour": [
                      {
                        "colorbar": {
                          "outlinewidth": 0,
                          "ticks": ""
                        },
                        "colorscale": [
                          [
                            0,
                            "#0d0887"
                          ],
                          [
                            0.1111111111111111,
                            "#46039f"
                          ],
                          [
                            0.2222222222222222,
                            "#7201a8"
                          ],
                          [
                            0.3333333333333333,
                            "#9c179e"
                          ],
                          [
                            0.4444444444444444,
                            "#bd3786"
                          ],
                          [
                            0.5555555555555556,
                            "#d8576b"
                          ],
                          [
                            0.6666666666666666,
                            "#ed7953"
                          ],
                          [
                            0.7777777777777778,
                            "#fb9f3a"
                          ],
                          [
                            0.8888888888888888,
                            "#fdca26"
                          ],
                          [
                            1,
                            "#f0f921"
                          ]
                        ],
                        "type": "histogram2dcontour"
                      }
                    ],
                    "mesh3d": [
                      {
                        "colorbar": {
                          "outlinewidth": 0,
                          "ticks": ""
                        },
                        "type": "mesh3d"
                      }
                    ],
                    "parcoords": [
                      {
                        "line": {
                          "colorbar": {
                            "outlinewidth": 0,
                            "ticks": ""
                          }
                        },
                        "type": "parcoords"
                      }
                    ],
                    "pie": [
                      {
                        "automargin": true,
                        "type": "pie"
                      }
                    ],
                    "scatter": [
                      {
                        "fillpattern": {
                          "fillmode": "overlay",
                          "size": 10,
                          "solidity": 0.2
                        },
                        "type": "scatter"
                      }
                    ],
                    "scatter3d": [
                      {
                        "line": {
                          "colorbar": {
                            "outlinewidth": 0,
                            "ticks": ""
                          }
                        },
                        "marker": {
                          "colorbar": {
                            "outlinewidth": 0,
                            "ticks": ""
                          }
                        },
                        "type": "scatter3d"
                      }
                    ],
                    "scattercarpet": [
                      {
                        "marker": {
                          "colorbar": {
                            "outlinewidth": 0,
                            "ticks": ""
                          }
                        },
                        "type": "scattercarpet"
                      }
                    ],
                    "scattergeo": [
                      {
                        "marker": {
                          "colorbar": {
                            "outlinewidth": 0,
                            "ticks": ""
                          }
                        },
                        "type": "scattergeo"
                      }
                    ],
                    "scattergl": [
                      {
                        "marker": {
                          "colorbar": {
                            "outlinewidth": 0,
                            "ticks": ""
                          }
                        },
                        "type": "scattergl"
                      }
                    ],
                    "scattermapbox": [
                      {
                        "marker": {
                          "colorbar": {
                            "outlinewidth": 0,
                            "ticks": ""
                          }
                        },
                        "type": "scattermapbox"
                      }
                    ],
                    "scatterpolar": [
                      {
                        "marker": {
                          "colorbar": {
                            "outlinewidth": 0,
                            "ticks": ""
                          }
                        },
                        "type": "scatterpolar"
                      }
                    ],
                    "scatterpolargl": [
                      {
                        "marker": {
                          "colorbar": {
                            "outlinewidth": 0,
                            "ticks": ""
                          }
                        },
                        "type": "scatterpolargl"
                      }
                    ],
                    "scatterternary": [
                      {
                        "marker": {
                          "colorbar": {
                            "outlinewidth": 0,
                            "ticks": ""
                          }
                        },
                        "type": "scatterternary"
                      }
                    ],
                    "surface": [
                      {
                        "colorbar": {
                          "outlinewidth": 0,
                          "ticks": ""
                        },
                        "colorscale": [
                          [
                            0,
                            "#0d0887"
                          ],
                          [
                            0.1111111111111111,
                            "#46039f"
                          ],
                          [
                            0.2222222222222222,
                            "#7201a8"
                          ],
                          [
                            0.3333333333333333,
                            "#9c179e"
                          ],
                          [
                            0.4444444444444444,
                            "#bd3786"
                          ],
                          [
                            0.5555555555555556,
                            "#d8576b"
                          ],
                          [
                            0.6666666666666666,
                            "#ed7953"
                          ],
                          [
                            0.7777777777777778,
                            "#fb9f3a"
                          ],
                          [
                            0.8888888888888888,
                            "#fdca26"
                          ],
                          [
                            1,
                            "#f0f921"
                          ]
                        ],
                        "type": "surface"
                      }
                    ],
                    "table": [
                      {
                        "cells": {
                          "fill": {
                            "color": "#EBF0F8"
                          },
                          "line": {
                            "color": "white"
                          }
                        },
                        "header": {
                          "fill": {
                            "color": "#C8D4E3"
                          },
                          "line": {
                            "color": "white"
                          }
                        },
                        "type": "table"
                      }
                    ]
                  },
                  "layout": {
                    "annotationdefaults": {
                      "arrowcolor": "#2a3f5f",
                      "arrowhead": 0,
                      "arrowwidth": 1
                    },
                    "autotypenumbers": "strict",
                    "coloraxis": {
                      "colorbar": {
                        "outlinewidth": 0,
                        "ticks": ""
                      }
                    },
                    "colorscale": {
                      "diverging": [
                        [
                          0,
                          "#8e0152"
                        ],
                        [
                          0.1,
                          "#c51b7d"
                        ],
                        [
                          0.2,
                          "#de77ae"
                        ],
                        [
                          0.3,
                          "#f1b6da"
                        ],
                        [
                          0.4,
                          "#fde0ef"
                        ],
                        [
                          0.5,
                          "#f7f7f7"
                        ],
                        [
                          0.6,
                          "#e6f5d0"
                        ],
                        [
                          0.7,
                          "#b8e186"
                        ],
                        [
                          0.8,
                          "#7fbc41"
                        ],
                        [
                          0.9,
                          "#4d9221"
                        ],
                        [
                          1,
                          "#276419"
                        ]
                      ],
                      "sequential": [
                        [
                          0,
                          "#0d0887"
                        ],
                        [
                          0.1111111111111111,
                          "#46039f"
                        ],
                        [
                          0.2222222222222222,
                          "#7201a8"
                        ],
                        [
                          0.3333333333333333,
                          "#9c179e"
                        ],
                        [
                          0.4444444444444444,
                          "#bd3786"
                        ],
                        [
                          0.5555555555555556,
                          "#d8576b"
                        ],
                        [
                          0.6666666666666666,
                          "#ed7953"
                        ],
                        [
                          0.7777777777777778,
                          "#fb9f3a"
                        ],
                        [
                          0.8888888888888888,
                          "#fdca26"
                        ],
                        [
                          1,
                          "#f0f921"
                        ]
                      ],
                      "sequentialminus": [
                        [
                          0,
                          "#0d0887"
                        ],
                        [
                          0.1111111111111111,
                          "#46039f"
                        ],
                        [
                          0.2222222222222222,
                          "#7201a8"
                        ],
                        [
                          0.3333333333333333,
                          "#9c179e"
                        ],
                        [
                          0.4444444444444444,
                          "#bd3786"
                        ],
                        [
                          0.5555555555555556,
                          "#d8576b"
                        ],
                        [
                          0.6666666666666666,
                          "#ed7953"
                        ],
                        [
                          0.7777777777777778,
                          "#fb9f3a"
                        ],
                        [
                          0.8888888888888888,
                          "#fdca26"
                        ],
                        [
                          1,
                          "#f0f921"
                        ]
                      ]
                    },
                    "colorway": [
                      "#636efa",
                      "#EF553B",
                      "#00cc96",
                      "#ab63fa",
                      "#FFA15A",
                      "#19d3f3",
                      "#FF6692",
                      "#B6E880",
                      "#FF97FF",
                      "#FECB52"
                    ],
                    "font": {
                      "color": "#2a3f5f"
                    },
                    "geo": {
                      "bgcolor": "white",
                      "lakecolor": "white",
                      "landcolor": "#E5ECF6",
                      "showlakes": true,
                      "showland": true,
                      "subunitcolor": "white"
                    },
                    "hoverlabel": {
                      "align": "left"
                    },
                    "hovermode": "closest",
                    "mapbox": {
                      "style": "light"
                    },
                    "paper_bgcolor": "white",
                    "plot_bgcolor": "#E5ECF6",
                    "polar": {
                      "angularaxis": {
                        "gridcolor": "white",
                        "linecolor": "white",
                        "ticks": ""
                      },
                      "bgcolor": "#E5ECF6",
                      "radialaxis": {
                        "gridcolor": "white",
                        "linecolor": "white",
                        "ticks": ""
                      }
                    },
                    "scene": {
                      "xaxis": {
                        "backgroundcolor": "#E5ECF6",
                        "gridcolor": "white",
                        "gridwidth": 2,
                        "linecolor": "white",
                        "showbackground": true,
                        "ticks": "",
                        "zerolinecolor": "white"
                      },
                      "yaxis": {
                        "backgroundcolor": "#E5ECF6",
                        "gridcolor": "white",
                        "gridwidth": 2,
                        "linecolor": "white",
                        "showbackground": true,
                        "ticks": "",
                        "zerolinecolor": "white"
                      },
                      "zaxis": {
                        "backgroundcolor": "#E5ECF6",
                        "gridcolor": "white",
                        "gridwidth": 2,
                        "linecolor": "white",
                        "showbackground": true,
                        "ticks": "",
                        "zerolinecolor": "white"
                      }
                    },
                    "shapedefaults": {
                      "line": {
                        "color": "#2a3f5f"
                      }
                    },
                    "ternary": {
                      "aaxis": {
                        "gridcolor": "white",
                        "linecolor": "white",
                        "ticks": ""
                      },
                      "baxis": {
                        "gridcolor": "white",
                        "linecolor": "white",
                        "ticks": ""
                      },
                      "bgcolor": "#E5ECF6",
                      "caxis": {
                        "gridcolor": "white",
                        "linecolor": "white",
                        "ticks": ""
                      }
                    },
                    "title": {
                      "x": 0.05
                    },
                    "xaxis": {
                      "automargin": true,
                      "gridcolor": "white",
                      "linecolor": "white",
                      "ticks": "",
                      "title": {
                        "standoff": 15
                      },
                      "zerolinecolor": "white",
                      "zerolinewidth": 2
                    },
                    "yaxis": {
                      "automargin": true,
                      "gridcolor": "white",
                      "linecolor": "white",
                      "ticks": "",
                      "title": {
                        "standoff": 15
                      },
                      "zerolinecolor": "white",
                      "zerolinewidth": 2
                    }
                  }
                },
                "title": {
                  "text": "Heart Attack Risk by Country"
                },
                "xaxis": {
                  "anchor": "y",
                  "domain": [
                    0,
                    1
                  ],
                  "title": {
                    "text": "Country"
                  }
                },
                "yaxis": {
                  "anchor": "x",
                  "domain": [
                    0,
                    1
                  ],
                  "title": {
                    "text": "Number of People"
                  }
                }
              }
            }
          },
          "metadata": {},
          "output_type": "display_data"
        },
        {
          "data": {
            "application/vnd.plotly.v1+json": {
              "config": {
                "plotlyServerURL": "https://plot.ly"
              },
              "data": [
                {
                  "domain": {
                    "x": [
                      0,
                      1
                    ],
                    "y": [
                      0,
                      1
                    ]
                  },
                  "hovertemplate": "Sex=%{label}<br>Heart Attack Risk=%{value}<extra></extra>",
                  "labels": [
                    "Female",
                    "Male"
                  ],
                  "legendgroup": "",
                  "name": "",
                  "showlegend": true,
                  "type": "pie",
                  "values": [
                    0.3559577677224736,
                    0.35918834887907053
                  ]
                }
              ],
              "layout": {
                "legend": {
                  "tracegroupgap": 0
                },
                "piecolorway": [
                  "rgb(141,211,199)",
                  "rgb(255,255,179)",
                  "rgb(190,186,218)",
                  "rgb(251,128,114)",
                  "rgb(128,177,211)",
                  "rgb(253,180,98)",
                  "rgb(179,222,105)",
                  "rgb(252,205,229)",
                  "rgb(217,217,217)",
                  "rgb(188,128,189)",
                  "rgb(204,235,197)",
                  "rgb(255,237,111)"
                ],
                "template": {
                  "data": {
                    "bar": [
                      {
                        "error_x": {
                          "color": "#2a3f5f"
                        },
                        "error_y": {
                          "color": "#2a3f5f"
                        },
                        "marker": {
                          "line": {
                            "color": "#E5ECF6",
                            "width": 0.5
                          },
                          "pattern": {
                            "fillmode": "overlay",
                            "size": 10,
                            "solidity": 0.2
                          }
                        },
                        "type": "bar"
                      }
                    ],
                    "barpolar": [
                      {
                        "marker": {
                          "line": {
                            "color": "#E5ECF6",
                            "width": 0.5
                          },
                          "pattern": {
                            "fillmode": "overlay",
                            "size": 10,
                            "solidity": 0.2
                          }
                        },
                        "type": "barpolar"
                      }
                    ],
                    "carpet": [
                      {
                        "aaxis": {
                          "endlinecolor": "#2a3f5f",
                          "gridcolor": "white",
                          "linecolor": "white",
                          "minorgridcolor": "white",
                          "startlinecolor": "#2a3f5f"
                        },
                        "baxis": {
                          "endlinecolor": "#2a3f5f",
                          "gridcolor": "white",
                          "linecolor": "white",
                          "minorgridcolor": "white",
                          "startlinecolor": "#2a3f5f"
                        },
                        "type": "carpet"
                      }
                    ],
                    "choropleth": [
                      {
                        "colorbar": {
                          "outlinewidth": 0,
                          "ticks": ""
                        },
                        "type": "choropleth"
                      }
                    ],
                    "contour": [
                      {
                        "colorbar": {
                          "outlinewidth": 0,
                          "ticks": ""
                        },
                        "colorscale": [
                          [
                            0,
                            "#0d0887"
                          ],
                          [
                            0.1111111111111111,
                            "#46039f"
                          ],
                          [
                            0.2222222222222222,
                            "#7201a8"
                          ],
                          [
                            0.3333333333333333,
                            "#9c179e"
                          ],
                          [
                            0.4444444444444444,
                            "#bd3786"
                          ],
                          [
                            0.5555555555555556,
                            "#d8576b"
                          ],
                          [
                            0.6666666666666666,
                            "#ed7953"
                          ],
                          [
                            0.7777777777777778,
                            "#fb9f3a"
                          ],
                          [
                            0.8888888888888888,
                            "#fdca26"
                          ],
                          [
                            1,
                            "#f0f921"
                          ]
                        ],
                        "type": "contour"
                      }
                    ],
                    "contourcarpet": [
                      {
                        "colorbar": {
                          "outlinewidth": 0,
                          "ticks": ""
                        },
                        "type": "contourcarpet"
                      }
                    ],
                    "heatmap": [
                      {
                        "colorbar": {
                          "outlinewidth": 0,
                          "ticks": ""
                        },
                        "colorscale": [
                          [
                            0,
                            "#0d0887"
                          ],
                          [
                            0.1111111111111111,
                            "#46039f"
                          ],
                          [
                            0.2222222222222222,
                            "#7201a8"
                          ],
                          [
                            0.3333333333333333,
                            "#9c179e"
                          ],
                          [
                            0.4444444444444444,
                            "#bd3786"
                          ],
                          [
                            0.5555555555555556,
                            "#d8576b"
                          ],
                          [
                            0.6666666666666666,
                            "#ed7953"
                          ],
                          [
                            0.7777777777777778,
                            "#fb9f3a"
                          ],
                          [
                            0.8888888888888888,
                            "#fdca26"
                          ],
                          [
                            1,
                            "#f0f921"
                          ]
                        ],
                        "type": "heatmap"
                      }
                    ],
                    "heatmapgl": [
                      {
                        "colorbar": {
                          "outlinewidth": 0,
                          "ticks": ""
                        },
                        "colorscale": [
                          [
                            0,
                            "#0d0887"
                          ],
                          [
                            0.1111111111111111,
                            "#46039f"
                          ],
                          [
                            0.2222222222222222,
                            "#7201a8"
                          ],
                          [
                            0.3333333333333333,
                            "#9c179e"
                          ],
                          [
                            0.4444444444444444,
                            "#bd3786"
                          ],
                          [
                            0.5555555555555556,
                            "#d8576b"
                          ],
                          [
                            0.6666666666666666,
                            "#ed7953"
                          ],
                          [
                            0.7777777777777778,
                            "#fb9f3a"
                          ],
                          [
                            0.8888888888888888,
                            "#fdca26"
                          ],
                          [
                            1,
                            "#f0f921"
                          ]
                        ],
                        "type": "heatmapgl"
                      }
                    ],
                    "histogram": [
                      {
                        "marker": {
                          "pattern": {
                            "fillmode": "overlay",
                            "size": 10,
                            "solidity": 0.2
                          }
                        },
                        "type": "histogram"
                      }
                    ],
                    "histogram2d": [
                      {
                        "colorbar": {
                          "outlinewidth": 0,
                          "ticks": ""
                        },
                        "colorscale": [
                          [
                            0,
                            "#0d0887"
                          ],
                          [
                            0.1111111111111111,
                            "#46039f"
                          ],
                          [
                            0.2222222222222222,
                            "#7201a8"
                          ],
                          [
                            0.3333333333333333,
                            "#9c179e"
                          ],
                          [
                            0.4444444444444444,
                            "#bd3786"
                          ],
                          [
                            0.5555555555555556,
                            "#d8576b"
                          ],
                          [
                            0.6666666666666666,
                            "#ed7953"
                          ],
                          [
                            0.7777777777777778,
                            "#fb9f3a"
                          ],
                          [
                            0.8888888888888888,
                            "#fdca26"
                          ],
                          [
                            1,
                            "#f0f921"
                          ]
                        ],
                        "type": "histogram2d"
                      }
                    ],
                    "histogram2dcontour": [
                      {
                        "colorbar": {
                          "outlinewidth": 0,
                          "ticks": ""
                        },
                        "colorscale": [
                          [
                            0,
                            "#0d0887"
                          ],
                          [
                            0.1111111111111111,
                            "#46039f"
                          ],
                          [
                            0.2222222222222222,
                            "#7201a8"
                          ],
                          [
                            0.3333333333333333,
                            "#9c179e"
                          ],
                          [
                            0.4444444444444444,
                            "#bd3786"
                          ],
                          [
                            0.5555555555555556,
                            "#d8576b"
                          ],
                          [
                            0.6666666666666666,
                            "#ed7953"
                          ],
                          [
                            0.7777777777777778,
                            "#fb9f3a"
                          ],
                          [
                            0.8888888888888888,
                            "#fdca26"
                          ],
                          [
                            1,
                            "#f0f921"
                          ]
                        ],
                        "type": "histogram2dcontour"
                      }
                    ],
                    "mesh3d": [
                      {
                        "colorbar": {
                          "outlinewidth": 0,
                          "ticks": ""
                        },
                        "type": "mesh3d"
                      }
                    ],
                    "parcoords": [
                      {
                        "line": {
                          "colorbar": {
                            "outlinewidth": 0,
                            "ticks": ""
                          }
                        },
                        "type": "parcoords"
                      }
                    ],
                    "pie": [
                      {
                        "automargin": true,
                        "type": "pie"
                      }
                    ],
                    "scatter": [
                      {
                        "fillpattern": {
                          "fillmode": "overlay",
                          "size": 10,
                          "solidity": 0.2
                        },
                        "type": "scatter"
                      }
                    ],
                    "scatter3d": [
                      {
                        "line": {
                          "colorbar": {
                            "outlinewidth": 0,
                            "ticks": ""
                          }
                        },
                        "marker": {
                          "colorbar": {
                            "outlinewidth": 0,
                            "ticks": ""
                          }
                        },
                        "type": "scatter3d"
                      }
                    ],
                    "scattercarpet": [
                      {
                        "marker": {
                          "colorbar": {
                            "outlinewidth": 0,
                            "ticks": ""
                          }
                        },
                        "type": "scattercarpet"
                      }
                    ],
                    "scattergeo": [
                      {
                        "marker": {
                          "colorbar": {
                            "outlinewidth": 0,
                            "ticks": ""
                          }
                        },
                        "type": "scattergeo"
                      }
                    ],
                    "scattergl": [
                      {
                        "marker": {
                          "colorbar": {
                            "outlinewidth": 0,
                            "ticks": ""
                          }
                        },
                        "type": "scattergl"
                      }
                    ],
                    "scattermapbox": [
                      {
                        "marker": {
                          "colorbar": {
                            "outlinewidth": 0,
                            "ticks": ""
                          }
                        },
                        "type": "scattermapbox"
                      }
                    ],
                    "scatterpolar": [
                      {
                        "marker": {
                          "colorbar": {
                            "outlinewidth": 0,
                            "ticks": ""
                          }
                        },
                        "type": "scatterpolar"
                      }
                    ],
                    "scatterpolargl": [
                      {
                        "marker": {
                          "colorbar": {
                            "outlinewidth": 0,
                            "ticks": ""
                          }
                        },
                        "type": "scatterpolargl"
                      }
                    ],
                    "scatterternary": [
                      {
                        "marker": {
                          "colorbar": {
                            "outlinewidth": 0,
                            "ticks": ""
                          }
                        },
                        "type": "scatterternary"
                      }
                    ],
                    "surface": [
                      {
                        "colorbar": {
                          "outlinewidth": 0,
                          "ticks": ""
                        },
                        "colorscale": [
                          [
                            0,
                            "#0d0887"
                          ],
                          [
                            0.1111111111111111,
                            "#46039f"
                          ],
                          [
                            0.2222222222222222,
                            "#7201a8"
                          ],
                          [
                            0.3333333333333333,
                            "#9c179e"
                          ],
                          [
                            0.4444444444444444,
                            "#bd3786"
                          ],
                          [
                            0.5555555555555556,
                            "#d8576b"
                          ],
                          [
                            0.6666666666666666,
                            "#ed7953"
                          ],
                          [
                            0.7777777777777778,
                            "#fb9f3a"
                          ],
                          [
                            0.8888888888888888,
                            "#fdca26"
                          ],
                          [
                            1,
                            "#f0f921"
                          ]
                        ],
                        "type": "surface"
                      }
                    ],
                    "table": [
                      {
                        "cells": {
                          "fill": {
                            "color": "#EBF0F8"
                          },
                          "line": {
                            "color": "white"
                          }
                        },
                        "header": {
                          "fill": {
                            "color": "#C8D4E3"
                          },
                          "line": {
                            "color": "white"
                          }
                        },
                        "type": "table"
                      }
                    ]
                  },
                  "layout": {
                    "annotationdefaults": {
                      "arrowcolor": "#2a3f5f",
                      "arrowhead": 0,
                      "arrowwidth": 1
                    },
                    "autotypenumbers": "strict",
                    "coloraxis": {
                      "colorbar": {
                        "outlinewidth": 0,
                        "ticks": ""
                      }
                    },
                    "colorscale": {
                      "diverging": [
                        [
                          0,
                          "#8e0152"
                        ],
                        [
                          0.1,
                          "#c51b7d"
                        ],
                        [
                          0.2,
                          "#de77ae"
                        ],
                        [
                          0.3,
                          "#f1b6da"
                        ],
                        [
                          0.4,
                          "#fde0ef"
                        ],
                        [
                          0.5,
                          "#f7f7f7"
                        ],
                        [
                          0.6,
                          "#e6f5d0"
                        ],
                        [
                          0.7,
                          "#b8e186"
                        ],
                        [
                          0.8,
                          "#7fbc41"
                        ],
                        [
                          0.9,
                          "#4d9221"
                        ],
                        [
                          1,
                          "#276419"
                        ]
                      ],
                      "sequential": [
                        [
                          0,
                          "#0d0887"
                        ],
                        [
                          0.1111111111111111,
                          "#46039f"
                        ],
                        [
                          0.2222222222222222,
                          "#7201a8"
                        ],
                        [
                          0.3333333333333333,
                          "#9c179e"
                        ],
                        [
                          0.4444444444444444,
                          "#bd3786"
                        ],
                        [
                          0.5555555555555556,
                          "#d8576b"
                        ],
                        [
                          0.6666666666666666,
                          "#ed7953"
                        ],
                        [
                          0.7777777777777778,
                          "#fb9f3a"
                        ],
                        [
                          0.8888888888888888,
                          "#fdca26"
                        ],
                        [
                          1,
                          "#f0f921"
                        ]
                      ],
                      "sequentialminus": [
                        [
                          0,
                          "#0d0887"
                        ],
                        [
                          0.1111111111111111,
                          "#46039f"
                        ],
                        [
                          0.2222222222222222,
                          "#7201a8"
                        ],
                        [
                          0.3333333333333333,
                          "#9c179e"
                        ],
                        [
                          0.4444444444444444,
                          "#bd3786"
                        ],
                        [
                          0.5555555555555556,
                          "#d8576b"
                        ],
                        [
                          0.6666666666666666,
                          "#ed7953"
                        ],
                        [
                          0.7777777777777778,
                          "#fb9f3a"
                        ],
                        [
                          0.8888888888888888,
                          "#fdca26"
                        ],
                        [
                          1,
                          "#f0f921"
                        ]
                      ]
                    },
                    "colorway": [
                      "#636efa",
                      "#EF553B",
                      "#00cc96",
                      "#ab63fa",
                      "#FFA15A",
                      "#19d3f3",
                      "#FF6692",
                      "#B6E880",
                      "#FF97FF",
                      "#FECB52"
                    ],
                    "font": {
                      "color": "#2a3f5f"
                    },
                    "geo": {
                      "bgcolor": "white",
                      "lakecolor": "white",
                      "landcolor": "#E5ECF6",
                      "showlakes": true,
                      "showland": true,
                      "subunitcolor": "white"
                    },
                    "hoverlabel": {
                      "align": "left"
                    },
                    "hovermode": "closest",
                    "mapbox": {
                      "style": "light"
                    },
                    "paper_bgcolor": "white",
                    "plot_bgcolor": "#E5ECF6",
                    "polar": {
                      "angularaxis": {
                        "gridcolor": "white",
                        "linecolor": "white",
                        "ticks": ""
                      },
                      "bgcolor": "#E5ECF6",
                      "radialaxis": {
                        "gridcolor": "white",
                        "linecolor": "white",
                        "ticks": ""
                      }
                    },
                    "scene": {
                      "xaxis": {
                        "backgroundcolor": "#E5ECF6",
                        "gridcolor": "white",
                        "gridwidth": 2,
                        "linecolor": "white",
                        "showbackground": true,
                        "ticks": "",
                        "zerolinecolor": "white"
                      },
                      "yaxis": {
                        "backgroundcolor": "#E5ECF6",
                        "gridcolor": "white",
                        "gridwidth": 2,
                        "linecolor": "white",
                        "showbackground": true,
                        "ticks": "",
                        "zerolinecolor": "white"
                      },
                      "zaxis": {
                        "backgroundcolor": "#E5ECF6",
                        "gridcolor": "white",
                        "gridwidth": 2,
                        "linecolor": "white",
                        "showbackground": true,
                        "ticks": "",
                        "zerolinecolor": "white"
                      }
                    },
                    "shapedefaults": {
                      "line": {
                        "color": "#2a3f5f"
                      }
                    },
                    "ternary": {
                      "aaxis": {
                        "gridcolor": "white",
                        "linecolor": "white",
                        "ticks": ""
                      },
                      "baxis": {
                        "gridcolor": "white",
                        "linecolor": "white",
                        "ticks": ""
                      },
                      "bgcolor": "#E5ECF6",
                      "caxis": {
                        "gridcolor": "white",
                        "linecolor": "white",
                        "ticks": ""
                      }
                    },
                    "title": {
                      "x": 0.05
                    },
                    "xaxis": {
                      "automargin": true,
                      "gridcolor": "white",
                      "linecolor": "white",
                      "ticks": "",
                      "title": {
                        "standoff": 15
                      },
                      "zerolinecolor": "white",
                      "zerolinewidth": 2
                    },
                    "yaxis": {
                      "automargin": true,
                      "gridcolor": "white",
                      "linecolor": "white",
                      "ticks": "",
                      "title": {
                        "standoff": 15
                      },
                      "zerolinecolor": "white",
                      "zerolinewidth": 2
                    }
                  }
                },
                "title": {
                  "text": "Average Heart Attack Risk by Gender"
                }
              }
            }
          },
          "metadata": {},
          "output_type": "display_data"
        },
        {
          "data": {
            "application/vnd.plotly.v1+json": {
              "config": {
                "plotlyServerURL": "https://plot.ly"
              },
              "data": [
                {
                  "branchvalues": "total",
                  "customdata": [
                    [
                      "Female"
                    ],
                    [
                      "Male"
                    ]
                  ],
                  "domain": {
                    "x": [
                      0,
                      1
                    ],
                    "y": [
                      0,
                      1
                    ]
                  },
                  "hovertemplate": "labels=%{label}<br>Heart Attack Risk=%{value}<br>parent=%{parent}<br>id=%{id}<br>Sex=%{customdata[0]}<extra></extra>",
                  "ids": [
                    "Female",
                    "Male"
                  ],
                  "labels": [
                    "Female",
                    "Male"
                  ],
                  "marker": {
                    "colors": [
                      "rgb(251,180,174)",
                      "rgb(179,205,227)"
                    ]
                  },
                  "name": "",
                  "parents": [
                    "",
                    ""
                  ],
                  "type": "sunburst",
                  "values": [
                    944,
                    2195
                  ]
                }
              ],
              "layout": {
                "legend": {
                  "tracegroupgap": 0
                },
                "sunburstcolorway": [
                  "rgb(251,180,174)",
                  "rgb(179,205,227)",
                  "rgb(204,235,197)",
                  "rgb(222,203,228)",
                  "rgb(254,217,166)",
                  "rgb(255,255,204)",
                  "rgb(229,216,189)",
                  "rgb(253,218,236)",
                  "rgb(242,242,242)"
                ],
                "template": {
                  "data": {
                    "bar": [
                      {
                        "error_x": {
                          "color": "#2a3f5f"
                        },
                        "error_y": {
                          "color": "#2a3f5f"
                        },
                        "marker": {
                          "line": {
                            "color": "#E5ECF6",
                            "width": 0.5
                          },
                          "pattern": {
                            "fillmode": "overlay",
                            "size": 10,
                            "solidity": 0.2
                          }
                        },
                        "type": "bar"
                      }
                    ],
                    "barpolar": [
                      {
                        "marker": {
                          "line": {
                            "color": "#E5ECF6",
                            "width": 0.5
                          },
                          "pattern": {
                            "fillmode": "overlay",
                            "size": 10,
                            "solidity": 0.2
                          }
                        },
                        "type": "barpolar"
                      }
                    ],
                    "carpet": [
                      {
                        "aaxis": {
                          "endlinecolor": "#2a3f5f",
                          "gridcolor": "white",
                          "linecolor": "white",
                          "minorgridcolor": "white",
                          "startlinecolor": "#2a3f5f"
                        },
                        "baxis": {
                          "endlinecolor": "#2a3f5f",
                          "gridcolor": "white",
                          "linecolor": "white",
                          "minorgridcolor": "white",
                          "startlinecolor": "#2a3f5f"
                        },
                        "type": "carpet"
                      }
                    ],
                    "choropleth": [
                      {
                        "colorbar": {
                          "outlinewidth": 0,
                          "ticks": ""
                        },
                        "type": "choropleth"
                      }
                    ],
                    "contour": [
                      {
                        "colorbar": {
                          "outlinewidth": 0,
                          "ticks": ""
                        },
                        "colorscale": [
                          [
                            0,
                            "#0d0887"
                          ],
                          [
                            0.1111111111111111,
                            "#46039f"
                          ],
                          [
                            0.2222222222222222,
                            "#7201a8"
                          ],
                          [
                            0.3333333333333333,
                            "#9c179e"
                          ],
                          [
                            0.4444444444444444,
                            "#bd3786"
                          ],
                          [
                            0.5555555555555556,
                            "#d8576b"
                          ],
                          [
                            0.6666666666666666,
                            "#ed7953"
                          ],
                          [
                            0.7777777777777778,
                            "#fb9f3a"
                          ],
                          [
                            0.8888888888888888,
                            "#fdca26"
                          ],
                          [
                            1,
                            "#f0f921"
                          ]
                        ],
                        "type": "contour"
                      }
                    ],
                    "contourcarpet": [
                      {
                        "colorbar": {
                          "outlinewidth": 0,
                          "ticks": ""
                        },
                        "type": "contourcarpet"
                      }
                    ],
                    "heatmap": [
                      {
                        "colorbar": {
                          "outlinewidth": 0,
                          "ticks": ""
                        },
                        "colorscale": [
                          [
                            0,
                            "#0d0887"
                          ],
                          [
                            0.1111111111111111,
                            "#46039f"
                          ],
                          [
                            0.2222222222222222,
                            "#7201a8"
                          ],
                          [
                            0.3333333333333333,
                            "#9c179e"
                          ],
                          [
                            0.4444444444444444,
                            "#bd3786"
                          ],
                          [
                            0.5555555555555556,
                            "#d8576b"
                          ],
                          [
                            0.6666666666666666,
                            "#ed7953"
                          ],
                          [
                            0.7777777777777778,
                            "#fb9f3a"
                          ],
                          [
                            0.8888888888888888,
                            "#fdca26"
                          ],
                          [
                            1,
                            "#f0f921"
                          ]
                        ],
                        "type": "heatmap"
                      }
                    ],
                    "heatmapgl": [
                      {
                        "colorbar": {
                          "outlinewidth": 0,
                          "ticks": ""
                        },
                        "colorscale": [
                          [
                            0,
                            "#0d0887"
                          ],
                          [
                            0.1111111111111111,
                            "#46039f"
                          ],
                          [
                            0.2222222222222222,
                            "#7201a8"
                          ],
                          [
                            0.3333333333333333,
                            "#9c179e"
                          ],
                          [
                            0.4444444444444444,
                            "#bd3786"
                          ],
                          [
                            0.5555555555555556,
                            "#d8576b"
                          ],
                          [
                            0.6666666666666666,
                            "#ed7953"
                          ],
                          [
                            0.7777777777777778,
                            "#fb9f3a"
                          ],
                          [
                            0.8888888888888888,
                            "#fdca26"
                          ],
                          [
                            1,
                            "#f0f921"
                          ]
                        ],
                        "type": "heatmapgl"
                      }
                    ],
                    "histogram": [
                      {
                        "marker": {
                          "pattern": {
                            "fillmode": "overlay",
                            "size": 10,
                            "solidity": 0.2
                          }
                        },
                        "type": "histogram"
                      }
                    ],
                    "histogram2d": [
                      {
                        "colorbar": {
                          "outlinewidth": 0,
                          "ticks": ""
                        },
                        "colorscale": [
                          [
                            0,
                            "#0d0887"
                          ],
                          [
                            0.1111111111111111,
                            "#46039f"
                          ],
                          [
                            0.2222222222222222,
                            "#7201a8"
                          ],
                          [
                            0.3333333333333333,
                            "#9c179e"
                          ],
                          [
                            0.4444444444444444,
                            "#bd3786"
                          ],
                          [
                            0.5555555555555556,
                            "#d8576b"
                          ],
                          [
                            0.6666666666666666,
                            "#ed7953"
                          ],
                          [
                            0.7777777777777778,
                            "#fb9f3a"
                          ],
                          [
                            0.8888888888888888,
                            "#fdca26"
                          ],
                          [
                            1,
                            "#f0f921"
                          ]
                        ],
                        "type": "histogram2d"
                      }
                    ],
                    "histogram2dcontour": [
                      {
                        "colorbar": {
                          "outlinewidth": 0,
                          "ticks": ""
                        },
                        "colorscale": [
                          [
                            0,
                            "#0d0887"
                          ],
                          [
                            0.1111111111111111,
                            "#46039f"
                          ],
                          [
                            0.2222222222222222,
                            "#7201a8"
                          ],
                          [
                            0.3333333333333333,
                            "#9c179e"
                          ],
                          [
                            0.4444444444444444,
                            "#bd3786"
                          ],
                          [
                            0.5555555555555556,
                            "#d8576b"
                          ],
                          [
                            0.6666666666666666,
                            "#ed7953"
                          ],
                          [
                            0.7777777777777778,
                            "#fb9f3a"
                          ],
                          [
                            0.8888888888888888,
                            "#fdca26"
                          ],
                          [
                            1,
                            "#f0f921"
                          ]
                        ],
                        "type": "histogram2dcontour"
                      }
                    ],
                    "mesh3d": [
                      {
                        "colorbar": {
                          "outlinewidth": 0,
                          "ticks": ""
                        },
                        "type": "mesh3d"
                      }
                    ],
                    "parcoords": [
                      {
                        "line": {
                          "colorbar": {
                            "outlinewidth": 0,
                            "ticks": ""
                          }
                        },
                        "type": "parcoords"
                      }
                    ],
                    "pie": [
                      {
                        "automargin": true,
                        "type": "pie"
                      }
                    ],
                    "scatter": [
                      {
                        "fillpattern": {
                          "fillmode": "overlay",
                          "size": 10,
                          "solidity": 0.2
                        },
                        "type": "scatter"
                      }
                    ],
                    "scatter3d": [
                      {
                        "line": {
                          "colorbar": {
                            "outlinewidth": 0,
                            "ticks": ""
                          }
                        },
                        "marker": {
                          "colorbar": {
                            "outlinewidth": 0,
                            "ticks": ""
                          }
                        },
                        "type": "scatter3d"
                      }
                    ],
                    "scattercarpet": [
                      {
                        "marker": {
                          "colorbar": {
                            "outlinewidth": 0,
                            "ticks": ""
                          }
                        },
                        "type": "scattercarpet"
                      }
                    ],
                    "scattergeo": [
                      {
                        "marker": {
                          "colorbar": {
                            "outlinewidth": 0,
                            "ticks": ""
                          }
                        },
                        "type": "scattergeo"
                      }
                    ],
                    "scattergl": [
                      {
                        "marker": {
                          "colorbar": {
                            "outlinewidth": 0,
                            "ticks": ""
                          }
                        },
                        "type": "scattergl"
                      }
                    ],
                    "scattermapbox": [
                      {
                        "marker": {
                          "colorbar": {
                            "outlinewidth": 0,
                            "ticks": ""
                          }
                        },
                        "type": "scattermapbox"
                      }
                    ],
                    "scatterpolar": [
                      {
                        "marker": {
                          "colorbar": {
                            "outlinewidth": 0,
                            "ticks": ""
                          }
                        },
                        "type": "scatterpolar"
                      }
                    ],
                    "scatterpolargl": [
                      {
                        "marker": {
                          "colorbar": {
                            "outlinewidth": 0,
                            "ticks": ""
                          }
                        },
                        "type": "scatterpolargl"
                      }
                    ],
                    "scatterternary": [
                      {
                        "marker": {
                          "colorbar": {
                            "outlinewidth": 0,
                            "ticks": ""
                          }
                        },
                        "type": "scatterternary"
                      }
                    ],
                    "surface": [
                      {
                        "colorbar": {
                          "outlinewidth": 0,
                          "ticks": ""
                        },
                        "colorscale": [
                          [
                            0,
                            "#0d0887"
                          ],
                          [
                            0.1111111111111111,
                            "#46039f"
                          ],
                          [
                            0.2222222222222222,
                            "#7201a8"
                          ],
                          [
                            0.3333333333333333,
                            "#9c179e"
                          ],
                          [
                            0.4444444444444444,
                            "#bd3786"
                          ],
                          [
                            0.5555555555555556,
                            "#d8576b"
                          ],
                          [
                            0.6666666666666666,
                            "#ed7953"
                          ],
                          [
                            0.7777777777777778,
                            "#fb9f3a"
                          ],
                          [
                            0.8888888888888888,
                            "#fdca26"
                          ],
                          [
                            1,
                            "#f0f921"
                          ]
                        ],
                        "type": "surface"
                      }
                    ],
                    "table": [
                      {
                        "cells": {
                          "fill": {
                            "color": "#EBF0F8"
                          },
                          "line": {
                            "color": "white"
                          }
                        },
                        "header": {
                          "fill": {
                            "color": "#C8D4E3"
                          },
                          "line": {
                            "color": "white"
                          }
                        },
                        "type": "table"
                      }
                    ]
                  },
                  "layout": {
                    "annotationdefaults": {
                      "arrowcolor": "#2a3f5f",
                      "arrowhead": 0,
                      "arrowwidth": 1
                    },
                    "autotypenumbers": "strict",
                    "coloraxis": {
                      "colorbar": {
                        "outlinewidth": 0,
                        "ticks": ""
                      }
                    },
                    "colorscale": {
                      "diverging": [
                        [
                          0,
                          "#8e0152"
                        ],
                        [
                          0.1,
                          "#c51b7d"
                        ],
                        [
                          0.2,
                          "#de77ae"
                        ],
                        [
                          0.3,
                          "#f1b6da"
                        ],
                        [
                          0.4,
                          "#fde0ef"
                        ],
                        [
                          0.5,
                          "#f7f7f7"
                        ],
                        [
                          0.6,
                          "#e6f5d0"
                        ],
                        [
                          0.7,
                          "#b8e186"
                        ],
                        [
                          0.8,
                          "#7fbc41"
                        ],
                        [
                          0.9,
                          "#4d9221"
                        ],
                        [
                          1,
                          "#276419"
                        ]
                      ],
                      "sequential": [
                        [
                          0,
                          "#0d0887"
                        ],
                        [
                          0.1111111111111111,
                          "#46039f"
                        ],
                        [
                          0.2222222222222222,
                          "#7201a8"
                        ],
                        [
                          0.3333333333333333,
                          "#9c179e"
                        ],
                        [
                          0.4444444444444444,
                          "#bd3786"
                        ],
                        [
                          0.5555555555555556,
                          "#d8576b"
                        ],
                        [
                          0.6666666666666666,
                          "#ed7953"
                        ],
                        [
                          0.7777777777777778,
                          "#fb9f3a"
                        ],
                        [
                          0.8888888888888888,
                          "#fdca26"
                        ],
                        [
                          1,
                          "#f0f921"
                        ]
                      ],
                      "sequentialminus": [
                        [
                          0,
                          "#0d0887"
                        ],
                        [
                          0.1111111111111111,
                          "#46039f"
                        ],
                        [
                          0.2222222222222222,
                          "#7201a8"
                        ],
                        [
                          0.3333333333333333,
                          "#9c179e"
                        ],
                        [
                          0.4444444444444444,
                          "#bd3786"
                        ],
                        [
                          0.5555555555555556,
                          "#d8576b"
                        ],
                        [
                          0.6666666666666666,
                          "#ed7953"
                        ],
                        [
                          0.7777777777777778,
                          "#fb9f3a"
                        ],
                        [
                          0.8888888888888888,
                          "#fdca26"
                        ],
                        [
                          1,
                          "#f0f921"
                        ]
                      ]
                    },
                    "colorway": [
                      "#636efa",
                      "#EF553B",
                      "#00cc96",
                      "#ab63fa",
                      "#FFA15A",
                      "#19d3f3",
                      "#FF6692",
                      "#B6E880",
                      "#FF97FF",
                      "#FECB52"
                    ],
                    "font": {
                      "color": "#2a3f5f"
                    },
                    "geo": {
                      "bgcolor": "white",
                      "lakecolor": "white",
                      "landcolor": "#E5ECF6",
                      "showlakes": true,
                      "showland": true,
                      "subunitcolor": "white"
                    },
                    "hoverlabel": {
                      "align": "left"
                    },
                    "hovermode": "closest",
                    "mapbox": {
                      "style": "light"
                    },
                    "paper_bgcolor": "white",
                    "plot_bgcolor": "#E5ECF6",
                    "polar": {
                      "angularaxis": {
                        "gridcolor": "white",
                        "linecolor": "white",
                        "ticks": ""
                      },
                      "bgcolor": "#E5ECF6",
                      "radialaxis": {
                        "gridcolor": "white",
                        "linecolor": "white",
                        "ticks": ""
                      }
                    },
                    "scene": {
                      "xaxis": {
                        "backgroundcolor": "#E5ECF6",
                        "gridcolor": "white",
                        "gridwidth": 2,
                        "linecolor": "white",
                        "showbackground": true,
                        "ticks": "",
                        "zerolinecolor": "white"
                      },
                      "yaxis": {
                        "backgroundcolor": "#E5ECF6",
                        "gridcolor": "white",
                        "gridwidth": 2,
                        "linecolor": "white",
                        "showbackground": true,
                        "ticks": "",
                        "zerolinecolor": "white"
                      },
                      "zaxis": {
                        "backgroundcolor": "#E5ECF6",
                        "gridcolor": "white",
                        "gridwidth": 2,
                        "linecolor": "white",
                        "showbackground": true,
                        "ticks": "",
                        "zerolinecolor": "white"
                      }
                    },
                    "shapedefaults": {
                      "line": {
                        "color": "#2a3f5f"
                      }
                    },
                    "ternary": {
                      "aaxis": {
                        "gridcolor": "white",
                        "linecolor": "white",
                        "ticks": ""
                      },
                      "baxis": {
                        "gridcolor": "white",
                        "linecolor": "white",
                        "ticks": ""
                      },
                      "bgcolor": "#E5ECF6",
                      "caxis": {
                        "gridcolor": "white",
                        "linecolor": "white",
                        "ticks": ""
                      }
                    },
                    "title": {
                      "x": 0.05
                    },
                    "xaxis": {
                      "automargin": true,
                      "gridcolor": "white",
                      "linecolor": "white",
                      "ticks": "",
                      "title": {
                        "standoff": 15
                      },
                      "zerolinecolor": "white",
                      "zerolinewidth": 2
                    },
                    "yaxis": {
                      "automargin": true,
                      "gridcolor": "white",
                      "linecolor": "white",
                      "ticks": "",
                      "title": {
                        "standoff": 15
                      },
                      "zerolinecolor": "white",
                      "zerolinewidth": 2
                    }
                  }
                },
                "title": {
                  "text": "Heart Attack Risk by Gender"
                }
              }
            }
          },
          "metadata": {},
          "output_type": "display_data"
        },
        {
          "data": {
            "application/vnd.plotly.v1+json": {
              "config": {
                "plotlyServerURL": "https://plot.ly"
              },
              "data": [
                {
                  "alignmentgroup": "True",
                  "bingroup": "x",
                  "hovertemplate": "Age=%{x}<br>count=%{y}<extra></extra>",
                  "legendgroup": "",
                  "marker": {
                    "color": "rgb(229, 134, 6)",
                    "pattern": {
                      "shape": ""
                    }
                  },
                  "name": "",
                  "nbinsx": 20,
                  "offsetgroup": "",
                  "orientation": "v",
                  "showlegend": false,
                  "type": "histogram",
                  "x": [
                    54,
                    90,
                    84,
                    77,
                    60,
                    73,
                    50,
                    45,
                    27,
                    27,
                    42,
                    52,
                    47,
                    86,
                    44,
                    33,
                    70,
                    31,
                    36,
                    54,
                    72,
                    26,
                    63,
                    46,
                    74,
                    63,
                    22,
                    90,
                    55,
                    73,
                    45,
                    90,
                    56,
                    63,
                    80,
                    60,
                    39,
                    56,
                    21,
                    28,
                    66,
                    63,
                    27,
                    60,
                    34,
                    60,
                    29,
                    82,
                    32,
                    49,
                    64,
                    28,
                    30,
                    70,
                    41,
                    44,
                    45,
                    62,
                    35,
                    41,
                    63,
                    80,
                    35,
                    84,
                    75,
                    60,
                    53,
                    75,
                    58,
                    85,
                    18,
                    50,
                    37,
                    81,
                    23,
                    46,
                    42,
                    30,
                    69,
                    39,
                    77,
                    77,
                    26,
                    28,
                    87,
                    50,
                    62,
                    44,
                    83,
                    44,
                    22,
                    75,
                    18,
                    81,
                    75,
                    50,
                    29,
                    73,
                    78,
                    56,
                    26,
                    19,
                    18,
                    53,
                    67,
                    75,
                    26,
                    90,
                    77,
                    82,
                    85,
                    25,
                    36,
                    48,
                    79,
                    48,
                    61,
                    59,
                    62,
                    78,
                    66,
                    35,
                    23,
                    67,
                    86,
                    44,
                    83,
                    26,
                    65,
                    50,
                    84,
                    21,
                    38,
                    85,
                    58,
                    74,
                    32,
                    80,
                    43,
                    75,
                    29,
                    76,
                    21,
                    22,
                    29,
                    67,
                    25,
                    77,
                    88,
                    53,
                    70,
                    18,
                    67,
                    61,
                    86,
                    86,
                    41,
                    75,
                    33,
                    65,
                    52,
                    25,
                    51,
                    45,
                    66,
                    43,
                    25,
                    63,
                    33,
                    42,
                    53,
                    57,
                    47,
                    87,
                    58,
                    41,
                    57,
                    61,
                    24,
                    76,
                    72,
                    38,
                    53,
                    73,
                    63,
                    49,
                    44,
                    62,
                    44,
                    19,
                    53,
                    44,
                    71,
                    36,
                    41,
                    29,
                    74,
                    87,
                    89,
                    66,
                    32,
                    61,
                    74,
                    84,
                    82,
                    24,
                    68,
                    83,
                    74,
                    18,
                    24,
                    64,
                    58,
                    42,
                    19,
                    85,
                    80,
                    44,
                    80,
                    28,
                    45,
                    38,
                    44,
                    67,
                    38,
                    86,
                    90,
                    65,
                    48,
                    37,
                    29,
                    68,
                    23,
                    66,
                    33,
                    36,
                    38,
                    73,
                    64,
                    18,
                    19,
                    58,
                    23,
                    89,
                    30,
                    60,
                    53,
                    18,
                    82,
                    80,
                    60,
                    56,
                    53,
                    63,
                    77,
                    45,
                    18,
                    33,
                    62,
                    85,
                    43,
                    80,
                    44,
                    20,
                    40,
                    76,
                    70,
                    22,
                    78,
                    21,
                    31,
                    73,
                    55,
                    44,
                    75,
                    68,
                    60,
                    72,
                    86,
                    40,
                    61,
                    76,
                    38,
                    26,
                    20,
                    53,
                    87,
                    48,
                    33,
                    22,
                    37,
                    33,
                    44,
                    30,
                    21,
                    19,
                    38,
                    70,
                    34,
                    40,
                    64,
                    25,
                    89,
                    41,
                    51,
                    33,
                    72,
                    35,
                    27,
                    49,
                    50,
                    22,
                    61,
                    80,
                    73,
                    28,
                    42,
                    43,
                    86,
                    81,
                    31,
                    30,
                    37,
                    89,
                    90,
                    75,
                    39,
                    42,
                    20,
                    70,
                    88,
                    80,
                    41,
                    43,
                    63,
                    90,
                    89,
                    31,
                    50,
                    65,
                    69,
                    86,
                    25,
                    59,
                    47,
                    64,
                    38,
                    59,
                    48,
                    22,
                    27,
                    34,
                    52,
                    47,
                    28,
                    38,
                    55,
                    39,
                    64,
                    48,
                    71,
                    67,
                    39,
                    39,
                    71,
                    47,
                    86,
                    74,
                    42,
                    21,
                    70,
                    85,
                    35,
                    78,
                    64,
                    55,
                    28,
                    47,
                    74,
                    50,
                    67,
                    69,
                    19,
                    73,
                    43,
                    67,
                    24,
                    73,
                    25,
                    79,
                    82,
                    67,
                    84,
                    27,
                    48,
                    48,
                    26,
                    27,
                    67,
                    60,
                    50,
                    38,
                    22,
                    78,
                    60,
                    65,
                    34,
                    84,
                    44,
                    35,
                    18,
                    40,
                    72,
                    54,
                    26,
                    69,
                    67,
                    54,
                    82,
                    74,
                    73,
                    42,
                    62,
                    74,
                    74,
                    20,
                    71,
                    22,
                    70,
                    44,
                    55,
                    40,
                    88,
                    77,
                    69,
                    39,
                    24,
                    36,
                    81,
                    37,
                    36,
                    82,
                    85,
                    49,
                    84,
                    52,
                    30,
                    24,
                    76,
                    88,
                    20,
                    31,
                    83,
                    77,
                    60,
                    36,
                    76,
                    45,
                    74,
                    27,
                    32,
                    63,
                    56,
                    77,
                    90,
                    45,
                    52,
                    49,
                    41,
                    32,
                    32,
                    88,
                    87,
                    32,
                    40,
                    49,
                    89,
                    90,
                    87,
                    82,
                    70,
                    42,
                    69,
                    23,
                    28,
                    68,
                    74,
                    72,
                    50,
                    68,
                    38,
                    86,
                    54,
                    58,
                    29,
                    43,
                    22,
                    18,
                    38,
                    23,
                    21,
                    61,
                    62,
                    37,
                    82,
                    38,
                    47,
                    50,
                    79,
                    27,
                    20,
                    89,
                    36,
                    28,
                    65,
                    81,
                    45,
                    90,
                    88,
                    77,
                    28,
                    29,
                    80,
                    39,
                    35,
                    19,
                    35,
                    47,
                    41,
                    71,
                    54,
                    43,
                    30,
                    68,
                    90,
                    19,
                    70,
                    41,
                    75,
                    41,
                    28,
                    18,
                    67,
                    25,
                    29,
                    66,
                    80,
                    87,
                    42,
                    61,
                    27,
                    22,
                    51,
                    79,
                    42,
                    83,
                    84,
                    43,
                    49,
                    65,
                    88,
                    79,
                    30,
                    63,
                    37,
                    54,
                    37,
                    77,
                    90,
                    80,
                    46,
                    38,
                    87,
                    68,
                    86,
                    39,
                    58,
                    28,
                    38,
                    85,
                    20,
                    22,
                    80,
                    45,
                    36,
                    45,
                    21,
                    47,
                    31,
                    70,
                    73,
                    78,
                    24,
                    54,
                    34,
                    45,
                    44,
                    24,
                    70,
                    44,
                    48,
                    73,
                    86,
                    72,
                    54,
                    55,
                    81,
                    70,
                    44,
                    79,
                    90,
                    40,
                    26,
                    46,
                    33,
                    76,
                    78,
                    76,
                    80,
                    79,
                    68,
                    34,
                    49,
                    68,
                    63,
                    52,
                    76,
                    41,
                    40,
                    67,
                    78,
                    19,
                    32,
                    81,
                    54,
                    30,
                    75,
                    33,
                    90,
                    29,
                    83,
                    23,
                    70,
                    33,
                    88,
                    68,
                    25,
                    40,
                    54,
                    77,
                    66,
                    86,
                    86,
                    90,
                    27,
                    43,
                    26,
                    25,
                    62,
                    55,
                    50,
                    60,
                    50,
                    62,
                    60,
                    67,
                    89,
                    88,
                    26,
                    22,
                    56,
                    87,
                    90,
                    66,
                    48,
                    58,
                    53,
                    78,
                    77,
                    21,
                    28,
                    65,
                    33,
                    27,
                    38,
                    84,
                    23,
                    45,
                    27,
                    45,
                    77,
                    68,
                    28,
                    77,
                    87,
                    78,
                    64,
                    79,
                    45,
                    67,
                    84,
                    41,
                    64,
                    85,
                    39,
                    28,
                    22,
                    37,
                    57,
                    54,
                    47,
                    37,
                    79,
                    80,
                    43,
                    67,
                    51,
                    83,
                    32,
                    88,
                    29,
                    63,
                    75,
                    26,
                    24,
                    72,
                    90,
                    35,
                    89,
                    20,
                    87,
                    41,
                    79,
                    25,
                    52,
                    28,
                    27,
                    88,
                    42,
                    32,
                    90,
                    63,
                    47,
                    50,
                    74,
                    75,
                    24,
                    34,
                    35,
                    43,
                    44,
                    61,
                    49,
                    84,
                    61,
                    23,
                    22,
                    61,
                    78,
                    24,
                    47,
                    25,
                    84,
                    81,
                    88,
                    28,
                    69,
                    84,
                    54,
                    83,
                    33,
                    43,
                    74,
                    33,
                    75,
                    23,
                    39,
                    29,
                    53,
                    48,
                    54,
                    46,
                    34,
                    22,
                    32,
                    23,
                    87,
                    35,
                    33,
                    43,
                    76,
                    67,
                    83,
                    25,
                    48,
                    57,
                    20,
                    85,
                    85,
                    46,
                    43,
                    27,
                    73,
                    37,
                    46,
                    18,
                    45,
                    34,
                    23,
                    27,
                    82,
                    34,
                    72,
                    28,
                    65,
                    59,
                    54,
                    31,
                    90,
                    21,
                    53,
                    25,
                    55,
                    59,
                    59,
                    57,
                    46,
                    65,
                    21,
                    62,
                    41,
                    59,
                    71,
                    82,
                    49,
                    82,
                    72,
                    64,
                    49,
                    74,
                    20,
                    20,
                    67,
                    88,
                    54,
                    32,
                    61,
                    69,
                    89,
                    26,
                    71,
                    72,
                    84,
                    35,
                    73,
                    86,
                    50,
                    43,
                    57,
                    19,
                    65,
                    74,
                    80,
                    44,
                    90,
                    72,
                    37,
                    41,
                    36,
                    86,
                    29,
                    87,
                    41,
                    44,
                    66,
                    33,
                    56,
                    87,
                    32,
                    89,
                    70,
                    24,
                    19,
                    23,
                    88,
                    62,
                    38,
                    64,
                    79,
                    81,
                    39,
                    66,
                    79,
                    81,
                    80,
                    35,
                    32,
                    60,
                    35,
                    52,
                    60,
                    56,
                    85,
                    43,
                    39,
                    77,
                    59,
                    18,
                    35,
                    87,
                    36,
                    41,
                    24,
                    64,
                    32,
                    62,
                    51,
                    65,
                    29,
                    50,
                    35,
                    39,
                    89,
                    22,
                    80,
                    45,
                    24,
                    22,
                    56,
                    61,
                    52,
                    53,
                    68,
                    23,
                    36,
                    86,
                    35,
                    29,
                    26,
                    27,
                    88,
                    57,
                    64,
                    48,
                    73,
                    54,
                    84,
                    58,
                    58,
                    42,
                    67,
                    18,
                    19,
                    29,
                    35,
                    83,
                    51,
                    72,
                    20,
                    61,
                    22,
                    88,
                    40,
                    67,
                    57,
                    75,
                    66,
                    59,
                    27,
                    79,
                    34,
                    38,
                    49,
                    54,
                    32,
                    27,
                    23,
                    84,
                    90,
                    54,
                    73,
                    23,
                    33,
                    42,
                    86,
                    45,
                    89,
                    68,
                    62,
                    88,
                    69,
                    78,
                    47,
                    18,
                    51,
                    44,
                    89,
                    36,
                    80,
                    35,
                    66,
                    84,
                    62,
                    62,
                    53,
                    23,
                    58,
                    49,
                    54,
                    90,
                    49,
                    43,
                    78,
                    72,
                    50,
                    54,
                    86,
                    72,
                    36,
                    56,
                    31,
                    68,
                    23,
                    88,
                    35,
                    68,
                    85,
                    87,
                    62,
                    64,
                    77,
                    34,
                    68,
                    79,
                    32,
                    26,
                    70,
                    57,
                    34,
                    31,
                    33,
                    19,
                    41,
                    63,
                    45,
                    61,
                    60,
                    82,
                    53,
                    53,
                    78,
                    79,
                    68,
                    40,
                    56,
                    25,
                    86,
                    66,
                    61,
                    84,
                    67,
                    88,
                    18,
                    69,
                    68,
                    65,
                    81,
                    63,
                    32,
                    30,
                    31,
                    30,
                    34,
                    22,
                    39,
                    33,
                    23,
                    60,
                    42,
                    48,
                    48,
                    37,
                    29,
                    90,
                    87,
                    83,
                    50,
                    21,
                    88,
                    59,
                    90,
                    30,
                    62,
                    44,
                    41,
                    27,
                    21,
                    24,
                    70,
                    47,
                    69,
                    75,
                    87,
                    48,
                    48,
                    36,
                    87,
                    83,
                    59,
                    61,
                    84,
                    85,
                    68,
                    33,
                    79,
                    58,
                    90,
                    21,
                    89,
                    58,
                    71,
                    21,
                    31,
                    86,
                    61,
                    32,
                    87,
                    37,
                    62,
                    21,
                    56,
                    38,
                    36,
                    43,
                    42,
                    30,
                    84,
                    38,
                    48,
                    71,
                    65,
                    75,
                    55,
                    29,
                    29,
                    85,
                    51,
                    19,
                    20,
                    68,
                    84,
                    78,
                    53,
                    55,
                    41,
                    36,
                    35,
                    61,
                    34,
                    41,
                    24,
                    72,
                    47,
                    73,
                    73,
                    27,
                    39,
                    22,
                    26,
                    71,
                    48,
                    45,
                    63,
                    26,
                    77,
                    65,
                    90,
                    81,
                    34,
                    20,
                    89,
                    57,
                    32,
                    43,
                    37,
                    54,
                    70,
                    21,
                    40,
                    35,
                    53,
                    71,
                    59,
                    33,
                    47,
                    48,
                    85,
                    45,
                    28,
                    19,
                    26,
                    37,
                    43,
                    31,
                    77,
                    81,
                    66,
                    42,
                    43,
                    38,
                    30,
                    34,
                    28,
                    65,
                    25,
                    25,
                    82,
                    52,
                    46,
                    78,
                    79,
                    48,
                    22,
                    80,
                    67,
                    30,
                    63,
                    33,
                    41,
                    46,
                    73,
                    35,
                    21,
                    72,
                    62,
                    70,
                    81,
                    82,
                    60,
                    20,
                    56,
                    73,
                    48,
                    90,
                    21,
                    49,
                    23,
                    48,
                    29,
                    57,
                    62,
                    40,
                    31,
                    81,
                    64,
                    18,
                    70,
                    43,
                    69,
                    67,
                    45,
                    71,
                    46,
                    66,
                    68,
                    25,
                    39,
                    79,
                    71,
                    20,
                    49,
                    27,
                    37,
                    55,
                    47,
                    29,
                    76,
                    60,
                    52,
                    76,
                    84,
                    36,
                    56,
                    50,
                    43,
                    68,
                    85,
                    67,
                    18,
                    33,
                    88,
                    31,
                    59,
                    90,
                    26,
                    26,
                    55,
                    90,
                    24,
                    29,
                    38,
                    59,
                    72,
                    37,
                    30,
                    65,
                    36,
                    37,
                    80,
                    64,
                    81,
                    25,
                    30,
                    70,
                    41,
                    28,
                    45,
                    90,
                    66,
                    42,
                    23,
                    27,
                    76,
                    63,
                    37,
                    70,
                    58,
                    85,
                    21,
                    24,
                    59,
                    36,
                    19,
                    23,
                    86,
                    56,
                    35,
                    81,
                    69,
                    19,
                    82,
                    74,
                    78,
                    57,
                    89,
                    86,
                    63,
                    85,
                    36,
                    69,
                    38,
                    28,
                    62,
                    20,
                    81,
                    61,
                    18,
                    31,
                    41,
                    78,
                    36,
                    21,
                    85,
                    26,
                    77,
                    28,
                    76,
                    23,
                    87,
                    59,
                    51,
                    46,
                    83,
                    43,
                    40,
                    42,
                    74,
                    18,
                    41,
                    63,
                    26,
                    47,
                    23,
                    31,
                    32,
                    19,
                    22,
                    87,
                    69,
                    44,
                    73,
                    87,
                    80,
                    26,
                    35,
                    57,
                    76,
                    66,
                    67,
                    22,
                    45,
                    54,
                    19,
                    35,
                    66,
                    85,
                    29,
                    45,
                    33,
                    22,
                    48,
                    35,
                    19,
                    26,
                    19,
                    67,
                    36,
                    75,
                    27,
                    59,
                    40,
                    70,
                    43,
                    32,
                    50,
                    75,
                    76,
                    81,
                    75,
                    67,
                    72,
                    56,
                    21,
                    65,
                    89,
                    22,
                    34,
                    36,
                    70,
                    39,
                    41,
                    59,
                    88,
                    76,
                    63,
                    44,
                    74,
                    71,
                    63,
                    87,
                    69,
                    68,
                    65,
                    30,
                    70,
                    55,
                    34,
                    44,
                    90,
                    60,
                    46,
                    21,
                    41,
                    79,
                    77,
                    65,
                    70,
                    36,
                    24,
                    38,
                    26,
                    75,
                    31,
                    81,
                    75,
                    86,
                    36,
                    39,
                    86,
                    86,
                    62,
                    18,
                    77,
                    21,
                    89,
                    27,
                    22,
                    36,
                    70,
                    23,
                    29,
                    61,
                    25,
                    32,
                    25,
                    73,
                    34,
                    31,
                    34,
                    52,
                    73,
                    61,
                    24,
                    73,
                    38,
                    50,
                    49,
                    26,
                    73,
                    84,
                    73,
                    65,
                    64,
                    78,
                    53,
                    44,
                    42,
                    31,
                    62,
                    20,
                    42,
                    57,
                    53,
                    84,
                    73,
                    72,
                    80,
                    45,
                    18,
                    43,
                    36,
                    28,
                    21,
                    66,
                    86,
                    38,
                    38,
                    46,
                    50,
                    89,
                    29,
                    76,
                    19,
                    90,
                    63,
                    86,
                    88,
                    53,
                    62,
                    42,
                    30,
                    55,
                    39,
                    42,
                    54,
                    41,
                    42,
                    23,
                    82,
                    45,
                    51,
                    63,
                    66,
                    37,
                    39,
                    18,
                    57,
                    75,
                    65,
                    44,
                    65,
                    80,
                    35,
                    74,
                    36,
                    79,
                    62,
                    60,
                    72,
                    90,
                    51,
                    67,
                    25,
                    19,
                    52,
                    27,
                    41,
                    56,
                    62,
                    50,
                    74,
                    62,
                    57,
                    86,
                    84,
                    67,
                    83,
                    88,
                    46,
                    21,
                    33,
                    19,
                    41,
                    36,
                    50,
                    58,
                    40,
                    54,
                    33,
                    59,
                    89,
                    64,
                    49,
                    25,
                    90,
                    36,
                    84,
                    66,
                    27,
                    76,
                    18,
                    90,
                    83,
                    66,
                    69,
                    36,
                    65,
                    73,
                    54,
                    27,
                    58,
                    23,
                    30,
                    34,
                    22,
                    58,
                    46,
                    85,
                    20,
                    42,
                    75,
                    85,
                    72,
                    68,
                    74,
                    48,
                    52,
                    35,
                    88,
                    56,
                    49,
                    70,
                    59,
                    78,
                    28,
                    38,
                    21,
                    85,
                    29,
                    90,
                    69,
                    68,
                    26,
                    23,
                    63,
                    77,
                    87,
                    32,
                    31,
                    59,
                    41,
                    90,
                    59,
                    46,
                    23,
                    25,
                    28,
                    44,
                    21,
                    19,
                    51,
                    77,
                    61,
                    60,
                    84,
                    48,
                    35,
                    79,
                    52,
                    62,
                    36,
                    32,
                    46,
                    39,
                    48,
                    58,
                    28,
                    61,
                    67,
                    71,
                    84,
                    88,
                    80,
                    57,
                    79,
                    69,
                    26,
                    20,
                    45,
                    18,
                    65,
                    50,
                    88,
                    44,
                    87,
                    68,
                    40,
                    24,
                    70,
                    75,
                    32,
                    89,
                    38,
                    57,
                    90,
                    45,
                    48,
                    31,
                    87,
                    73,
                    90,
                    29,
                    64,
                    47,
                    84,
                    20,
                    42,
                    72,
                    37,
                    85,
                    18,
                    87,
                    44,
                    29,
                    71,
                    29,
                    74,
                    74,
                    57,
                    67,
                    25,
                    52,
                    36,
                    22,
                    29,
                    80,
                    85,
                    39,
                    27,
                    31,
                    18,
                    59,
                    72,
                    24,
                    46,
                    68,
                    83,
                    51,
                    63,
                    88,
                    44,
                    68,
                    46,
                    27,
                    73,
                    48,
                    38,
                    81,
                    75,
                    69,
                    32,
                    47,
                    25,
                    26,
                    55,
                    20,
                    40,
                    58,
                    52,
                    49,
                    59,
                    42,
                    76,
                    21,
                    42,
                    87,
                    64,
                    35,
                    74,
                    29,
                    88,
                    53,
                    71,
                    72,
                    37,
                    23,
                    73,
                    67,
                    36,
                    29,
                    26,
                    59,
                    33,
                    72,
                    86,
                    54,
                    28,
                    70,
                    52,
                    30,
                    37,
                    81,
                    40,
                    79,
                    88,
                    40,
                    45,
                    90,
                    83,
                    38,
                    90,
                    43,
                    89,
                    30,
                    22,
                    20,
                    42,
                    29,
                    35,
                    73,
                    61,
                    55,
                    52,
                    56,
                    74,
                    21,
                    29,
                    63,
                    34,
                    66,
                    63,
                    45,
                    69,
                    50,
                    55,
                    53,
                    87,
                    74,
                    81,
                    86,
                    63,
                    25,
                    35,
                    28,
                    28,
                    43,
                    57,
                    83,
                    83,
                    77,
                    39,
                    50,
                    29,
                    25,
                    68,
                    76,
                    60,
                    28,
                    55,
                    80,
                    21,
                    87,
                    86,
                    75,
                    69,
                    28,
                    33,
                    73,
                    83,
                    18,
                    36,
                    24,
                    57,
                    39,
                    84,
                    33,
                    45,
                    25,
                    54,
                    87,
                    76,
                    48,
                    30,
                    80,
                    57,
                    73,
                    40,
                    86,
                    66,
                    71,
                    83,
                    87,
                    24,
                    46,
                    33,
                    29,
                    25,
                    64,
                    56,
                    37,
                    20,
                    20,
                    80,
                    43,
                    50,
                    61,
                    63,
                    32,
                    60,
                    36,
                    55,
                    87,
                    53,
                    59,
                    35,
                    57,
                    68,
                    70,
                    84,
                    25,
                    28,
                    20,
                    25,
                    78,
                    56,
                    42,
                    90,
                    58,
                    68,
                    63,
                    69,
                    74,
                    28,
                    44,
                    58,
                    54,
                    64,
                    64,
                    82,
                    59,
                    30,
                    60,
                    64,
                    57,
                    39,
                    38,
                    47,
                    21,
                    65,
                    49,
                    85,
                    25,
                    52,
                    74,
                    44,
                    89,
                    23,
                    54,
                    49,
                    80,
                    49,
                    87,
                    85,
                    63,
                    40,
                    56,
                    77,
                    71,
                    71,
                    66,
                    27,
                    76,
                    28,
                    89,
                    87,
                    35,
                    39,
                    53,
                    76,
                    52,
                    80,
                    62,
                    90,
                    58,
                    25,
                    40,
                    19,
                    25,
                    42,
                    24,
                    61,
                    79,
                    68,
                    34,
                    30,
                    18,
                    39,
                    60,
                    37,
                    72,
                    36,
                    32,
                    57,
                    88,
                    56,
                    64,
                    47,
                    70,
                    59,
                    36,
                    51,
                    83,
                    24,
                    61,
                    47,
                    57,
                    55,
                    65,
                    46,
                    62,
                    75,
                    65,
                    43,
                    88,
                    35,
                    35,
                    25,
                    64,
                    68,
                    78,
                    53,
                    85,
                    83,
                    47,
                    30,
                    55,
                    89,
                    39,
                    59,
                    78,
                    23,
                    73,
                    85,
                    55,
                    84,
                    59,
                    40,
                    69,
                    51,
                    81,
                    19,
                    68,
                    61,
                    38,
                    60,
                    32,
                    72,
                    63,
                    35,
                    79,
                    56,
                    40,
                    79,
                    85,
                    53,
                    67,
                    43,
                    33,
                    23,
                    80,
                    85,
                    38,
                    32,
                    66,
                    41,
                    68,
                    30,
                    51,
                    53,
                    46,
                    43,
                    44,
                    82,
                    59,
                    75,
                    68,
                    77,
                    63,
                    87,
                    42,
                    39,
                    70,
                    29,
                    59,
                    90,
                    56,
                    41,
                    50,
                    89,
                    82,
                    46,
                    55,
                    26,
                    62,
                    58,
                    47,
                    25,
                    40,
                    46,
                    38,
                    57,
                    65,
                    32,
                    52,
                    37,
                    21,
                    42,
                    56,
                    20,
                    81,
                    71,
                    24,
                    89,
                    50,
                    57,
                    78,
                    86,
                    48,
                    83,
                    40,
                    72,
                    73,
                    19,
                    68,
                    47,
                    77,
                    45,
                    44,
                    40,
                    27,
                    57,
                    59,
                    24,
                    44,
                    48,
                    71,
                    42,
                    59,
                    41,
                    30,
                    49,
                    58,
                    81,
                    48,
                    25,
                    58,
                    30,
                    22,
                    68,
                    64,
                    19,
                    35,
                    27,
                    69,
                    35,
                    56,
                    89,
                    82,
                    86,
                    25,
                    57,
                    68,
                    78,
                    55,
                    48,
                    41,
                    62,
                    72,
                    84,
                    52,
                    67,
                    45,
                    39,
                    54,
                    56,
                    46,
                    59,
                    25,
                    82,
                    76,
                    82,
                    50,
                    60,
                    68,
                    65,
                    41,
                    60,
                    70,
                    25,
                    30,
                    73,
                    47,
                    54,
                    50,
                    48,
                    62,
                    37,
                    90,
                    29,
                    75,
                    44,
                    63,
                    56,
                    89,
                    44,
                    29,
                    37,
                    69,
                    65,
                    85,
                    68,
                    90,
                    42,
                    90,
                    84,
                    65,
                    74,
                    51,
                    45,
                    68,
                    60,
                    71,
                    32,
                    59,
                    31,
                    90,
                    88,
                    19,
                    60,
                    76,
                    68,
                    56,
                    89,
                    89,
                    86,
                    65,
                    25,
                    70,
                    27,
                    89,
                    76,
                    74,
                    59,
                    21,
                    34,
                    39,
                    19,
                    64,
                    87,
                    26,
                    25,
                    21,
                    65,
                    86,
                    59,
                    84,
                    43,
                    49,
                    60,
                    74,
                    42,
                    28,
                    77,
                    67,
                    20,
                    85,
                    58,
                    64,
                    37,
                    29,
                    20,
                    40,
                    72,
                    56,
                    52,
                    26,
                    85,
                    59,
                    43,
                    90,
                    85,
                    52,
                    78,
                    62,
                    52,
                    25,
                    30,
                    40,
                    28,
                    28,
                    45,
                    48,
                    86,
                    24,
                    37,
                    64,
                    79,
                    63,
                    32,
                    45,
                    57,
                    82,
                    53,
                    47,
                    53,
                    28,
                    42,
                    38,
                    35,
                    39,
                    70,
                    67,
                    72,
                    72,
                    83,
                    64,
                    31,
                    38,
                    44,
                    57,
                    20,
                    47,
                    88,
                    63,
                    19,
                    41,
                    21,
                    74,
                    90,
                    65,
                    90,
                    36,
                    20,
                    33,
                    55,
                    64,
                    38,
                    84,
                    73,
                    19,
                    32,
                    64,
                    51,
                    38,
                    56,
                    25,
                    18,
                    50,
                    48,
                    89,
                    90,
                    73,
                    39,
                    32,
                    28,
                    40,
                    59,
                    74,
                    45,
                    67,
                    82,
                    43,
                    42,
                    81,
                    49,
                    37,
                    50,
                    66,
                    45,
                    89,
                    34,
                    37,
                    59,
                    39,
                    62,
                    35,
                    18,
                    43,
                    46,
                    66,
                    28,
                    82,
                    41,
                    70,
                    27,
                    57,
                    75,
                    22,
                    26,
                    76,
                    30,
                    86,
                    53,
                    23,
                    81,
                    50,
                    34,
                    24,
                    45,
                    75,
                    32,
                    19,
                    76,
                    32,
                    48,
                    30,
                    49,
                    41,
                    85,
                    29,
                    55,
                    18,
                    80,
                    25,
                    57,
                    24,
                    57,
                    24,
                    82,
                    18,
                    38,
                    74,
                    56,
                    30,
                    55,
                    20,
                    84,
                    34,
                    25,
                    43,
                    35,
                    89,
                    62,
                    65,
                    38,
                    59,
                    81,
                    67,
                    30,
                    85,
                    63,
                    28,
                    33,
                    64,
                    70,
                    62,
                    64,
                    75,
                    47,
                    30,
                    42,
                    35,
                    88,
                    66,
                    36,
                    33,
                    51,
                    22,
                    29,
                    29,
                    34,
                    79,
                    46,
                    46,
                    78,
                    24,
                    86,
                    47,
                    88,
                    28,
                    47,
                    29,
                    67,
                    76,
                    79,
                    79,
                    46,
                    45,
                    46,
                    60,
                    50,
                    72,
                    32,
                    61,
                    20,
                    78,
                    38,
                    46,
                    75,
                    47,
                    56,
                    21,
                    64,
                    63,
                    31,
                    37,
                    50,
                    87,
                    54,
                    66,
                    38,
                    84,
                    79,
                    31,
                    76,
                    49,
                    34,
                    85,
                    46,
                    42,
                    50,
                    69,
                    71,
                    80,
                    66,
                    78,
                    31,
                    35,
                    41,
                    40,
                    25,
                    43,
                    33,
                    59,
                    32,
                    89,
                    22,
                    30,
                    87,
                    69,
                    87,
                    48,
                    87,
                    32,
                    61,
                    76,
                    43,
                    31,
                    74,
                    58,
                    87,
                    87,
                    86,
                    88,
                    28,
                    32,
                    73,
                    19,
                    70,
                    39,
                    73,
                    34,
                    65,
                    78,
                    78,
                    31,
                    77,
                    26,
                    59,
                    47,
                    83,
                    85,
                    68,
                    23,
                    41,
                    38,
                    66,
                    33,
                    82,
                    40,
                    85,
                    27,
                    43,
                    55,
                    45,
                    63,
                    39,
                    23,
                    74,
                    28,
                    32,
                    66,
                    32,
                    42,
                    60,
                    26,
                    25,
                    79,
                    19,
                    78,
                    54,
                    80,
                    49,
                    90,
                    36,
                    50,
                    72,
                    46,
                    70,
                    60,
                    68,
                    83,
                    29,
                    22,
                    32,
                    28,
                    58,
                    79,
                    62,
                    65,
                    41,
                    73,
                    38,
                    74,
                    26,
                    33,
                    85,
                    19,
                    77,
                    53,
                    54,
                    29,
                    81,
                    79,
                    22,
                    54,
                    59,
                    48,
                    29,
                    83,
                    81,
                    42,
                    76,
                    54,
                    18,
                    80,
                    83,
                    21,
                    83,
                    20,
                    18,
                    85,
                    59,
                    32,
                    72,
                    66,
                    57,
                    59,
                    38,
                    82,
                    42,
                    32,
                    67,
                    33,
                    29,
                    75,
                    20,
                    67,
                    61,
                    71,
                    69,
                    23,
                    29,
                    33,
                    77,
                    82,
                    77,
                    19,
                    20,
                    55,
                    24,
                    76,
                    40,
                    45,
                    18,
                    86,
                    34,
                    83,
                    55,
                    33,
                    37,
                    52,
                    55,
                    47,
                    59,
                    64,
                    41,
                    85,
                    89,
                    42,
                    42,
                    63,
                    50,
                    44,
                    66,
                    31,
                    25,
                    88,
                    37,
                    52,
                    29,
                    78,
                    57,
                    45,
                    32,
                    78,
                    24,
                    84,
                    73,
                    80,
                    45,
                    61,
                    29,
                    42,
                    43,
                    46,
                    90,
                    77,
                    47,
                    70,
                    72,
                    76,
                    67,
                    54,
                    24,
                    72,
                    22,
                    85,
                    85,
                    23,
                    73,
                    59,
                    67,
                    72,
                    31,
                    52,
                    83,
                    27,
                    78,
                    50,
                    23,
                    76,
                    76,
                    72,
                    23,
                    56,
                    75,
                    40,
                    73,
                    54,
                    62,
                    83,
                    87,
                    85,
                    79,
                    66,
                    50,
                    66,
                    48,
                    73,
                    68,
                    55,
                    89,
                    58,
                    65,
                    28,
                    24,
                    27,
                    53,
                    22,
                    88,
                    28,
                    82,
                    84,
                    42,
                    59,
                    60,
                    42,
                    46,
                    42,
                    34,
                    75,
                    85,
                    82,
                    84,
                    78,
                    74,
                    32,
                    57,
                    61,
                    70,
                    37,
                    57,
                    59,
                    81,
                    73,
                    41,
                    42,
                    38,
                    23,
                    67,
                    43,
                    66,
                    30,
                    37,
                    77,
                    52,
                    50,
                    46,
                    47,
                    82,
                    53,
                    84,
                    77,
                    79,
                    83,
                    71,
                    75,
                    23,
                    66,
                    26,
                    76,
                    21,
                    58,
                    82,
                    57,
                    89,
                    52,
                    28,
                    43,
                    27,
                    70,
                    30,
                    18,
                    85,
                    27,
                    59,
                    51,
                    21,
                    30,
                    82,
                    69,
                    89,
                    85,
                    64,
                    37,
                    29,
                    30,
                    75,
                    63,
                    79,
                    71,
                    54,
                    62,
                    83,
                    26,
                    38,
                    51,
                    43,
                    55,
                    24,
                    18,
                    33,
                    62,
                    40,
                    39,
                    77,
                    54,
                    68,
                    72,
                    75,
                    74,
                    54,
                    43,
                    65,
                    27,
                    36,
                    89,
                    24,
                    83,
                    77,
                    33,
                    24,
                    56,
                    61,
                    57,
                    73,
                    49,
                    24,
                    24,
                    81,
                    86,
                    66,
                    37,
                    85,
                    55,
                    55,
                    81,
                    69,
                    27,
                    63,
                    48,
                    56,
                    68,
                    54,
                    18,
                    25,
                    56,
                    73,
                    25,
                    25,
                    39,
                    73,
                    85,
                    57,
                    56,
                    73,
                    51,
                    24,
                    29,
                    67,
                    77,
                    73,
                    30,
                    87,
                    87,
                    40,
                    87,
                    63,
                    83,
                    38,
                    42,
                    78,
                    44,
                    62,
                    38,
                    41,
                    73,
                    28,
                    46,
                    88,
                    40,
                    78,
                    88,
                    61,
                    74,
                    20,
                    41,
                    23,
                    19,
                    22,
                    27,
                    27,
                    20,
                    86,
                    52,
                    86,
                    75,
                    24,
                    45,
                    71,
                    58,
                    58,
                    59,
                    56,
                    40,
                    42,
                    60,
                    40,
                    83,
                    33,
                    71,
                    40,
                    45,
                    47,
                    21,
                    36,
                    77,
                    34,
                    82,
                    40,
                    75,
                    81,
                    87,
                    63,
                    78,
                    38,
                    66,
                    81,
                    72,
                    49,
                    55,
                    77,
                    24,
                    51,
                    77,
                    24,
                    71,
                    69,
                    38,
                    62,
                    59,
                    37,
                    87,
                    30,
                    44,
                    84,
                    43,
                    23,
                    83,
                    56,
                    48,
                    41,
                    42,
                    36,
                    72,
                    52,
                    65,
                    36,
                    73,
                    87,
                    55,
                    51,
                    54,
                    69,
                    65,
                    34,
                    55,
                    48,
                    24,
                    36,
                    79,
                    39,
                    46,
                    90,
                    38,
                    48,
                    74,
                    87,
                    27,
                    79,
                    82,
                    49,
                    65,
                    24,
                    71,
                    86,
                    40,
                    60,
                    78,
                    52,
                    52,
                    50,
                    43,
                    57,
                    43,
                    27,
                    57,
                    51,
                    89,
                    19,
                    34,
                    26,
                    42,
                    80,
                    37,
                    73,
                    20,
                    87,
                    37,
                    85,
                    26,
                    35,
                    87,
                    18,
                    35,
                    36,
                    61,
                    73,
                    69,
                    58,
                    38,
                    43,
                    83,
                    83,
                    52,
                    18,
                    76,
                    83,
                    71,
                    70,
                    36,
                    70,
                    85,
                    27,
                    43,
                    28,
                    25,
                    74,
                    83,
                    80,
                    62,
                    24,
                    75,
                    82,
                    80,
                    22,
                    47,
                    25
                  ],
                  "xaxis": "x",
                  "yaxis": "y"
                }
              ],
              "layout": {
                "barmode": "relative",
                "legend": {
                  "tracegroupgap": 0
                },
                "template": {
                  "data": {
                    "bar": [
                      {
                        "error_x": {
                          "color": "#2a3f5f"
                        },
                        "error_y": {
                          "color": "#2a3f5f"
                        },
                        "marker": {
                          "line": {
                            "color": "#E5ECF6",
                            "width": 0.5
                          },
                          "pattern": {
                            "fillmode": "overlay",
                            "size": 10,
                            "solidity": 0.2
                          }
                        },
                        "type": "bar"
                      }
                    ],
                    "barpolar": [
                      {
                        "marker": {
                          "line": {
                            "color": "#E5ECF6",
                            "width": 0.5
                          },
                          "pattern": {
                            "fillmode": "overlay",
                            "size": 10,
                            "solidity": 0.2
                          }
                        },
                        "type": "barpolar"
                      }
                    ],
                    "carpet": [
                      {
                        "aaxis": {
                          "endlinecolor": "#2a3f5f",
                          "gridcolor": "white",
                          "linecolor": "white",
                          "minorgridcolor": "white",
                          "startlinecolor": "#2a3f5f"
                        },
                        "baxis": {
                          "endlinecolor": "#2a3f5f",
                          "gridcolor": "white",
                          "linecolor": "white",
                          "minorgridcolor": "white",
                          "startlinecolor": "#2a3f5f"
                        },
                        "type": "carpet"
                      }
                    ],
                    "choropleth": [
                      {
                        "colorbar": {
                          "outlinewidth": 0,
                          "ticks": ""
                        },
                        "type": "choropleth"
                      }
                    ],
                    "contour": [
                      {
                        "colorbar": {
                          "outlinewidth": 0,
                          "ticks": ""
                        },
                        "colorscale": [
                          [
                            0,
                            "#0d0887"
                          ],
                          [
                            0.1111111111111111,
                            "#46039f"
                          ],
                          [
                            0.2222222222222222,
                            "#7201a8"
                          ],
                          [
                            0.3333333333333333,
                            "#9c179e"
                          ],
                          [
                            0.4444444444444444,
                            "#bd3786"
                          ],
                          [
                            0.5555555555555556,
                            "#d8576b"
                          ],
                          [
                            0.6666666666666666,
                            "#ed7953"
                          ],
                          [
                            0.7777777777777778,
                            "#fb9f3a"
                          ],
                          [
                            0.8888888888888888,
                            "#fdca26"
                          ],
                          [
                            1,
                            "#f0f921"
                          ]
                        ],
                        "type": "contour"
                      }
                    ],
                    "contourcarpet": [
                      {
                        "colorbar": {
                          "outlinewidth": 0,
                          "ticks": ""
                        },
                        "type": "contourcarpet"
                      }
                    ],
                    "heatmap": [
                      {
                        "colorbar": {
                          "outlinewidth": 0,
                          "ticks": ""
                        },
                        "colorscale": [
                          [
                            0,
                            "#0d0887"
                          ],
                          [
                            0.1111111111111111,
                            "#46039f"
                          ],
                          [
                            0.2222222222222222,
                            "#7201a8"
                          ],
                          [
                            0.3333333333333333,
                            "#9c179e"
                          ],
                          [
                            0.4444444444444444,
                            "#bd3786"
                          ],
                          [
                            0.5555555555555556,
                            "#d8576b"
                          ],
                          [
                            0.6666666666666666,
                            "#ed7953"
                          ],
                          [
                            0.7777777777777778,
                            "#fb9f3a"
                          ],
                          [
                            0.8888888888888888,
                            "#fdca26"
                          ],
                          [
                            1,
                            "#f0f921"
                          ]
                        ],
                        "type": "heatmap"
                      }
                    ],
                    "heatmapgl": [
                      {
                        "colorbar": {
                          "outlinewidth": 0,
                          "ticks": ""
                        },
                        "colorscale": [
                          [
                            0,
                            "#0d0887"
                          ],
                          [
                            0.1111111111111111,
                            "#46039f"
                          ],
                          [
                            0.2222222222222222,
                            "#7201a8"
                          ],
                          [
                            0.3333333333333333,
                            "#9c179e"
                          ],
                          [
                            0.4444444444444444,
                            "#bd3786"
                          ],
                          [
                            0.5555555555555556,
                            "#d8576b"
                          ],
                          [
                            0.6666666666666666,
                            "#ed7953"
                          ],
                          [
                            0.7777777777777778,
                            "#fb9f3a"
                          ],
                          [
                            0.8888888888888888,
                            "#fdca26"
                          ],
                          [
                            1,
                            "#f0f921"
                          ]
                        ],
                        "type": "heatmapgl"
                      }
                    ],
                    "histogram": [
                      {
                        "marker": {
                          "pattern": {
                            "fillmode": "overlay",
                            "size": 10,
                            "solidity": 0.2
                          }
                        },
                        "type": "histogram"
                      }
                    ],
                    "histogram2d": [
                      {
                        "colorbar": {
                          "outlinewidth": 0,
                          "ticks": ""
                        },
                        "colorscale": [
                          [
                            0,
                            "#0d0887"
                          ],
                          [
                            0.1111111111111111,
                            "#46039f"
                          ],
                          [
                            0.2222222222222222,
                            "#7201a8"
                          ],
                          [
                            0.3333333333333333,
                            "#9c179e"
                          ],
                          [
                            0.4444444444444444,
                            "#bd3786"
                          ],
                          [
                            0.5555555555555556,
                            "#d8576b"
                          ],
                          [
                            0.6666666666666666,
                            "#ed7953"
                          ],
                          [
                            0.7777777777777778,
                            "#fb9f3a"
                          ],
                          [
                            0.8888888888888888,
                            "#fdca26"
                          ],
                          [
                            1,
                            "#f0f921"
                          ]
                        ],
                        "type": "histogram2d"
                      }
                    ],
                    "histogram2dcontour": [
                      {
                        "colorbar": {
                          "outlinewidth": 0,
                          "ticks": ""
                        },
                        "colorscale": [
                          [
                            0,
                            "#0d0887"
                          ],
                          [
                            0.1111111111111111,
                            "#46039f"
                          ],
                          [
                            0.2222222222222222,
                            "#7201a8"
                          ],
                          [
                            0.3333333333333333,
                            "#9c179e"
                          ],
                          [
                            0.4444444444444444,
                            "#bd3786"
                          ],
                          [
                            0.5555555555555556,
                            "#d8576b"
                          ],
                          [
                            0.6666666666666666,
                            "#ed7953"
                          ],
                          [
                            0.7777777777777778,
                            "#fb9f3a"
                          ],
                          [
                            0.8888888888888888,
                            "#fdca26"
                          ],
                          [
                            1,
                            "#f0f921"
                          ]
                        ],
                        "type": "histogram2dcontour"
                      }
                    ],
                    "mesh3d": [
                      {
                        "colorbar": {
                          "outlinewidth": 0,
                          "ticks": ""
                        },
                        "type": "mesh3d"
                      }
                    ],
                    "parcoords": [
                      {
                        "line": {
                          "colorbar": {
                            "outlinewidth": 0,
                            "ticks": ""
                          }
                        },
                        "type": "parcoords"
                      }
                    ],
                    "pie": [
                      {
                        "automargin": true,
                        "type": "pie"
                      }
                    ],
                    "scatter": [
                      {
                        "fillpattern": {
                          "fillmode": "overlay",
                          "size": 10,
                          "solidity": 0.2
                        },
                        "type": "scatter"
                      }
                    ],
                    "scatter3d": [
                      {
                        "line": {
                          "colorbar": {
                            "outlinewidth": 0,
                            "ticks": ""
                          }
                        },
                        "marker": {
                          "colorbar": {
                            "outlinewidth": 0,
                            "ticks": ""
                          }
                        },
                        "type": "scatter3d"
                      }
                    ],
                    "scattercarpet": [
                      {
                        "marker": {
                          "colorbar": {
                            "outlinewidth": 0,
                            "ticks": ""
                          }
                        },
                        "type": "scattercarpet"
                      }
                    ],
                    "scattergeo": [
                      {
                        "marker": {
                          "colorbar": {
                            "outlinewidth": 0,
                            "ticks": ""
                          }
                        },
                        "type": "scattergeo"
                      }
                    ],
                    "scattergl": [
                      {
                        "marker": {
                          "colorbar": {
                            "outlinewidth": 0,
                            "ticks": ""
                          }
                        },
                        "type": "scattergl"
                      }
                    ],
                    "scattermapbox": [
                      {
                        "marker": {
                          "colorbar": {
                            "outlinewidth": 0,
                            "ticks": ""
                          }
                        },
                        "type": "scattermapbox"
                      }
                    ],
                    "scatterpolar": [
                      {
                        "marker": {
                          "colorbar": {
                            "outlinewidth": 0,
                            "ticks": ""
                          }
                        },
                        "type": "scatterpolar"
                      }
                    ],
                    "scatterpolargl": [
                      {
                        "marker": {
                          "colorbar": {
                            "outlinewidth": 0,
                            "ticks": ""
                          }
                        },
                        "type": "scatterpolargl"
                      }
                    ],
                    "scatterternary": [
                      {
                        "marker": {
                          "colorbar": {
                            "outlinewidth": 0,
                            "ticks": ""
                          }
                        },
                        "type": "scatterternary"
                      }
                    ],
                    "surface": [
                      {
                        "colorbar": {
                          "outlinewidth": 0,
                          "ticks": ""
                        },
                        "colorscale": [
                          [
                            0,
                            "#0d0887"
                          ],
                          [
                            0.1111111111111111,
                            "#46039f"
                          ],
                          [
                            0.2222222222222222,
                            "#7201a8"
                          ],
                          [
                            0.3333333333333333,
                            "#9c179e"
                          ],
                          [
                            0.4444444444444444,
                            "#bd3786"
                          ],
                          [
                            0.5555555555555556,
                            "#d8576b"
                          ],
                          [
                            0.6666666666666666,
                            "#ed7953"
                          ],
                          [
                            0.7777777777777778,
                            "#fb9f3a"
                          ],
                          [
                            0.8888888888888888,
                            "#fdca26"
                          ],
                          [
                            1,
                            "#f0f921"
                          ]
                        ],
                        "type": "surface"
                      }
                    ],
                    "table": [
                      {
                        "cells": {
                          "fill": {
                            "color": "#EBF0F8"
                          },
                          "line": {
                            "color": "white"
                          }
                        },
                        "header": {
                          "fill": {
                            "color": "#C8D4E3"
                          },
                          "line": {
                            "color": "white"
                          }
                        },
                        "type": "table"
                      }
                    ]
                  },
                  "layout": {
                    "annotationdefaults": {
                      "arrowcolor": "#2a3f5f",
                      "arrowhead": 0,
                      "arrowwidth": 1
                    },
                    "autotypenumbers": "strict",
                    "coloraxis": {
                      "colorbar": {
                        "outlinewidth": 0,
                        "ticks": ""
                      }
                    },
                    "colorscale": {
                      "diverging": [
                        [
                          0,
                          "#8e0152"
                        ],
                        [
                          0.1,
                          "#c51b7d"
                        ],
                        [
                          0.2,
                          "#de77ae"
                        ],
                        [
                          0.3,
                          "#f1b6da"
                        ],
                        [
                          0.4,
                          "#fde0ef"
                        ],
                        [
                          0.5,
                          "#f7f7f7"
                        ],
                        [
                          0.6,
                          "#e6f5d0"
                        ],
                        [
                          0.7,
                          "#b8e186"
                        ],
                        [
                          0.8,
                          "#7fbc41"
                        ],
                        [
                          0.9,
                          "#4d9221"
                        ],
                        [
                          1,
                          "#276419"
                        ]
                      ],
                      "sequential": [
                        [
                          0,
                          "#0d0887"
                        ],
                        [
                          0.1111111111111111,
                          "#46039f"
                        ],
                        [
                          0.2222222222222222,
                          "#7201a8"
                        ],
                        [
                          0.3333333333333333,
                          "#9c179e"
                        ],
                        [
                          0.4444444444444444,
                          "#bd3786"
                        ],
                        [
                          0.5555555555555556,
                          "#d8576b"
                        ],
                        [
                          0.6666666666666666,
                          "#ed7953"
                        ],
                        [
                          0.7777777777777778,
                          "#fb9f3a"
                        ],
                        [
                          0.8888888888888888,
                          "#fdca26"
                        ],
                        [
                          1,
                          "#f0f921"
                        ]
                      ],
                      "sequentialminus": [
                        [
                          0,
                          "#0d0887"
                        ],
                        [
                          0.1111111111111111,
                          "#46039f"
                        ],
                        [
                          0.2222222222222222,
                          "#7201a8"
                        ],
                        [
                          0.3333333333333333,
                          "#9c179e"
                        ],
                        [
                          0.4444444444444444,
                          "#bd3786"
                        ],
                        [
                          0.5555555555555556,
                          "#d8576b"
                        ],
                        [
                          0.6666666666666666,
                          "#ed7953"
                        ],
                        [
                          0.7777777777777778,
                          "#fb9f3a"
                        ],
                        [
                          0.8888888888888888,
                          "#fdca26"
                        ],
                        [
                          1,
                          "#f0f921"
                        ]
                      ]
                    },
                    "colorway": [
                      "#636efa",
                      "#EF553B",
                      "#00cc96",
                      "#ab63fa",
                      "#FFA15A",
                      "#19d3f3",
                      "#FF6692",
                      "#B6E880",
                      "#FF97FF",
                      "#FECB52"
                    ],
                    "font": {
                      "color": "#2a3f5f"
                    },
                    "geo": {
                      "bgcolor": "white",
                      "lakecolor": "white",
                      "landcolor": "#E5ECF6",
                      "showlakes": true,
                      "showland": true,
                      "subunitcolor": "white"
                    },
                    "hoverlabel": {
                      "align": "left"
                    },
                    "hovermode": "closest",
                    "mapbox": {
                      "style": "light"
                    },
                    "paper_bgcolor": "white",
                    "plot_bgcolor": "#E5ECF6",
                    "polar": {
                      "angularaxis": {
                        "gridcolor": "white",
                        "linecolor": "white",
                        "ticks": ""
                      },
                      "bgcolor": "#E5ECF6",
                      "radialaxis": {
                        "gridcolor": "white",
                        "linecolor": "white",
                        "ticks": ""
                      }
                    },
                    "scene": {
                      "xaxis": {
                        "backgroundcolor": "#E5ECF6",
                        "gridcolor": "white",
                        "gridwidth": 2,
                        "linecolor": "white",
                        "showbackground": true,
                        "ticks": "",
                        "zerolinecolor": "white"
                      },
                      "yaxis": {
                        "backgroundcolor": "#E5ECF6",
                        "gridcolor": "white",
                        "gridwidth": 2,
                        "linecolor": "white",
                        "showbackground": true,
                        "ticks": "",
                        "zerolinecolor": "white"
                      },
                      "zaxis": {
                        "backgroundcolor": "#E5ECF6",
                        "gridcolor": "white",
                        "gridwidth": 2,
                        "linecolor": "white",
                        "showbackground": true,
                        "ticks": "",
                        "zerolinecolor": "white"
                      }
                    },
                    "shapedefaults": {
                      "line": {
                        "color": "#2a3f5f"
                      }
                    },
                    "ternary": {
                      "aaxis": {
                        "gridcolor": "white",
                        "linecolor": "white",
                        "ticks": ""
                      },
                      "baxis": {
                        "gridcolor": "white",
                        "linecolor": "white",
                        "ticks": ""
                      },
                      "bgcolor": "#E5ECF6",
                      "caxis": {
                        "gridcolor": "white",
                        "linecolor": "white",
                        "ticks": ""
                      }
                    },
                    "title": {
                      "x": 0.05
                    },
                    "xaxis": {
                      "automargin": true,
                      "gridcolor": "white",
                      "linecolor": "white",
                      "ticks": "",
                      "title": {
                        "standoff": 15
                      },
                      "zerolinecolor": "white",
                      "zerolinewidth": 2
                    },
                    "yaxis": {
                      "automargin": true,
                      "gridcolor": "white",
                      "linecolor": "white",
                      "ticks": "",
                      "title": {
                        "standoff": 15
                      },
                      "zerolinecolor": "white",
                      "zerolinewidth": 2
                    }
                  }
                },
                "title": {
                  "text": "Age Distribution for Heart Attack Risk = 1"
                },
                "xaxis": {
                  "anchor": "y",
                  "domain": [
                    0,
                    1
                  ],
                  "title": {
                    "text": "Age"
                  }
                },
                "yaxis": {
                  "anchor": "x",
                  "domain": [
                    0,
                    1
                  ],
                  "title": {
                    "text": "count"
                  }
                }
              }
            }
          },
          "metadata": {},
          "output_type": "display_data"
        },
        {
          "name": "stderr",
          "output_type": "stream",
          "text": [
            "C:\\Users\\ss1516\\AppData\\Local\\Temp\\ipykernel_23016\\4173476148.py:161: FutureWarning:\n",
            "\n",
            "The default of observed=False is deprecated and will be changed to True in a future version of pandas. Pass observed=False to retain current behavior or observed=True to adopt the future default and silence this warning.\n",
            "\n"
          ]
        },
        {
          "data": {
            "application/vnd.plotly.v1+json": {
              "config": {
                "plotlyServerURL": "https://plot.ly"
              },
              "data": [
                {
                  "alignmentgroup": "True",
                  "hovertemplate": "Age Group=%{x}<br>Mean Systolic BP=%{y}<br>Heart Attack Risk (0 = No, 1 = Yes)=%{marker.color}<extra></extra>",
                  "legendgroup": "",
                  "marker": {
                    "color": [
                      0,
                      1,
                      0,
                      1,
                      0,
                      1,
                      0,
                      1
                    ],
                    "coloraxis": "coloraxis",
                    "pattern": {
                      "shape": ""
                    }
                  },
                  "name": "",
                  "offsetgroup": "",
                  "orientation": "v",
                  "showlegend": false,
                  "textposition": "auto",
                  "type": "bar",
                  "x": [
                    "<30",
                    "<30",
                    "30-45",
                    "30-45",
                    "45-60",
                    "45-60",
                    "60+",
                    "60+"
                  ],
                  "xaxis": "x",
                  "y": [
                    135.69738118331716,
                    133.5958904109589,
                    134.68665540540542,
                    135.64601769911505,
                    133.55410122164048,
                    136.9419795221843,
                    134.8572691117985,
                    136.19209914794732
                  ],
                  "yaxis": "y"
                }
              ],
              "layout": {
                "barmode": "stack",
                "coloraxis": {
                  "colorbar": {
                    "title": {
                      "text": "Heart Attack Risk (0 = No, 1 = Yes)"
                    }
                  },
                  "colorscale": [
                    [
                      0,
                      "#0d0887"
                    ],
                    [
                      0.1111111111111111,
                      "#46039f"
                    ],
                    [
                      0.2222222222222222,
                      "#7201a8"
                    ],
                    [
                      0.3333333333333333,
                      "#9c179e"
                    ],
                    [
                      0.4444444444444444,
                      "#bd3786"
                    ],
                    [
                      0.5555555555555556,
                      "#d8576b"
                    ],
                    [
                      0.6666666666666666,
                      "#ed7953"
                    ],
                    [
                      0.7777777777777778,
                      "#fb9f3a"
                    ],
                    [
                      0.8888888888888888,
                      "#fdca26"
                    ],
                    [
                      1,
                      "#f0f921"
                    ]
                  ]
                },
                "legend": {
                  "tracegroupgap": 0
                },
                "template": {
                  "data": {
                    "bar": [
                      {
                        "error_x": {
                          "color": "#2a3f5f"
                        },
                        "error_y": {
                          "color": "#2a3f5f"
                        },
                        "marker": {
                          "line": {
                            "color": "#E5ECF6",
                            "width": 0.5
                          },
                          "pattern": {
                            "fillmode": "overlay",
                            "size": 10,
                            "solidity": 0.2
                          }
                        },
                        "type": "bar"
                      }
                    ],
                    "barpolar": [
                      {
                        "marker": {
                          "line": {
                            "color": "#E5ECF6",
                            "width": 0.5
                          },
                          "pattern": {
                            "fillmode": "overlay",
                            "size": 10,
                            "solidity": 0.2
                          }
                        },
                        "type": "barpolar"
                      }
                    ],
                    "carpet": [
                      {
                        "aaxis": {
                          "endlinecolor": "#2a3f5f",
                          "gridcolor": "white",
                          "linecolor": "white",
                          "minorgridcolor": "white",
                          "startlinecolor": "#2a3f5f"
                        },
                        "baxis": {
                          "endlinecolor": "#2a3f5f",
                          "gridcolor": "white",
                          "linecolor": "white",
                          "minorgridcolor": "white",
                          "startlinecolor": "#2a3f5f"
                        },
                        "type": "carpet"
                      }
                    ],
                    "choropleth": [
                      {
                        "colorbar": {
                          "outlinewidth": 0,
                          "ticks": ""
                        },
                        "type": "choropleth"
                      }
                    ],
                    "contour": [
                      {
                        "colorbar": {
                          "outlinewidth": 0,
                          "ticks": ""
                        },
                        "colorscale": [
                          [
                            0,
                            "#0d0887"
                          ],
                          [
                            0.1111111111111111,
                            "#46039f"
                          ],
                          [
                            0.2222222222222222,
                            "#7201a8"
                          ],
                          [
                            0.3333333333333333,
                            "#9c179e"
                          ],
                          [
                            0.4444444444444444,
                            "#bd3786"
                          ],
                          [
                            0.5555555555555556,
                            "#d8576b"
                          ],
                          [
                            0.6666666666666666,
                            "#ed7953"
                          ],
                          [
                            0.7777777777777778,
                            "#fb9f3a"
                          ],
                          [
                            0.8888888888888888,
                            "#fdca26"
                          ],
                          [
                            1,
                            "#f0f921"
                          ]
                        ],
                        "type": "contour"
                      }
                    ],
                    "contourcarpet": [
                      {
                        "colorbar": {
                          "outlinewidth": 0,
                          "ticks": ""
                        },
                        "type": "contourcarpet"
                      }
                    ],
                    "heatmap": [
                      {
                        "colorbar": {
                          "outlinewidth": 0,
                          "ticks": ""
                        },
                        "colorscale": [
                          [
                            0,
                            "#0d0887"
                          ],
                          [
                            0.1111111111111111,
                            "#46039f"
                          ],
                          [
                            0.2222222222222222,
                            "#7201a8"
                          ],
                          [
                            0.3333333333333333,
                            "#9c179e"
                          ],
                          [
                            0.4444444444444444,
                            "#bd3786"
                          ],
                          [
                            0.5555555555555556,
                            "#d8576b"
                          ],
                          [
                            0.6666666666666666,
                            "#ed7953"
                          ],
                          [
                            0.7777777777777778,
                            "#fb9f3a"
                          ],
                          [
                            0.8888888888888888,
                            "#fdca26"
                          ],
                          [
                            1,
                            "#f0f921"
                          ]
                        ],
                        "type": "heatmap"
                      }
                    ],
                    "heatmapgl": [
                      {
                        "colorbar": {
                          "outlinewidth": 0,
                          "ticks": ""
                        },
                        "colorscale": [
                          [
                            0,
                            "#0d0887"
                          ],
                          [
                            0.1111111111111111,
                            "#46039f"
                          ],
                          [
                            0.2222222222222222,
                            "#7201a8"
                          ],
                          [
                            0.3333333333333333,
                            "#9c179e"
                          ],
                          [
                            0.4444444444444444,
                            "#bd3786"
                          ],
                          [
                            0.5555555555555556,
                            "#d8576b"
                          ],
                          [
                            0.6666666666666666,
                            "#ed7953"
                          ],
                          [
                            0.7777777777777778,
                            "#fb9f3a"
                          ],
                          [
                            0.8888888888888888,
                            "#fdca26"
                          ],
                          [
                            1,
                            "#f0f921"
                          ]
                        ],
                        "type": "heatmapgl"
                      }
                    ],
                    "histogram": [
                      {
                        "marker": {
                          "pattern": {
                            "fillmode": "overlay",
                            "size": 10,
                            "solidity": 0.2
                          }
                        },
                        "type": "histogram"
                      }
                    ],
                    "histogram2d": [
                      {
                        "colorbar": {
                          "outlinewidth": 0,
                          "ticks": ""
                        },
                        "colorscale": [
                          [
                            0,
                            "#0d0887"
                          ],
                          [
                            0.1111111111111111,
                            "#46039f"
                          ],
                          [
                            0.2222222222222222,
                            "#7201a8"
                          ],
                          [
                            0.3333333333333333,
                            "#9c179e"
                          ],
                          [
                            0.4444444444444444,
                            "#bd3786"
                          ],
                          [
                            0.5555555555555556,
                            "#d8576b"
                          ],
                          [
                            0.6666666666666666,
                            "#ed7953"
                          ],
                          [
                            0.7777777777777778,
                            "#fb9f3a"
                          ],
                          [
                            0.8888888888888888,
                            "#fdca26"
                          ],
                          [
                            1,
                            "#f0f921"
                          ]
                        ],
                        "type": "histogram2d"
                      }
                    ],
                    "histogram2dcontour": [
                      {
                        "colorbar": {
                          "outlinewidth": 0,
                          "ticks": ""
                        },
                        "colorscale": [
                          [
                            0,
                            "#0d0887"
                          ],
                          [
                            0.1111111111111111,
                            "#46039f"
                          ],
                          [
                            0.2222222222222222,
                            "#7201a8"
                          ],
                          [
                            0.3333333333333333,
                            "#9c179e"
                          ],
                          [
                            0.4444444444444444,
                            "#bd3786"
                          ],
                          [
                            0.5555555555555556,
                            "#d8576b"
                          ],
                          [
                            0.6666666666666666,
                            "#ed7953"
                          ],
                          [
                            0.7777777777777778,
                            "#fb9f3a"
                          ],
                          [
                            0.8888888888888888,
                            "#fdca26"
                          ],
                          [
                            1,
                            "#f0f921"
                          ]
                        ],
                        "type": "histogram2dcontour"
                      }
                    ],
                    "mesh3d": [
                      {
                        "colorbar": {
                          "outlinewidth": 0,
                          "ticks": ""
                        },
                        "type": "mesh3d"
                      }
                    ],
                    "parcoords": [
                      {
                        "line": {
                          "colorbar": {
                            "outlinewidth": 0,
                            "ticks": ""
                          }
                        },
                        "type": "parcoords"
                      }
                    ],
                    "pie": [
                      {
                        "automargin": true,
                        "type": "pie"
                      }
                    ],
                    "scatter": [
                      {
                        "fillpattern": {
                          "fillmode": "overlay",
                          "size": 10,
                          "solidity": 0.2
                        },
                        "type": "scatter"
                      }
                    ],
                    "scatter3d": [
                      {
                        "line": {
                          "colorbar": {
                            "outlinewidth": 0,
                            "ticks": ""
                          }
                        },
                        "marker": {
                          "colorbar": {
                            "outlinewidth": 0,
                            "ticks": ""
                          }
                        },
                        "type": "scatter3d"
                      }
                    ],
                    "scattercarpet": [
                      {
                        "marker": {
                          "colorbar": {
                            "outlinewidth": 0,
                            "ticks": ""
                          }
                        },
                        "type": "scattercarpet"
                      }
                    ],
                    "scattergeo": [
                      {
                        "marker": {
                          "colorbar": {
                            "outlinewidth": 0,
                            "ticks": ""
                          }
                        },
                        "type": "scattergeo"
                      }
                    ],
                    "scattergl": [
                      {
                        "marker": {
                          "colorbar": {
                            "outlinewidth": 0,
                            "ticks": ""
                          }
                        },
                        "type": "scattergl"
                      }
                    ],
                    "scattermapbox": [
                      {
                        "marker": {
                          "colorbar": {
                            "outlinewidth": 0,
                            "ticks": ""
                          }
                        },
                        "type": "scattermapbox"
                      }
                    ],
                    "scatterpolar": [
                      {
                        "marker": {
                          "colorbar": {
                            "outlinewidth": 0,
                            "ticks": ""
                          }
                        },
                        "type": "scatterpolar"
                      }
                    ],
                    "scatterpolargl": [
                      {
                        "marker": {
                          "colorbar": {
                            "outlinewidth": 0,
                            "ticks": ""
                          }
                        },
                        "type": "scatterpolargl"
                      }
                    ],
                    "scatterternary": [
                      {
                        "marker": {
                          "colorbar": {
                            "outlinewidth": 0,
                            "ticks": ""
                          }
                        },
                        "type": "scatterternary"
                      }
                    ],
                    "surface": [
                      {
                        "colorbar": {
                          "outlinewidth": 0,
                          "ticks": ""
                        },
                        "colorscale": [
                          [
                            0,
                            "#0d0887"
                          ],
                          [
                            0.1111111111111111,
                            "#46039f"
                          ],
                          [
                            0.2222222222222222,
                            "#7201a8"
                          ],
                          [
                            0.3333333333333333,
                            "#9c179e"
                          ],
                          [
                            0.4444444444444444,
                            "#bd3786"
                          ],
                          [
                            0.5555555555555556,
                            "#d8576b"
                          ],
                          [
                            0.6666666666666666,
                            "#ed7953"
                          ],
                          [
                            0.7777777777777778,
                            "#fb9f3a"
                          ],
                          [
                            0.8888888888888888,
                            "#fdca26"
                          ],
                          [
                            1,
                            "#f0f921"
                          ]
                        ],
                        "type": "surface"
                      }
                    ],
                    "table": [
                      {
                        "cells": {
                          "fill": {
                            "color": "#EBF0F8"
                          },
                          "line": {
                            "color": "white"
                          }
                        },
                        "header": {
                          "fill": {
                            "color": "#C8D4E3"
                          },
                          "line": {
                            "color": "white"
                          }
                        },
                        "type": "table"
                      }
                    ]
                  },
                  "layout": {
                    "annotationdefaults": {
                      "arrowcolor": "#2a3f5f",
                      "arrowhead": 0,
                      "arrowwidth": 1
                    },
                    "autotypenumbers": "strict",
                    "coloraxis": {
                      "colorbar": {
                        "outlinewidth": 0,
                        "ticks": ""
                      }
                    },
                    "colorscale": {
                      "diverging": [
                        [
                          0,
                          "#8e0152"
                        ],
                        [
                          0.1,
                          "#c51b7d"
                        ],
                        [
                          0.2,
                          "#de77ae"
                        ],
                        [
                          0.3,
                          "#f1b6da"
                        ],
                        [
                          0.4,
                          "#fde0ef"
                        ],
                        [
                          0.5,
                          "#f7f7f7"
                        ],
                        [
                          0.6,
                          "#e6f5d0"
                        ],
                        [
                          0.7,
                          "#b8e186"
                        ],
                        [
                          0.8,
                          "#7fbc41"
                        ],
                        [
                          0.9,
                          "#4d9221"
                        ],
                        [
                          1,
                          "#276419"
                        ]
                      ],
                      "sequential": [
                        [
                          0,
                          "#0d0887"
                        ],
                        [
                          0.1111111111111111,
                          "#46039f"
                        ],
                        [
                          0.2222222222222222,
                          "#7201a8"
                        ],
                        [
                          0.3333333333333333,
                          "#9c179e"
                        ],
                        [
                          0.4444444444444444,
                          "#bd3786"
                        ],
                        [
                          0.5555555555555556,
                          "#d8576b"
                        ],
                        [
                          0.6666666666666666,
                          "#ed7953"
                        ],
                        [
                          0.7777777777777778,
                          "#fb9f3a"
                        ],
                        [
                          0.8888888888888888,
                          "#fdca26"
                        ],
                        [
                          1,
                          "#f0f921"
                        ]
                      ],
                      "sequentialminus": [
                        [
                          0,
                          "#0d0887"
                        ],
                        [
                          0.1111111111111111,
                          "#46039f"
                        ],
                        [
                          0.2222222222222222,
                          "#7201a8"
                        ],
                        [
                          0.3333333333333333,
                          "#9c179e"
                        ],
                        [
                          0.4444444444444444,
                          "#bd3786"
                        ],
                        [
                          0.5555555555555556,
                          "#d8576b"
                        ],
                        [
                          0.6666666666666666,
                          "#ed7953"
                        ],
                        [
                          0.7777777777777778,
                          "#fb9f3a"
                        ],
                        [
                          0.8888888888888888,
                          "#fdca26"
                        ],
                        [
                          1,
                          "#f0f921"
                        ]
                      ]
                    },
                    "colorway": [
                      "#636efa",
                      "#EF553B",
                      "#00cc96",
                      "#ab63fa",
                      "#FFA15A",
                      "#19d3f3",
                      "#FF6692",
                      "#B6E880",
                      "#FF97FF",
                      "#FECB52"
                    ],
                    "font": {
                      "color": "#2a3f5f"
                    },
                    "geo": {
                      "bgcolor": "white",
                      "lakecolor": "white",
                      "landcolor": "#E5ECF6",
                      "showlakes": true,
                      "showland": true,
                      "subunitcolor": "white"
                    },
                    "hoverlabel": {
                      "align": "left"
                    },
                    "hovermode": "closest",
                    "mapbox": {
                      "style": "light"
                    },
                    "paper_bgcolor": "white",
                    "plot_bgcolor": "#E5ECF6",
                    "polar": {
                      "angularaxis": {
                        "gridcolor": "white",
                        "linecolor": "white",
                        "ticks": ""
                      },
                      "bgcolor": "#E5ECF6",
                      "radialaxis": {
                        "gridcolor": "white",
                        "linecolor": "white",
                        "ticks": ""
                      }
                    },
                    "scene": {
                      "xaxis": {
                        "backgroundcolor": "#E5ECF6",
                        "gridcolor": "white",
                        "gridwidth": 2,
                        "linecolor": "white",
                        "showbackground": true,
                        "ticks": "",
                        "zerolinecolor": "white"
                      },
                      "yaxis": {
                        "backgroundcolor": "#E5ECF6",
                        "gridcolor": "white",
                        "gridwidth": 2,
                        "linecolor": "white",
                        "showbackground": true,
                        "ticks": "",
                        "zerolinecolor": "white"
                      },
                      "zaxis": {
                        "backgroundcolor": "#E5ECF6",
                        "gridcolor": "white",
                        "gridwidth": 2,
                        "linecolor": "white",
                        "showbackground": true,
                        "ticks": "",
                        "zerolinecolor": "white"
                      }
                    },
                    "shapedefaults": {
                      "line": {
                        "color": "#2a3f5f"
                      }
                    },
                    "ternary": {
                      "aaxis": {
                        "gridcolor": "white",
                        "linecolor": "white",
                        "ticks": ""
                      },
                      "baxis": {
                        "gridcolor": "white",
                        "linecolor": "white",
                        "ticks": ""
                      },
                      "bgcolor": "#E5ECF6",
                      "caxis": {
                        "gridcolor": "white",
                        "linecolor": "white",
                        "ticks": ""
                      }
                    },
                    "title": {
                      "x": 0.05
                    },
                    "xaxis": {
                      "automargin": true,
                      "gridcolor": "white",
                      "linecolor": "white",
                      "ticks": "",
                      "title": {
                        "standoff": 15
                      },
                      "zerolinecolor": "white",
                      "zerolinewidth": 2
                    },
                    "yaxis": {
                      "automargin": true,
                      "gridcolor": "white",
                      "linecolor": "white",
                      "ticks": "",
                      "title": {
                        "standoff": 15
                      },
                      "zerolinecolor": "white",
                      "zerolinewidth": 2
                    }
                  }
                },
                "title": {
                  "text": "Systolic Blood Pressure by Age Group and Heart Attack Risk"
                },
                "xaxis": {
                  "anchor": "y",
                  "domain": [
                    0,
                    1
                  ],
                  "title": {
                    "text": "Age Group"
                  }
                },
                "yaxis": {
                  "anchor": "x",
                  "domain": [
                    0,
                    1
                  ],
                  "title": {
                    "text": "Mean Systolic BP"
                  }
                }
              }
            }
          },
          "metadata": {},
          "output_type": "display_data"
        },
        {
          "data": {
            "application/vnd.plotly.v1+json": {
              "config": {
                "plotlyServerURL": "https://plot.ly"
              },
              "data": [
                {
                  "alignmentgroup": "True",
                  "hovertemplate": "Age Group=%{x}<br>Mean Diastolic BP=%{y}<br>Heart Attack Risk (0 = No, 1 = Yes)=%{marker.color}<extra></extra>",
                  "legendgroup": "",
                  "marker": {
                    "color": [
                      0,
                      1,
                      0,
                      1,
                      0,
                      1,
                      0,
                      1
                    ],
                    "coloraxis": "coloraxis",
                    "pattern": {
                      "shape": ""
                    }
                  },
                  "name": "",
                  "offsetgroup": "",
                  "orientation": "v",
                  "showlegend": false,
                  "textposition": "auto",
                  "type": "bar",
                  "x": [
                    "<30",
                    "<30",
                    "30-45",
                    "30-45",
                    "45-60",
                    "45-60",
                    "60+",
                    "60+"
                  ],
                  "xaxis": "x",
                  "y": [
                    85.56062075654704,
                    85.12842465753425,
                    84.8741554054054,
                    85.42772861356931,
                    85.86125654450262,
                    84.98976109215018,
                    84.96685815289439,
                    84.7428350116189
                  ],
                  "yaxis": "y"
                }
              ],
              "layout": {
                "barmode": "stack",
                "coloraxis": {
                  "colorbar": {
                    "title": {
                      "text": "Heart Attack Risk (0 = No, 1 = Yes)"
                    }
                  },
                  "colorscale": [
                    [
                      0,
                      "#0d0887"
                    ],
                    [
                      0.1111111111111111,
                      "#46039f"
                    ],
                    [
                      0.2222222222222222,
                      "#7201a8"
                    ],
                    [
                      0.3333333333333333,
                      "#9c179e"
                    ],
                    [
                      0.4444444444444444,
                      "#bd3786"
                    ],
                    [
                      0.5555555555555556,
                      "#d8576b"
                    ],
                    [
                      0.6666666666666666,
                      "#ed7953"
                    ],
                    [
                      0.7777777777777778,
                      "#fb9f3a"
                    ],
                    [
                      0.8888888888888888,
                      "#fdca26"
                    ],
                    [
                      1,
                      "#f0f921"
                    ]
                  ]
                },
                "legend": {
                  "tracegroupgap": 0
                },
                "template": {
                  "data": {
                    "bar": [
                      {
                        "error_x": {
                          "color": "#2a3f5f"
                        },
                        "error_y": {
                          "color": "#2a3f5f"
                        },
                        "marker": {
                          "line": {
                            "color": "#E5ECF6",
                            "width": 0.5
                          },
                          "pattern": {
                            "fillmode": "overlay",
                            "size": 10,
                            "solidity": 0.2
                          }
                        },
                        "type": "bar"
                      }
                    ],
                    "barpolar": [
                      {
                        "marker": {
                          "line": {
                            "color": "#E5ECF6",
                            "width": 0.5
                          },
                          "pattern": {
                            "fillmode": "overlay",
                            "size": 10,
                            "solidity": 0.2
                          }
                        },
                        "type": "barpolar"
                      }
                    ],
                    "carpet": [
                      {
                        "aaxis": {
                          "endlinecolor": "#2a3f5f",
                          "gridcolor": "white",
                          "linecolor": "white",
                          "minorgridcolor": "white",
                          "startlinecolor": "#2a3f5f"
                        },
                        "baxis": {
                          "endlinecolor": "#2a3f5f",
                          "gridcolor": "white",
                          "linecolor": "white",
                          "minorgridcolor": "white",
                          "startlinecolor": "#2a3f5f"
                        },
                        "type": "carpet"
                      }
                    ],
                    "choropleth": [
                      {
                        "colorbar": {
                          "outlinewidth": 0,
                          "ticks": ""
                        },
                        "type": "choropleth"
                      }
                    ],
                    "contour": [
                      {
                        "colorbar": {
                          "outlinewidth": 0,
                          "ticks": ""
                        },
                        "colorscale": [
                          [
                            0,
                            "#0d0887"
                          ],
                          [
                            0.1111111111111111,
                            "#46039f"
                          ],
                          [
                            0.2222222222222222,
                            "#7201a8"
                          ],
                          [
                            0.3333333333333333,
                            "#9c179e"
                          ],
                          [
                            0.4444444444444444,
                            "#bd3786"
                          ],
                          [
                            0.5555555555555556,
                            "#d8576b"
                          ],
                          [
                            0.6666666666666666,
                            "#ed7953"
                          ],
                          [
                            0.7777777777777778,
                            "#fb9f3a"
                          ],
                          [
                            0.8888888888888888,
                            "#fdca26"
                          ],
                          [
                            1,
                            "#f0f921"
                          ]
                        ],
                        "type": "contour"
                      }
                    ],
                    "contourcarpet": [
                      {
                        "colorbar": {
                          "outlinewidth": 0,
                          "ticks": ""
                        },
                        "type": "contourcarpet"
                      }
                    ],
                    "heatmap": [
                      {
                        "colorbar": {
                          "outlinewidth": 0,
                          "ticks": ""
                        },
                        "colorscale": [
                          [
                            0,
                            "#0d0887"
                          ],
                          [
                            0.1111111111111111,
                            "#46039f"
                          ],
                          [
                            0.2222222222222222,
                            "#7201a8"
                          ],
                          [
                            0.3333333333333333,
                            "#9c179e"
                          ],
                          [
                            0.4444444444444444,
                            "#bd3786"
                          ],
                          [
                            0.5555555555555556,
                            "#d8576b"
                          ],
                          [
                            0.6666666666666666,
                            "#ed7953"
                          ],
                          [
                            0.7777777777777778,
                            "#fb9f3a"
                          ],
                          [
                            0.8888888888888888,
                            "#fdca26"
                          ],
                          [
                            1,
                            "#f0f921"
                          ]
                        ],
                        "type": "heatmap"
                      }
                    ],
                    "heatmapgl": [
                      {
                        "colorbar": {
                          "outlinewidth": 0,
                          "ticks": ""
                        },
                        "colorscale": [
                          [
                            0,
                            "#0d0887"
                          ],
                          [
                            0.1111111111111111,
                            "#46039f"
                          ],
                          [
                            0.2222222222222222,
                            "#7201a8"
                          ],
                          [
                            0.3333333333333333,
                            "#9c179e"
                          ],
                          [
                            0.4444444444444444,
                            "#bd3786"
                          ],
                          [
                            0.5555555555555556,
                            "#d8576b"
                          ],
                          [
                            0.6666666666666666,
                            "#ed7953"
                          ],
                          [
                            0.7777777777777778,
                            "#fb9f3a"
                          ],
                          [
                            0.8888888888888888,
                            "#fdca26"
                          ],
                          [
                            1,
                            "#f0f921"
                          ]
                        ],
                        "type": "heatmapgl"
                      }
                    ],
                    "histogram": [
                      {
                        "marker": {
                          "pattern": {
                            "fillmode": "overlay",
                            "size": 10,
                            "solidity": 0.2
                          }
                        },
                        "type": "histogram"
                      }
                    ],
                    "histogram2d": [
                      {
                        "colorbar": {
                          "outlinewidth": 0,
                          "ticks": ""
                        },
                        "colorscale": [
                          [
                            0,
                            "#0d0887"
                          ],
                          [
                            0.1111111111111111,
                            "#46039f"
                          ],
                          [
                            0.2222222222222222,
                            "#7201a8"
                          ],
                          [
                            0.3333333333333333,
                            "#9c179e"
                          ],
                          [
                            0.4444444444444444,
                            "#bd3786"
                          ],
                          [
                            0.5555555555555556,
                            "#d8576b"
                          ],
                          [
                            0.6666666666666666,
                            "#ed7953"
                          ],
                          [
                            0.7777777777777778,
                            "#fb9f3a"
                          ],
                          [
                            0.8888888888888888,
                            "#fdca26"
                          ],
                          [
                            1,
                            "#f0f921"
                          ]
                        ],
                        "type": "histogram2d"
                      }
                    ],
                    "histogram2dcontour": [
                      {
                        "colorbar": {
                          "outlinewidth": 0,
                          "ticks": ""
                        },
                        "colorscale": [
                          [
                            0,
                            "#0d0887"
                          ],
                          [
                            0.1111111111111111,
                            "#46039f"
                          ],
                          [
                            0.2222222222222222,
                            "#7201a8"
                          ],
                          [
                            0.3333333333333333,
                            "#9c179e"
                          ],
                          [
                            0.4444444444444444,
                            "#bd3786"
                          ],
                          [
                            0.5555555555555556,
                            "#d8576b"
                          ],
                          [
                            0.6666666666666666,
                            "#ed7953"
                          ],
                          [
                            0.7777777777777778,
                            "#fb9f3a"
                          ],
                          [
                            0.8888888888888888,
                            "#fdca26"
                          ],
                          [
                            1,
                            "#f0f921"
                          ]
                        ],
                        "type": "histogram2dcontour"
                      }
                    ],
                    "mesh3d": [
                      {
                        "colorbar": {
                          "outlinewidth": 0,
                          "ticks": ""
                        },
                        "type": "mesh3d"
                      }
                    ],
                    "parcoords": [
                      {
                        "line": {
                          "colorbar": {
                            "outlinewidth": 0,
                            "ticks": ""
                          }
                        },
                        "type": "parcoords"
                      }
                    ],
                    "pie": [
                      {
                        "automargin": true,
                        "type": "pie"
                      }
                    ],
                    "scatter": [
                      {
                        "fillpattern": {
                          "fillmode": "overlay",
                          "size": 10,
                          "solidity": 0.2
                        },
                        "type": "scatter"
                      }
                    ],
                    "scatter3d": [
                      {
                        "line": {
                          "colorbar": {
                            "outlinewidth": 0,
                            "ticks": ""
                          }
                        },
                        "marker": {
                          "colorbar": {
                            "outlinewidth": 0,
                            "ticks": ""
                          }
                        },
                        "type": "scatter3d"
                      }
                    ],
                    "scattercarpet": [
                      {
                        "marker": {
                          "colorbar": {
                            "outlinewidth": 0,
                            "ticks": ""
                          }
                        },
                        "type": "scattercarpet"
                      }
                    ],
                    "scattergeo": [
                      {
                        "marker": {
                          "colorbar": {
                            "outlinewidth": 0,
                            "ticks": ""
                          }
                        },
                        "type": "scattergeo"
                      }
                    ],
                    "scattergl": [
                      {
                        "marker": {
                          "colorbar": {
                            "outlinewidth": 0,
                            "ticks": ""
                          }
                        },
                        "type": "scattergl"
                      }
                    ],
                    "scattermapbox": [
                      {
                        "marker": {
                          "colorbar": {
                            "outlinewidth": 0,
                            "ticks": ""
                          }
                        },
                        "type": "scattermapbox"
                      }
                    ],
                    "scatterpolar": [
                      {
                        "marker": {
                          "colorbar": {
                            "outlinewidth": 0,
                            "ticks": ""
                          }
                        },
                        "type": "scatterpolar"
                      }
                    ],
                    "scatterpolargl": [
                      {
                        "marker": {
                          "colorbar": {
                            "outlinewidth": 0,
                            "ticks": ""
                          }
                        },
                        "type": "scatterpolargl"
                      }
                    ],
                    "scatterternary": [
                      {
                        "marker": {
                          "colorbar": {
                            "outlinewidth": 0,
                            "ticks": ""
                          }
                        },
                        "type": "scatterternary"
                      }
                    ],
                    "surface": [
                      {
                        "colorbar": {
                          "outlinewidth": 0,
                          "ticks": ""
                        },
                        "colorscale": [
                          [
                            0,
                            "#0d0887"
                          ],
                          [
                            0.1111111111111111,
                            "#46039f"
                          ],
                          [
                            0.2222222222222222,
                            "#7201a8"
                          ],
                          [
                            0.3333333333333333,
                            "#9c179e"
                          ],
                          [
                            0.4444444444444444,
                            "#bd3786"
                          ],
                          [
                            0.5555555555555556,
                            "#d8576b"
                          ],
                          [
                            0.6666666666666666,
                            "#ed7953"
                          ],
                          [
                            0.7777777777777778,
                            "#fb9f3a"
                          ],
                          [
                            0.8888888888888888,
                            "#fdca26"
                          ],
                          [
                            1,
                            "#f0f921"
                          ]
                        ],
                        "type": "surface"
                      }
                    ],
                    "table": [
                      {
                        "cells": {
                          "fill": {
                            "color": "#EBF0F8"
                          },
                          "line": {
                            "color": "white"
                          }
                        },
                        "header": {
                          "fill": {
                            "color": "#C8D4E3"
                          },
                          "line": {
                            "color": "white"
                          }
                        },
                        "type": "table"
                      }
                    ]
                  },
                  "layout": {
                    "annotationdefaults": {
                      "arrowcolor": "#2a3f5f",
                      "arrowhead": 0,
                      "arrowwidth": 1
                    },
                    "autotypenumbers": "strict",
                    "coloraxis": {
                      "colorbar": {
                        "outlinewidth": 0,
                        "ticks": ""
                      }
                    },
                    "colorscale": {
                      "diverging": [
                        [
                          0,
                          "#8e0152"
                        ],
                        [
                          0.1,
                          "#c51b7d"
                        ],
                        [
                          0.2,
                          "#de77ae"
                        ],
                        [
                          0.3,
                          "#f1b6da"
                        ],
                        [
                          0.4,
                          "#fde0ef"
                        ],
                        [
                          0.5,
                          "#f7f7f7"
                        ],
                        [
                          0.6,
                          "#e6f5d0"
                        ],
                        [
                          0.7,
                          "#b8e186"
                        ],
                        [
                          0.8,
                          "#7fbc41"
                        ],
                        [
                          0.9,
                          "#4d9221"
                        ],
                        [
                          1,
                          "#276419"
                        ]
                      ],
                      "sequential": [
                        [
                          0,
                          "#0d0887"
                        ],
                        [
                          0.1111111111111111,
                          "#46039f"
                        ],
                        [
                          0.2222222222222222,
                          "#7201a8"
                        ],
                        [
                          0.3333333333333333,
                          "#9c179e"
                        ],
                        [
                          0.4444444444444444,
                          "#bd3786"
                        ],
                        [
                          0.5555555555555556,
                          "#d8576b"
                        ],
                        [
                          0.6666666666666666,
                          "#ed7953"
                        ],
                        [
                          0.7777777777777778,
                          "#fb9f3a"
                        ],
                        [
                          0.8888888888888888,
                          "#fdca26"
                        ],
                        [
                          1,
                          "#f0f921"
                        ]
                      ],
                      "sequentialminus": [
                        [
                          0,
                          "#0d0887"
                        ],
                        [
                          0.1111111111111111,
                          "#46039f"
                        ],
                        [
                          0.2222222222222222,
                          "#7201a8"
                        ],
                        [
                          0.3333333333333333,
                          "#9c179e"
                        ],
                        [
                          0.4444444444444444,
                          "#bd3786"
                        ],
                        [
                          0.5555555555555556,
                          "#d8576b"
                        ],
                        [
                          0.6666666666666666,
                          "#ed7953"
                        ],
                        [
                          0.7777777777777778,
                          "#fb9f3a"
                        ],
                        [
                          0.8888888888888888,
                          "#fdca26"
                        ],
                        [
                          1,
                          "#f0f921"
                        ]
                      ]
                    },
                    "colorway": [
                      "#636efa",
                      "#EF553B",
                      "#00cc96",
                      "#ab63fa",
                      "#FFA15A",
                      "#19d3f3",
                      "#FF6692",
                      "#B6E880",
                      "#FF97FF",
                      "#FECB52"
                    ],
                    "font": {
                      "color": "#2a3f5f"
                    },
                    "geo": {
                      "bgcolor": "white",
                      "lakecolor": "white",
                      "landcolor": "#E5ECF6",
                      "showlakes": true,
                      "showland": true,
                      "subunitcolor": "white"
                    },
                    "hoverlabel": {
                      "align": "left"
                    },
                    "hovermode": "closest",
                    "mapbox": {
                      "style": "light"
                    },
                    "paper_bgcolor": "white",
                    "plot_bgcolor": "#E5ECF6",
                    "polar": {
                      "angularaxis": {
                        "gridcolor": "white",
                        "linecolor": "white",
                        "ticks": ""
                      },
                      "bgcolor": "#E5ECF6",
                      "radialaxis": {
                        "gridcolor": "white",
                        "linecolor": "white",
                        "ticks": ""
                      }
                    },
                    "scene": {
                      "xaxis": {
                        "backgroundcolor": "#E5ECF6",
                        "gridcolor": "white",
                        "gridwidth": 2,
                        "linecolor": "white",
                        "showbackground": true,
                        "ticks": "",
                        "zerolinecolor": "white"
                      },
                      "yaxis": {
                        "backgroundcolor": "#E5ECF6",
                        "gridcolor": "white",
                        "gridwidth": 2,
                        "linecolor": "white",
                        "showbackground": true,
                        "ticks": "",
                        "zerolinecolor": "white"
                      },
                      "zaxis": {
                        "backgroundcolor": "#E5ECF6",
                        "gridcolor": "white",
                        "gridwidth": 2,
                        "linecolor": "white",
                        "showbackground": true,
                        "ticks": "",
                        "zerolinecolor": "white"
                      }
                    },
                    "shapedefaults": {
                      "line": {
                        "color": "#2a3f5f"
                      }
                    },
                    "ternary": {
                      "aaxis": {
                        "gridcolor": "white",
                        "linecolor": "white",
                        "ticks": ""
                      },
                      "baxis": {
                        "gridcolor": "white",
                        "linecolor": "white",
                        "ticks": ""
                      },
                      "bgcolor": "#E5ECF6",
                      "caxis": {
                        "gridcolor": "white",
                        "linecolor": "white",
                        "ticks": ""
                      }
                    },
                    "title": {
                      "x": 0.05
                    },
                    "xaxis": {
                      "automargin": true,
                      "gridcolor": "white",
                      "linecolor": "white",
                      "ticks": "",
                      "title": {
                        "standoff": 15
                      },
                      "zerolinecolor": "white",
                      "zerolinewidth": 2
                    },
                    "yaxis": {
                      "automargin": true,
                      "gridcolor": "white",
                      "linecolor": "white",
                      "ticks": "",
                      "title": {
                        "standoff": 15
                      },
                      "zerolinecolor": "white",
                      "zerolinewidth": 2
                    }
                  }
                },
                "title": {
                  "text": "Diastolic Blood Pressure by Age Group and Heart Attack Risk"
                },
                "xaxis": {
                  "anchor": "y",
                  "domain": [
                    0,
                    1
                  ],
                  "title": {
                    "text": "Age Group"
                  }
                },
                "yaxis": {
                  "anchor": "x",
                  "domain": [
                    0,
                    1
                  ],
                  "title": {
                    "text": "Mean Diastolic BP"
                  }
                }
              }
            }
          },
          "metadata": {},
          "output_type": "display_data"
        }
      ],
      "source": [
        "import plotly.express as px\n",
        "import pandas as pd\n",
        "import os\n",
        "\n",
        "\n",
        "def generate_and_save_plots(df, save_dir=\"output/plots\"):\n",
        "\n",
        "    if not os.path.exists(save_dir):\n",
        "        os.makedirs(save_dir)\n",
        "\n",
        "    data = df.copy()\n",
        "\n",
        "    # Group the data by Hemisphere and Heart Attack Risk\n",
        "    hemisphere_risk_grouped = (\n",
        "        data.groupby([\"Hemisphere\", \"Heart Attack Risk\"])\n",
        "        .size()\n",
        "        .reset_index(name=\"Count\")\n",
        "    )\n",
        "    fig_hemisphere_stacked = px.bar(\n",
        "        hemisphere_risk_grouped,\n",
        "        x=\"Hemisphere\",\n",
        "        y=\"Count\",\n",
        "        color=\"Heart Attack Risk\",\n",
        "        title=\"Heart Attack Risk by Hemisphere\",\n",
        "        labels={\n",
        "            \"Count\": \"Number of People\",\n",
        "            \"Heart Attack Risk\": \"Heart Attack Risk (0 = No, 1 = Yes)\",\n",
        "        },\n",
        "        barmode=\"stack\",\n",
        "        color_discrete_sequence=px.colors.qualitative.Set2,\n",
        "    )\n",
        "    #fig_hemisphere_stacked.write_image(f\"{save_dir}/hemisphere_heart_attack_risk.png\")\n",
        "    fig_hemisphere_stacked.show()\n",
        "\n",
        "    # Group by Continent and Heart Attack Risk\n",
        "    continent_risk_grouped = (\n",
        "        data.groupby([\"Continent\", \"Heart Attack Risk\"])\n",
        "        .size()\n",
        "        .reset_index(name=\"Count\")\n",
        "    )\n",
        "    fig_continent_stacked = px.bar(\n",
        "        continent_risk_grouped,\n",
        "        x=\"Continent\",\n",
        "        y=\"Count\",\n",
        "        color=\"Heart Attack Risk\",\n",
        "        title=\"Heart Attack Risk by Continent\",\n",
        "        labels={\n",
        "            \"Count\": \"Number of People\",\n",
        "            \"Heart Attack Risk\": \"Heart Attack Risk (0 = No, 1 = Yes)\",\n",
        "        },\n",
        "        barmode=\"stack\",\n",
        "        color_discrete_sequence=px.colors.qualitative.Set1,\n",
        "    )\n",
        "    #fig_continent_stacked.write_image(f\"{save_dir}/continent_heart_attack_risk.png\")\n",
        "    fig_continent_stacked.show()\n",
        "\n",
        "    # Group by Country and Heart Attack Risk\n",
        "    country_risk_grouped = (\n",
        "        data.groupby([\"Country\", \"Heart Attack Risk\"]).size().reset_index(name=\"Count\")\n",
        "    )\n",
        "    fig_stacked_bar = px.bar(\n",
        "        country_risk_grouped,\n",
        "        x=\"Country\",\n",
        "        y=\"Count\",\n",
        "        color=\"Heart Attack Risk\",\n",
        "        title=\"Heart Attack Risk by Country\",\n",
        "        labels={\n",
        "            \"Count\": \"Number of People\",\n",
        "            \"Heart Attack Risk\": \"Heart Attack Risk (0 = No, 1 = Yes)\",\n",
        "        },\n",
        "        barmode=\"stack\",\n",
        "        color_discrete_sequence=px.colors.qualitative.Pastel,\n",
        "    )\n",
        "    #fig_stacked_bar.write_image(f\"{save_dir}/country_heart_attack_risk.png\")\n",
        "    fig_stacked_bar.show()\n",
        "\n",
        "    # Heart Attack Risk by Smoking Status and Gender\n",
        "    heart_risk_data = data[data[\"Heart Attack Risk\"] == 1]\n",
        "    smoking_gender_group = (\n",
        "        heart_risk_data.groupby([\"Sex\", \"Smoking\"]).size().reset_index(name=\"Count\")\n",
        "    )\n",
        "    fig_smoking_gender_grouped = px.bar(\n",
        "        smoking_gender_group,\n",
        "        x=\"Sex\",\n",
        "        y=\"Count\",\n",
        "        color=\"Smoking\",\n",
        "        barmode=\"group\",\n",
        "        title=\"Heart Attack Risk by Smoking Status and Gender\",\n",
        "        labels={\n",
        "            \"Smoking\": \"Smoking Status (0 = Non-smoker, 1 = Smoker)\",\n",
        "            \"Count\": \"Number of People\",\n",
        "        },\n",
        "        color_discrete_sequence=px.colors.qualitative.Bold,\n",
        "    )\n",
        "    # fig_smoking_gender_grouped.write_image(\n",
        "    #     f\"{save_dir}/smoking_gender_heart_attack_risk.png\"\n",
        "    # )\n",
        "    # fig_smoking_gender_grouped.show()\n",
        "\n",
        "    # Pie Chart for Average Heart Attack Risk by Gender\n",
        "    gender_risk = data.groupby(\"Sex\")[\"Heart Attack Risk\"].mean().reset_index()\n",
        "    fig_pie = px.pie(\n",
        "        gender_risk,\n",
        "        values=\"Heart Attack Risk\",\n",
        "        names=\"Sex\",\n",
        "        title=\"Average Heart Attack Risk by Gender\",\n",
        "        color_discrete_sequence=px.colors.qualitative.Set3,\n",
        "    )\n",
        "    #fig_pie.write_image(f\"{save_dir}/gender_heart_attack_risk_pie.png\")\n",
        "    fig_pie.show()\n",
        "\n",
        "    # Sunburst Chart for Heart Attack Risk by Gender\n",
        "    fig_sunburst = px.sunburst(\n",
        "        heart_risk_data,\n",
        "        path=[\"Sex\"],\n",
        "        values=\"Heart Attack Risk\",\n",
        "        title=\"Heart Attack Risk by Gender\",\n",
        "        color=\"Sex\",\n",
        "        color_discrete_sequence=px.colors.qualitative.Pastel1,\n",
        "    )\n",
        "    #fig_sunburst.write_image(f\"{save_dir}/gender_heart_attack_risk_sunburst.png\")\n",
        "    fig_sunburst.show()\n",
        "\n",
        "    # Violin plot for Cholesterol by Heart Attack Risk\n",
        "    fig_cholesterol_violin = px.violin(\n",
        "        data,\n",
        "        y=\"Cholesterol\",\n",
        "        x=\"Heart Attack Risk\",\n",
        "        color=\"Heart Attack Risk\",\n",
        "        title=\"Cholesterol Levels by Heart Attack Risk\",\n",
        "        box=True,\n",
        "        points=\"all\",\n",
        "        color_discrete_sequence=px.colors.qualitative.Set1,\n",
        "    )\n",
        "    # fig_cholesterol_violin.write_image(\n",
        "    #     f\"{save_dir}/cholesterol_heart_attack_risk_violin.png\"\n",
        "    # )\n",
        "    # fig_cholesterol_violin.show()\n",
        "\n",
        "    # Age distribution histogram for Heart Attack Risk = 1\n",
        "    fig_age_dist = px.histogram(\n",
        "        heart_risk_data,\n",
        "        x=\"Age\",\n",
        "        nbins=20,\n",
        "        title=\"Age Distribution for Heart Attack Risk = 1\",\n",
        "        color_discrete_sequence=px.colors.qualitative.Vivid,\n",
        "    )\n",
        "    #fig_age_dist.write_image(f\"{save_dir}/age_distribution_heart_attack_risk.png\")\n",
        "    fig_age_dist.show()\n",
        "\n",
        "    # Systolic and Diastolic Blood Pressure by Age Group and Heart Attack Risk\n",
        "    bp_split = data[\"Blood Pressure\"].str.split(\"/\", expand=True)\n",
        "    bp_split.columns = [\"Systolic_BP\", \"Diastolic_BP\"]\n",
        "    data[\"Systolic_BP\"] = pd.to_numeric(bp_split[\"Systolic_BP\"], errors=\"coerce\")\n",
        "    data[\"Diastolic_BP\"] = pd.to_numeric(bp_split[\"Diastolic_BP\"], errors=\"coerce\")\n",
        "    data[\"Age Group\"] = pd.cut(\n",
        "        data[\"Age\"], bins=[0, 30, 45, 60, 100], labels=[\"<30\", \"30-45\", \"45-60\", \"60+\"]\n",
        "    )\n",
        "\n",
        "    bp_grouped = (\n",
        "        data.groupby([\"Age Group\", \"Heart Attack Risk\"])\n",
        "        .agg({\"Systolic_BP\": \"mean\", \"Diastolic_BP\": \"mean\"})\n",
        "        .reset_index()\n",
        "    )\n",
        "\n",
        "    # Systolic Blood Pressure\n",
        "    fig_systolic_stacked = px.bar(\n",
        "        bp_grouped,\n",
        "        x=\"Age Group\",\n",
        "        y=\"Systolic_BP\",\n",
        "        color=\"Heart Attack Risk\",\n",
        "        title=\"Systolic Blood Pressure by Age Group and Heart Attack Risk\",\n",
        "        labels={\n",
        "            \"Systolic_BP\": \"Mean Systolic BP\",\n",
        "            \"Heart Attack Risk\": \"Heart Attack Risk (0 = No, 1 = Yes)\",\n",
        "        },\n",
        "        barmode=\"stack\",\n",
        "        color_discrete_sequence=px.colors.qualitative.Set1,\n",
        "    )\n",
        "    #fig_systolic_stacked.write_image(f\"{save_dir}/systolic_bp_heart_attack_risk.png\")\n",
        "    fig_systolic_stacked.show()\n",
        "\n",
        "    # Diastolic Blood Pressure\n",
        "    fig_diastolic_stacked = px.bar(\n",
        "        bp_grouped,\n",
        "        x=\"Age Group\",\n",
        "        y=\"Diastolic_BP\",\n",
        "        color=\"Heart Attack Risk\",\n",
        "        title=\"Diastolic Blood Pressure by Age Group and Heart Attack Risk\",\n",
        "        labels={\n",
        "            \"Diastolic_BP\": \"Mean Diastolic BP\",\n",
        "            \"Heart Attack Risk\": \"Heart Attack Risk (0 = No, 1 = Yes)\",\n",
        "        },\n",
        "        barmode=\"stack\",\n",
        "        color_discrete_sequence=px.colors.qualitative.Set2,\n",
        "    )\n",
        "    #fig_diastolic_stacked.write_image(f\"{save_dir}/diastolic_bp_heart_attack_risk.png\")\n",
        "    fig_diastolic_stacked.show()\n",
        "\n",
        "generate_and_save_plots(df, save_dir=\"output/plots\")"
      ]
    },
    {
      "cell_type": "code",
      "execution_count": null,
      "metadata": {
        "id": "Vf3EpMNGaY1c",
        "outputId": "567beeb4-4a41-40c5-f723-2ce912a05171"
      },
      "outputs": [
        {
          "data": {
            "text/html": [
              "<div>\n",
              "<style scoped>\n",
              "    .dataframe tbody tr th:only-of-type {\n",
              "        vertical-align: middle;\n",
              "    }\n",
              "\n",
              "    .dataframe tbody tr th {\n",
              "        vertical-align: top;\n",
              "    }\n",
              "\n",
              "    .dataframe thead th {\n",
              "        text-align: right;\n",
              "    }\n",
              "</style>\n",
              "<table border=\"1\" class=\"dataframe\">\n",
              "  <thead>\n",
              "    <tr style=\"text-align: right;\">\n",
              "      <th></th>\n",
              "      <th>Columns</th>\n",
              "      <th>count</th>\n",
              "      <th>mean</th>\n",
              "      <th>std</th>\n",
              "      <th>min</th>\n",
              "      <th>25%</th>\n",
              "      <th>50%</th>\n",
              "      <th>75%</th>\n",
              "      <th>max</th>\n",
              "      <th>skew</th>\n",
              "      <th>kurtosis</th>\n",
              "      <th>missing</th>\n",
              "      <th>unique</th>\n",
              "    </tr>\n",
              "  </thead>\n",
              "  <tbody>\n",
              "    <tr>\n",
              "      <th>0</th>\n",
              "      <td>Age</td>\n",
              "      <td>8763</td>\n",
              "      <td>53</td>\n",
              "      <td>21</td>\n",
              "      <td>18</td>\n",
              "      <td>35</td>\n",
              "      <td>54</td>\n",
              "      <td>72</td>\n",
              "      <td>90</td>\n",
              "      <td>0.0</td>\n",
              "      <td>-1.2</td>\n",
              "      <td>0</td>\n",
              "      <td>73</td>\n",
              "    </tr>\n",
              "    <tr>\n",
              "      <th>1</th>\n",
              "      <td>Cholesterol</td>\n",
              "      <td>8763</td>\n",
              "      <td>259</td>\n",
              "      <td>80</td>\n",
              "      <td>120</td>\n",
              "      <td>192</td>\n",
              "      <td>259</td>\n",
              "      <td>330</td>\n",
              "      <td>400</td>\n",
              "      <td>-0.0</td>\n",
              "      <td>-1.2</td>\n",
              "      <td>0</td>\n",
              "      <td>281</td>\n",
              "    </tr>\n",
              "    <tr>\n",
              "      <th>2</th>\n",
              "      <td>Heart Rate</td>\n",
              "      <td>8763</td>\n",
              "      <td>75</td>\n",
              "      <td>20</td>\n",
              "      <td>40</td>\n",
              "      <td>57</td>\n",
              "      <td>75</td>\n",
              "      <td>93</td>\n",
              "      <td>110</td>\n",
              "      <td>-0.0</td>\n",
              "      <td>-1.2</td>\n",
              "      <td>0</td>\n",
              "      <td>71</td>\n",
              "    </tr>\n",
              "    <tr>\n",
              "      <th>3</th>\n",
              "      <td>Diabetes</td>\n",
              "      <td>8763</td>\n",
              "      <td>0</td>\n",
              "      <td>0</td>\n",
              "      <td>0</td>\n",
              "      <td>0</td>\n",
              "      <td>1</td>\n",
              "      <td>1</td>\n",
              "      <td>1</td>\n",
              "      <td>-0.6</td>\n",
              "      <td>-1.6</td>\n",
              "      <td>0</td>\n",
              "      <td>2</td>\n",
              "    </tr>\n",
              "    <tr>\n",
              "      <th>4</th>\n",
              "      <td>Family History</td>\n",
              "      <td>8763</td>\n",
              "      <td>0</td>\n",
              "      <td>0</td>\n",
              "      <td>0</td>\n",
              "      <td>0</td>\n",
              "      <td>0</td>\n",
              "      <td>1</td>\n",
              "      <td>1</td>\n",
              "      <td>0.0</td>\n",
              "      <td>-2.0</td>\n",
              "      <td>0</td>\n",
              "      <td>2</td>\n",
              "    </tr>\n",
              "    <tr>\n",
              "      <th>5</th>\n",
              "      <td>Smoking</td>\n",
              "      <td>8763</td>\n",
              "      <td>0</td>\n",
              "      <td>0</td>\n",
              "      <td>0</td>\n",
              "      <td>1</td>\n",
              "      <td>1</td>\n",
              "      <td>1</td>\n",
              "      <td>1</td>\n",
              "      <td>-2.6</td>\n",
              "      <td>4.8</td>\n",
              "      <td>0</td>\n",
              "      <td>2</td>\n",
              "    </tr>\n",
              "    <tr>\n",
              "      <th>6</th>\n",
              "      <td>Obesity</td>\n",
              "      <td>8763</td>\n",
              "      <td>0</td>\n",
              "      <td>0</td>\n",
              "      <td>0</td>\n",
              "      <td>0</td>\n",
              "      <td>1</td>\n",
              "      <td>1</td>\n",
              "      <td>1</td>\n",
              "      <td>-0.0</td>\n",
              "      <td>-2.0</td>\n",
              "      <td>0</td>\n",
              "      <td>2</td>\n",
              "    </tr>\n",
              "    <tr>\n",
              "      <th>7</th>\n",
              "      <td>Alcohol Consumption</td>\n",
              "      <td>8763</td>\n",
              "      <td>0</td>\n",
              "      <td>0</td>\n",
              "      <td>0</td>\n",
              "      <td>0</td>\n",
              "      <td>1</td>\n",
              "      <td>1</td>\n",
              "      <td>1</td>\n",
              "      <td>-0.4</td>\n",
              "      <td>-1.8</td>\n",
              "      <td>0</td>\n",
              "      <td>2</td>\n",
              "    </tr>\n",
              "    <tr>\n",
              "      <th>8</th>\n",
              "      <td>Exercise Hours/Week</td>\n",
              "      <td>8763</td>\n",
              "      <td>10</td>\n",
              "      <td>5</td>\n",
              "      <td>0</td>\n",
              "      <td>4</td>\n",
              "      <td>10</td>\n",
              "      <td>15</td>\n",
              "      <td>19</td>\n",
              "      <td>-0.0</td>\n",
              "      <td>-1.2</td>\n",
              "      <td>0</td>\n",
              "      <td>8763</td>\n",
              "    </tr>\n",
              "    <tr>\n",
              "      <th>9</th>\n",
              "      <td>Previous Heart Problems</td>\n",
              "      <td>8763</td>\n",
              "      <td>0</td>\n",
              "      <td>0</td>\n",
              "      <td>0</td>\n",
              "      <td>0</td>\n",
              "      <td>0</td>\n",
              "      <td>1</td>\n",
              "      <td>1</td>\n",
              "      <td>0.0</td>\n",
              "      <td>-2.0</td>\n",
              "      <td>0</td>\n",
              "      <td>2</td>\n",
              "    </tr>\n",
              "    <tr>\n",
              "      <th>10</th>\n",
              "      <td>Medication Use</td>\n",
              "      <td>8763</td>\n",
              "      <td>0</td>\n",
              "      <td>0</td>\n",
              "      <td>0</td>\n",
              "      <td>0</td>\n",
              "      <td>0</td>\n",
              "      <td>1</td>\n",
              "      <td>1</td>\n",
              "      <td>0.0</td>\n",
              "      <td>-2.0</td>\n",
              "      <td>0</td>\n",
              "      <td>2</td>\n",
              "    </tr>\n",
              "    <tr>\n",
              "      <th>11</th>\n",
              "      <td>Stress Level</td>\n",
              "      <td>8763</td>\n",
              "      <td>5</td>\n",
              "      <td>2</td>\n",
              "      <td>1</td>\n",
              "      <td>3</td>\n",
              "      <td>5</td>\n",
              "      <td>8</td>\n",
              "      <td>10</td>\n",
              "      <td>0.0</td>\n",
              "      <td>-1.2</td>\n",
              "      <td>0</td>\n",
              "      <td>10</td>\n",
              "    </tr>\n",
              "    <tr>\n",
              "      <th>12</th>\n",
              "      <td>Sedentary Hours/Day</td>\n",
              "      <td>8763</td>\n",
              "      <td>5</td>\n",
              "      <td>3</td>\n",
              "      <td>0</td>\n",
              "      <td>2</td>\n",
              "      <td>5</td>\n",
              "      <td>9</td>\n",
              "      <td>11</td>\n",
              "      <td>0.0</td>\n",
              "      <td>-1.2</td>\n",
              "      <td>0</td>\n",
              "      <td>8763</td>\n",
              "    </tr>\n",
              "    <tr>\n",
              "      <th>13</th>\n",
              "      <td>Income</td>\n",
              "      <td>8763</td>\n",
              "      <td>158263</td>\n",
              "      <td>80575</td>\n",
              "      <td>20062</td>\n",
              "      <td>88310</td>\n",
              "      <td>157866</td>\n",
              "      <td>227749</td>\n",
              "      <td>299954</td>\n",
              "      <td>0.0</td>\n",
              "      <td>-1.2</td>\n",
              "      <td>0</td>\n",
              "      <td>8615</td>\n",
              "    </tr>\n",
              "    <tr>\n",
              "      <th>14</th>\n",
              "      <td>BMI</td>\n",
              "      <td>8763</td>\n",
              "      <td>28</td>\n",
              "      <td>6</td>\n",
              "      <td>18</td>\n",
              "      <td>23</td>\n",
              "      <td>28</td>\n",
              "      <td>34</td>\n",
              "      <td>39</td>\n",
              "      <td>0.0</td>\n",
              "      <td>-1.2</td>\n",
              "      <td>0</td>\n",
              "      <td>8763</td>\n",
              "    </tr>\n",
              "    <tr>\n",
              "      <th>15</th>\n",
              "      <td>Triglycerides</td>\n",
              "      <td>8763</td>\n",
              "      <td>417</td>\n",
              "      <td>223</td>\n",
              "      <td>30</td>\n",
              "      <td>225</td>\n",
              "      <td>417</td>\n",
              "      <td>612</td>\n",
              "      <td>800</td>\n",
              "      <td>-0.0</td>\n",
              "      <td>-1.2</td>\n",
              "      <td>0</td>\n",
              "      <td>771</td>\n",
              "    </tr>\n",
              "    <tr>\n",
              "      <th>16</th>\n",
              "      <td>Excercise- Days/Week</td>\n",
              "      <td>8763</td>\n",
              "      <td>3</td>\n",
              "      <td>2</td>\n",
              "      <td>0</td>\n",
              "      <td>2</td>\n",
              "      <td>3</td>\n",
              "      <td>5</td>\n",
              "      <td>7</td>\n",
              "      <td>0.0</td>\n",
              "      <td>-1.2</td>\n",
              "      <td>0</td>\n",
              "      <td>8</td>\n",
              "    </tr>\n",
              "    <tr>\n",
              "      <th>17</th>\n",
              "      <td>Sleep Hours/Day</td>\n",
              "      <td>8763</td>\n",
              "      <td>7</td>\n",
              "      <td>1</td>\n",
              "      <td>4</td>\n",
              "      <td>5</td>\n",
              "      <td>7</td>\n",
              "      <td>9</td>\n",
              "      <td>10</td>\n",
              "      <td>0.0</td>\n",
              "      <td>-1.2</td>\n",
              "      <td>0</td>\n",
              "      <td>7</td>\n",
              "    </tr>\n",
              "    <tr>\n",
              "      <th>18</th>\n",
              "      <td>Heart Attack Risk</td>\n",
              "      <td>8763</td>\n",
              "      <td>0</td>\n",
              "      <td>0</td>\n",
              "      <td>0</td>\n",
              "      <td>0</td>\n",
              "      <td>0</td>\n",
              "      <td>1</td>\n",
              "      <td>1</td>\n",
              "      <td>0.6</td>\n",
              "      <td>-1.7</td>\n",
              "      <td>0</td>\n",
              "      <td>2</td>\n",
              "    </tr>\n",
              "  </tbody>\n",
              "</table>\n",
              "</div>"
            ],
            "text/plain": [
              "                    Columns  count    mean    std    min    25%     50%  \\\n",
              "0                       Age   8763      53     21     18     35      54   \n",
              "1               Cholesterol   8763     259     80    120    192     259   \n",
              "2                Heart Rate   8763      75     20     40     57      75   \n",
              "3                  Diabetes   8763       0      0      0      0       1   \n",
              "4            Family History   8763       0      0      0      0       0   \n",
              "5                   Smoking   8763       0      0      0      1       1   \n",
              "6                   Obesity   8763       0      0      0      0       1   \n",
              "7       Alcohol Consumption   8763       0      0      0      0       1   \n",
              "8       Exercise Hours/Week   8763      10      5      0      4      10   \n",
              "9   Previous Heart Problems   8763       0      0      0      0       0   \n",
              "10           Medication Use   8763       0      0      0      0       0   \n",
              "11             Stress Level   8763       5      2      1      3       5   \n",
              "12      Sedentary Hours/Day   8763       5      3      0      2       5   \n",
              "13                   Income   8763  158263  80575  20062  88310  157866   \n",
              "14                      BMI   8763      28      6     18     23      28   \n",
              "15            Triglycerides   8763     417    223     30    225     417   \n",
              "16     Excercise- Days/Week   8763       3      2      0      2       3   \n",
              "17          Sleep Hours/Day   8763       7      1      4      5       7   \n",
              "18        Heart Attack Risk   8763       0      0      0      0       0   \n",
              "\n",
              "       75%     max  skew  kurtosis  missing  unique  \n",
              "0       72      90   0.0      -1.2        0      73  \n",
              "1      330     400  -0.0      -1.2        0     281  \n",
              "2       93     110  -0.0      -1.2        0      71  \n",
              "3        1       1  -0.6      -1.6        0       2  \n",
              "4        1       1   0.0      -2.0        0       2  \n",
              "5        1       1  -2.6       4.8        0       2  \n",
              "6        1       1  -0.0      -2.0        0       2  \n",
              "7        1       1  -0.4      -1.8        0       2  \n",
              "8       15      19  -0.0      -1.2        0    8763  \n",
              "9        1       1   0.0      -2.0        0       2  \n",
              "10       1       1   0.0      -2.0        0       2  \n",
              "11       8      10   0.0      -1.2        0      10  \n",
              "12       9      11   0.0      -1.2        0    8763  \n",
              "13  227749  299954   0.0      -1.2        0    8615  \n",
              "14      34      39   0.0      -1.2        0    8763  \n",
              "15     612     800  -0.0      -1.2        0     771  \n",
              "16       5       7   0.0      -1.2        0       8  \n",
              "17       9      10   0.0      -1.2        0       7  \n",
              "18       1       1   0.6      -1.7        0       2  "
            ]
          },
          "execution_count": 6,
          "metadata": {},
          "output_type": "execute_result"
        }
      ],
      "source": [
        "\n",
        "def create_summary_table(df):\n",
        "    \"\"\"\n",
        "    Create a detailed summary table with additional statistical metrics.\n",
        "    \"\"\"\n",
        "    df = df.select_dtypes(include=[\"float64\", \"int64\", \"float32\", \"int32\"])\n",
        "    summary = df.describe(include=\"all\").transpose()\n",
        "    # Additional statistical metrics with rounding to 1 decimal place\n",
        "    summary[\"skewness\"] = df.skew().round(1)\n",
        "    summary[\"kurtosis\"] = df.kurtosis().round(1)\n",
        "    summary[\"missing_values\"] = df.isnull().sum()\n",
        "    summary[\"unique_values\"] = df.nunique()\n",
        "\n",
        "    cols_to_int = summary.columns.difference([\"skewness\", \"kurtosis\"])\n",
        "    summary[cols_to_int] = summary[cols_to_int].astype(int)\n",
        "    summary.rename(\n",
        "        columns={\n",
        "            \"skewness\": \"skew\",\n",
        "            \"missing_values\": \"missing\",\n",
        "            \"unique_values\": \"unique\",\n",
        "        },\n",
        "        inplace=True,\n",
        "    )\n",
        "    summary.reset_index(names=\"Columns\", inplace=True)\n",
        "    summary.Columns = summary.Columns.str.replace(\" Per \", \"/\")\n",
        "    summary.Columns = summary.Columns.str.replace(\"Physical Activity\", \"Excercise-\")\n",
        "    return summary\n",
        "\n",
        "create_summary_table(df)"
      ]
    }
  ],
  "metadata": {
    "kernelspec": {
      "display_name": "Python 3",
      "language": "python",
      "name": "python3"
    },
    "language_info": {
      "codemirror_mode": {
        "name": "ipython",
        "version": 3
      },
      "file_extension": ".py",
      "mimetype": "text/x-python",
      "name": "python",
      "nbconvert_exporter": "python",
      "pygments_lexer": "ipython3",
      "version": "3.11.9"
    },
    "colab": {
      "provenance": [],
      "include_colab_link": true
    }
  },
  "nbformat": 4,
  "nbformat_minor": 0
}